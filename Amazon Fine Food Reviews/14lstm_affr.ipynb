{
 "cells": [
  {
   "cell_type": "markdown",
   "metadata": {},
   "source": [
    "# Amazon Fine Food Reviews Analysis\n",
    "\n",
    "\n",
    "Data Source: https://www.kaggle.com/snap/amazon-fine-food-reviews <br>\n",
    "\n",
    "EDA: https://nycdatascience.com/blog/student-works/amazon-fine-foods-visualization/\n",
    "\n",
    "\n",
    "The Amazon Fine Food Reviews dataset consists of reviews of fine foods from Amazon.<br>\n",
    "\n",
    "Number of reviews: 568,454<br>\n",
    "Number of users: 256,059<br>\n",
    "Number of products: 74,258<br>\n",
    "Timespan: Oct 1999 - Oct 2012<br>\n",
    "Number of Attributes/Columns in data: 10 \n",
    "\n",
    "Attribute Information:\n",
    "\n",
    "1. Id\n",
    "2. ProductId - unique identifier for the product\n",
    "3. UserId - unqiue identifier for the user\n",
    "4. ProfileName\n",
    "5. HelpfulnessNumerator - number of users who found the review helpful\n",
    "6. HelpfulnessDenominator - number of users who indicated whether they found the review helpful or not\n",
    "7. Score - rating between 1 and 5\n",
    "8. Time - timestamp for the review\n",
    "9. Summary - brief summary of the review\n",
    "10. Text - text of the review\n",
    "\n",
    "\n",
    "#### Objective:\n",
    "Given a review, determine whether the review is positive (rating of 4 or 5) or negative (rating of 1 or 2).\n",
    "\n",
    "<br>\n",
    "[Q] How to determine if a review is positive or negative?<br>\n",
    "<br> \n",
    "[Ans] We could use Score/Rating. A rating of 4 or 5 can be cosnidered as a positive review. A rating of 1 or 2 can be considered as negative one. A review of rating 3 is considered nuetral and such reviews are ignored from our analysis. This is an approximate and proxy way of determining the polarity (positivity/negativity) of a review.\n",
    "\n",
    "\n"
   ]
  },
  {
   "cell_type": "markdown",
   "metadata": {},
   "source": [
    "# [1]. Reading Data "
   ]
  },
  {
   "cell_type": "markdown",
   "metadata": {},
   "source": [
    "## [1.1] Loading the data\n",
    "\n",
    "The dataset is available in two forms\n",
    "1. .csv file\n",
    "2. SQLite Database\n",
    "\n",
    "In order to load the data, We have used the SQLITE dataset as it is easier to query the data and visualise the data efficiently.\n",
    "<br> \n",
    "\n",
    "Here as we only want to get the global sentiment of the recommendations (positive or negative), we will purposefully ignore all Scores equal to 3. If the score is above 3, then the recommendation wil be set to \"positive\". Otherwise, it will be set to \"negative\". "
   ]
  },
  {
   "cell_type": "code",
   "execution_count": 1,
   "metadata": {},
   "outputs": [
    {
     "name": "stderr",
     "output_type": "stream",
     "text": [
      "Using TensorFlow backend.\n"
     ]
    }
   ],
   "source": [
    "%matplotlib inline\n",
    "import warnings\n",
    "warnings.filterwarnings(\"ignore\")\n",
    "\n",
    "\n",
    "import sqlite3\n",
    "import pandas as pd\n",
    "import numpy as np\n",
    "import nltk\n",
    "import string\n",
    "import matplotlib.pyplot as plt\n",
    "import seaborn as sns\n",
    "\n",
    "from sklearn.feature_extraction.text import CountVectorizer\n",
    "from sklearn import metrics\n",
    "from nltk.stem.porter import PorterStemmer\n",
    "\n",
    "import re\n",
    "# Tutorial about Python regular expressions: https://pymotw.com/2/re/\n",
    "import string\n",
    "from nltk.corpus import stopwords\n",
    "from nltk.stem import PorterStemmer\n",
    "from nltk.stem.wordnet import WordNetLemmatizer\n",
    "\n",
    "from gensim.models import Word2Vec\n",
    "from gensim.models import KeyedVectors\n",
    "import pickle\n",
    "\n",
    "from tqdm import tqdm\n",
    "import os\n",
    "from bs4 import BeautifulSoup\n",
    "\n",
    "from keras.preprocessing import sequence\n",
    "from keras.models import Sequential\n",
    "from keras.layers import Dense, Dropout\n",
    "from keras.layers import LSTM\n",
    "from keras.layers.embeddings import Embedding\n",
    "from keras import regularizers\n",
    "from keras.callbacks import EarlyStopping"
   ]
  },
  {
   "cell_type": "code",
   "execution_count": 2,
   "metadata": {},
   "outputs": [
    {
     "name": "stdout",
     "output_type": "stream",
     "text": [
      "Number of data points in our data (40000, 10)\n"
     ]
    },
    {
     "data": {
      "text/html": [
       "<div>\n",
       "<style scoped>\n",
       "    .dataframe tbody tr th:only-of-type {\n",
       "        vertical-align: middle;\n",
       "    }\n",
       "\n",
       "    .dataframe tbody tr th {\n",
       "        vertical-align: top;\n",
       "    }\n",
       "\n",
       "    .dataframe thead th {\n",
       "        text-align: right;\n",
       "    }\n",
       "</style>\n",
       "<table border=\"1\" class=\"dataframe\">\n",
       "  <thead>\n",
       "    <tr style=\"text-align: right;\">\n",
       "      <th></th>\n",
       "      <th>Id</th>\n",
       "      <th>ProductId</th>\n",
       "      <th>UserId</th>\n",
       "      <th>ProfileName</th>\n",
       "      <th>HelpfulnessNumerator</th>\n",
       "      <th>HelpfulnessDenominator</th>\n",
       "      <th>Score</th>\n",
       "      <th>Time</th>\n",
       "      <th>Summary</th>\n",
       "      <th>Text</th>\n",
       "    </tr>\n",
       "  </thead>\n",
       "  <tbody>\n",
       "    <tr>\n",
       "      <th>0</th>\n",
       "      <td>1</td>\n",
       "      <td>B001E4KFG0</td>\n",
       "      <td>A3SGXH7AUHU8GW</td>\n",
       "      <td>delmartian</td>\n",
       "      <td>1</td>\n",
       "      <td>1</td>\n",
       "      <td>1</td>\n",
       "      <td>1303862400</td>\n",
       "      <td>Good Quality Dog Food</td>\n",
       "      <td>I have bought several of the Vitality canned d...</td>\n",
       "    </tr>\n",
       "    <tr>\n",
       "      <th>1</th>\n",
       "      <td>2</td>\n",
       "      <td>B00813GRG4</td>\n",
       "      <td>A1D87F6ZCVE5NK</td>\n",
       "      <td>dll pa</td>\n",
       "      <td>0</td>\n",
       "      <td>0</td>\n",
       "      <td>0</td>\n",
       "      <td>1346976000</td>\n",
       "      <td>Not as Advertised</td>\n",
       "      <td>Product arrived labeled as Jumbo Salted Peanut...</td>\n",
       "    </tr>\n",
       "    <tr>\n",
       "      <th>2</th>\n",
       "      <td>3</td>\n",
       "      <td>B000LQOCH0</td>\n",
       "      <td>ABXLMWJIXXAIN</td>\n",
       "      <td>Natalia Corres \"Natalia Corres\"</td>\n",
       "      <td>1</td>\n",
       "      <td>1</td>\n",
       "      <td>1</td>\n",
       "      <td>1219017600</td>\n",
       "      <td>\"Delight\" says it all</td>\n",
       "      <td>This is a confection that has been around a fe...</td>\n",
       "    </tr>\n",
       "  </tbody>\n",
       "</table>\n",
       "</div>"
      ],
      "text/plain": [
       "   Id   ProductId          UserId                      ProfileName  \\\n",
       "0   1  B001E4KFG0  A3SGXH7AUHU8GW                       delmartian   \n",
       "1   2  B00813GRG4  A1D87F6ZCVE5NK                           dll pa   \n",
       "2   3  B000LQOCH0   ABXLMWJIXXAIN  Natalia Corres \"Natalia Corres\"   \n",
       "\n",
       "   HelpfulnessNumerator  HelpfulnessDenominator  Score        Time  \\\n",
       "0                     1                       1      1  1303862400   \n",
       "1                     0                       0      0  1346976000   \n",
       "2                     1                       1      1  1219017600   \n",
       "\n",
       "                 Summary                                               Text  \n",
       "0  Good Quality Dog Food  I have bought several of the Vitality canned d...  \n",
       "1      Not as Advertised  Product arrived labeled as Jumbo Salted Peanut...  \n",
       "2  \"Delight\" says it all  This is a confection that has been around a fe...  "
      ]
     },
     "execution_count": 2,
     "metadata": {},
     "output_type": "execute_result"
    }
   ],
   "source": [
    "# using SQLite Table to read data.\n",
    "con = sqlite3.connect('database.sqlite') \n",
    "\n",
    "# filtering only positive and negative reviews i.e. \n",
    "# not taking into consideration those reviews with Score=3\n",
    "# SELECT * FROM Reviews WHERE Score != 3 LIMIT 500000, will give top 500000 data points\n",
    "# you can change the number to any other number based on your computing power\n",
    "\n",
    "# filtered_data = pd.read_sql_query(\"\"\" SELECT * FROM Reviews WHERE Score != 3 LIMIT 500000\"\"\", con) \n",
    "# for tsne assignment you can take 5k data points\n",
    "\n",
    "filtered_data = pd.read_sql_query(\"\"\" SELECT * FROM Reviews WHERE Score != 3 LIMIT 40000\"\"\", con) \n",
    "\n",
    "# Give reviews with Score>3 a positive rating(1), and reviews with a score<3 a negative rating(0).\n",
    "def partition(x):\n",
    "    if x < 3:\n",
    "        return 0\n",
    "    return 1\n",
    "\n",
    "#changing reviews with score less than 3 to be positive and vice-versa\n",
    "actualScore = filtered_data['Score']\n",
    "positiveNegative = actualScore.map(partition) \n",
    "filtered_data['Score'] = positiveNegative\n",
    "print(\"Number of data points in our data\", filtered_data.shape)\n",
    "filtered_data.head(3)"
   ]
  },
  {
   "cell_type": "code",
   "execution_count": 3,
   "metadata": {},
   "outputs": [],
   "source": [
    "display = pd.read_sql_query(\"\"\"\n",
    "SELECT UserId, ProductId, ProfileName, Time, Score, Text, COUNT(*)\n",
    "FROM Reviews\n",
    "GROUP BY UserId\n",
    "HAVING COUNT(*)>1\n",
    "\"\"\", con)"
   ]
  },
  {
   "cell_type": "code",
   "execution_count": 4,
   "metadata": {},
   "outputs": [
    {
     "name": "stdout",
     "output_type": "stream",
     "text": [
      "(80668, 7)\n"
     ]
    },
    {
     "data": {
      "text/html": [
       "<div>\n",
       "<style scoped>\n",
       "    .dataframe tbody tr th:only-of-type {\n",
       "        vertical-align: middle;\n",
       "    }\n",
       "\n",
       "    .dataframe tbody tr th {\n",
       "        vertical-align: top;\n",
       "    }\n",
       "\n",
       "    .dataframe thead th {\n",
       "        text-align: right;\n",
       "    }\n",
       "</style>\n",
       "<table border=\"1\" class=\"dataframe\">\n",
       "  <thead>\n",
       "    <tr style=\"text-align: right;\">\n",
       "      <th></th>\n",
       "      <th>UserId</th>\n",
       "      <th>ProductId</th>\n",
       "      <th>ProfileName</th>\n",
       "      <th>Time</th>\n",
       "      <th>Score</th>\n",
       "      <th>Text</th>\n",
       "      <th>COUNT(*)</th>\n",
       "    </tr>\n",
       "  </thead>\n",
       "  <tbody>\n",
       "    <tr>\n",
       "      <th>0</th>\n",
       "      <td>#oc-R115TNMSPFT9I7</td>\n",
       "      <td>B005ZBZLT4</td>\n",
       "      <td>Breyton</td>\n",
       "      <td>1331510400</td>\n",
       "      <td>2</td>\n",
       "      <td>Overall its just OK when considering the price...</td>\n",
       "      <td>2</td>\n",
       "    </tr>\n",
       "    <tr>\n",
       "      <th>1</th>\n",
       "      <td>#oc-R11D9D7SHXIJB9</td>\n",
       "      <td>B005HG9ESG</td>\n",
       "      <td>Louis E. Emory \"hoppy\"</td>\n",
       "      <td>1342396800</td>\n",
       "      <td>5</td>\n",
       "      <td>My wife has recurring extreme muscle spasms, u...</td>\n",
       "      <td>3</td>\n",
       "    </tr>\n",
       "    <tr>\n",
       "      <th>2</th>\n",
       "      <td>#oc-R11DNU2NBKQ23Z</td>\n",
       "      <td>B005ZBZLT4</td>\n",
       "      <td>Kim Cieszykowski</td>\n",
       "      <td>1348531200</td>\n",
       "      <td>1</td>\n",
       "      <td>This coffee is horrible and unfortunately not ...</td>\n",
       "      <td>2</td>\n",
       "    </tr>\n",
       "    <tr>\n",
       "      <th>3</th>\n",
       "      <td>#oc-R11O5J5ZVQE25C</td>\n",
       "      <td>B005HG9ESG</td>\n",
       "      <td>Penguin Chick</td>\n",
       "      <td>1346889600</td>\n",
       "      <td>5</td>\n",
       "      <td>This will be the bottle that you grab from the...</td>\n",
       "      <td>3</td>\n",
       "    </tr>\n",
       "    <tr>\n",
       "      <th>4</th>\n",
       "      <td>#oc-R12KPBODL2B5ZD</td>\n",
       "      <td>B007OSBEV0</td>\n",
       "      <td>Christopher P. Presta</td>\n",
       "      <td>1348617600</td>\n",
       "      <td>1</td>\n",
       "      <td>I didnt like this coffee. Instead of telling y...</td>\n",
       "      <td>2</td>\n",
       "    </tr>\n",
       "  </tbody>\n",
       "</table>\n",
       "</div>"
      ],
      "text/plain": [
       "               UserId   ProductId             ProfileName        Time  Score  \\\n",
       "0  #oc-R115TNMSPFT9I7  B005ZBZLT4                 Breyton  1331510400      2   \n",
       "1  #oc-R11D9D7SHXIJB9  B005HG9ESG  Louis E. Emory \"hoppy\"  1342396800      5   \n",
       "2  #oc-R11DNU2NBKQ23Z  B005ZBZLT4        Kim Cieszykowski  1348531200      1   \n",
       "3  #oc-R11O5J5ZVQE25C  B005HG9ESG           Penguin Chick  1346889600      5   \n",
       "4  #oc-R12KPBODL2B5ZD  B007OSBEV0   Christopher P. Presta  1348617600      1   \n",
       "\n",
       "                                                Text  COUNT(*)  \n",
       "0  Overall its just OK when considering the price...         2  \n",
       "1  My wife has recurring extreme muscle spasms, u...         3  \n",
       "2  This coffee is horrible and unfortunately not ...         2  \n",
       "3  This will be the bottle that you grab from the...         3  \n",
       "4  I didnt like this coffee. Instead of telling y...         2  "
      ]
     },
     "execution_count": 4,
     "metadata": {},
     "output_type": "execute_result"
    }
   ],
   "source": [
    "print(display.shape)\n",
    "display.head()"
   ]
  },
  {
   "cell_type": "code",
   "execution_count": 5,
   "metadata": {},
   "outputs": [
    {
     "data": {
      "text/html": [
       "<div>\n",
       "<style scoped>\n",
       "    .dataframe tbody tr th:only-of-type {\n",
       "        vertical-align: middle;\n",
       "    }\n",
       "\n",
       "    .dataframe tbody tr th {\n",
       "        vertical-align: top;\n",
       "    }\n",
       "\n",
       "    .dataframe thead th {\n",
       "        text-align: right;\n",
       "    }\n",
       "</style>\n",
       "<table border=\"1\" class=\"dataframe\">\n",
       "  <thead>\n",
       "    <tr style=\"text-align: right;\">\n",
       "      <th></th>\n",
       "      <th>UserId</th>\n",
       "      <th>ProductId</th>\n",
       "      <th>ProfileName</th>\n",
       "      <th>Time</th>\n",
       "      <th>Score</th>\n",
       "      <th>Text</th>\n",
       "      <th>COUNT(*)</th>\n",
       "    </tr>\n",
       "  </thead>\n",
       "  <tbody>\n",
       "    <tr>\n",
       "      <th>80638</th>\n",
       "      <td>AZY10LLTJ71NX</td>\n",
       "      <td>B001ATMQK2</td>\n",
       "      <td>undertheshrine \"undertheshrine\"</td>\n",
       "      <td>1296691200</td>\n",
       "      <td>5</td>\n",
       "      <td>I bought this 6 pack because for the price tha...</td>\n",
       "      <td>5</td>\n",
       "    </tr>\n",
       "  </tbody>\n",
       "</table>\n",
       "</div>"
      ],
      "text/plain": [
       "              UserId   ProductId                      ProfileName        Time  \\\n",
       "80638  AZY10LLTJ71NX  B001ATMQK2  undertheshrine \"undertheshrine\"  1296691200   \n",
       "\n",
       "       Score                                               Text  COUNT(*)  \n",
       "80638      5  I bought this 6 pack because for the price tha...         5  "
      ]
     },
     "execution_count": 5,
     "metadata": {},
     "output_type": "execute_result"
    }
   ],
   "source": [
    "display[display['UserId']=='AZY10LLTJ71NX']"
   ]
  },
  {
   "cell_type": "code",
   "execution_count": 6,
   "metadata": {},
   "outputs": [
    {
     "data": {
      "text/plain": [
       "393063"
      ]
     },
     "execution_count": 6,
     "metadata": {},
     "output_type": "execute_result"
    }
   ],
   "source": [
    "display['COUNT(*)'].sum()"
   ]
  },
  {
   "cell_type": "markdown",
   "metadata": {},
   "source": [
    "#  [2] Exploratory Data Analysis"
   ]
  },
  {
   "cell_type": "markdown",
   "metadata": {},
   "source": [
    "# [2.1] Data Cleaning: Deduplication\n",
    "\n",
    "It is observed (as shown in the table below) that the reviews data had many duplicate entries. Hence it was necessary to remove duplicates in order to get unbiased results for the analysis of the data.  Following is an example:"
   ]
  },
  {
   "cell_type": "code",
   "execution_count": 7,
   "metadata": {},
   "outputs": [
    {
     "data": {
      "text/html": [
       "<div>\n",
       "<style scoped>\n",
       "    .dataframe tbody tr th:only-of-type {\n",
       "        vertical-align: middle;\n",
       "    }\n",
       "\n",
       "    .dataframe tbody tr th {\n",
       "        vertical-align: top;\n",
       "    }\n",
       "\n",
       "    .dataframe thead th {\n",
       "        text-align: right;\n",
       "    }\n",
       "</style>\n",
       "<table border=\"1\" class=\"dataframe\">\n",
       "  <thead>\n",
       "    <tr style=\"text-align: right;\">\n",
       "      <th></th>\n",
       "      <th>Id</th>\n",
       "      <th>ProductId</th>\n",
       "      <th>UserId</th>\n",
       "      <th>ProfileName</th>\n",
       "      <th>HelpfulnessNumerator</th>\n",
       "      <th>HelpfulnessDenominator</th>\n",
       "      <th>Score</th>\n",
       "      <th>Time</th>\n",
       "      <th>Summary</th>\n",
       "      <th>Text</th>\n",
       "    </tr>\n",
       "  </thead>\n",
       "  <tbody>\n",
       "    <tr>\n",
       "      <th>0</th>\n",
       "      <td>78445</td>\n",
       "      <td>B000HDL1RQ</td>\n",
       "      <td>AR5J8UI46CURR</td>\n",
       "      <td>Geetha Krishnan</td>\n",
       "      <td>2</td>\n",
       "      <td>2</td>\n",
       "      <td>5</td>\n",
       "      <td>1199577600</td>\n",
       "      <td>LOACKER QUADRATINI VANILLA WAFERS</td>\n",
       "      <td>DELICIOUS WAFERS. I FIND THAT EUROPEAN WAFERS ...</td>\n",
       "    </tr>\n",
       "    <tr>\n",
       "      <th>1</th>\n",
       "      <td>138317</td>\n",
       "      <td>B000HDOPYC</td>\n",
       "      <td>AR5J8UI46CURR</td>\n",
       "      <td>Geetha Krishnan</td>\n",
       "      <td>2</td>\n",
       "      <td>2</td>\n",
       "      <td>5</td>\n",
       "      <td>1199577600</td>\n",
       "      <td>LOACKER QUADRATINI VANILLA WAFERS</td>\n",
       "      <td>DELICIOUS WAFERS. I FIND THAT EUROPEAN WAFERS ...</td>\n",
       "    </tr>\n",
       "    <tr>\n",
       "      <th>2</th>\n",
       "      <td>138277</td>\n",
       "      <td>B000HDOPYM</td>\n",
       "      <td>AR5J8UI46CURR</td>\n",
       "      <td>Geetha Krishnan</td>\n",
       "      <td>2</td>\n",
       "      <td>2</td>\n",
       "      <td>5</td>\n",
       "      <td>1199577600</td>\n",
       "      <td>LOACKER QUADRATINI VANILLA WAFERS</td>\n",
       "      <td>DELICIOUS WAFERS. I FIND THAT EUROPEAN WAFERS ...</td>\n",
       "    </tr>\n",
       "    <tr>\n",
       "      <th>3</th>\n",
       "      <td>73791</td>\n",
       "      <td>B000HDOPZG</td>\n",
       "      <td>AR5J8UI46CURR</td>\n",
       "      <td>Geetha Krishnan</td>\n",
       "      <td>2</td>\n",
       "      <td>2</td>\n",
       "      <td>5</td>\n",
       "      <td>1199577600</td>\n",
       "      <td>LOACKER QUADRATINI VANILLA WAFERS</td>\n",
       "      <td>DELICIOUS WAFERS. I FIND THAT EUROPEAN WAFERS ...</td>\n",
       "    </tr>\n",
       "    <tr>\n",
       "      <th>4</th>\n",
       "      <td>155049</td>\n",
       "      <td>B000PAQ75C</td>\n",
       "      <td>AR5J8UI46CURR</td>\n",
       "      <td>Geetha Krishnan</td>\n",
       "      <td>2</td>\n",
       "      <td>2</td>\n",
       "      <td>5</td>\n",
       "      <td>1199577600</td>\n",
       "      <td>LOACKER QUADRATINI VANILLA WAFERS</td>\n",
       "      <td>DELICIOUS WAFERS. I FIND THAT EUROPEAN WAFERS ...</td>\n",
       "    </tr>\n",
       "  </tbody>\n",
       "</table>\n",
       "</div>"
      ],
      "text/plain": [
       "       Id   ProductId         UserId      ProfileName  HelpfulnessNumerator  \\\n",
       "0   78445  B000HDL1RQ  AR5J8UI46CURR  Geetha Krishnan                     2   \n",
       "1  138317  B000HDOPYC  AR5J8UI46CURR  Geetha Krishnan                     2   \n",
       "2  138277  B000HDOPYM  AR5J8UI46CURR  Geetha Krishnan                     2   \n",
       "3   73791  B000HDOPZG  AR5J8UI46CURR  Geetha Krishnan                     2   \n",
       "4  155049  B000PAQ75C  AR5J8UI46CURR  Geetha Krishnan                     2   \n",
       "\n",
       "   HelpfulnessDenominator  Score        Time  \\\n",
       "0                       2      5  1199577600   \n",
       "1                       2      5  1199577600   \n",
       "2                       2      5  1199577600   \n",
       "3                       2      5  1199577600   \n",
       "4                       2      5  1199577600   \n",
       "\n",
       "                             Summary  \\\n",
       "0  LOACKER QUADRATINI VANILLA WAFERS   \n",
       "1  LOACKER QUADRATINI VANILLA WAFERS   \n",
       "2  LOACKER QUADRATINI VANILLA WAFERS   \n",
       "3  LOACKER QUADRATINI VANILLA WAFERS   \n",
       "4  LOACKER QUADRATINI VANILLA WAFERS   \n",
       "\n",
       "                                                Text  \n",
       "0  DELICIOUS WAFERS. I FIND THAT EUROPEAN WAFERS ...  \n",
       "1  DELICIOUS WAFERS. I FIND THAT EUROPEAN WAFERS ...  \n",
       "2  DELICIOUS WAFERS. I FIND THAT EUROPEAN WAFERS ...  \n",
       "3  DELICIOUS WAFERS. I FIND THAT EUROPEAN WAFERS ...  \n",
       "4  DELICIOUS WAFERS. I FIND THAT EUROPEAN WAFERS ...  "
      ]
     },
     "execution_count": 7,
     "metadata": {},
     "output_type": "execute_result"
    }
   ],
   "source": [
    "display= pd.read_sql_query(\"\"\"\n",
    "SELECT *\n",
    "FROM Reviews\n",
    "WHERE Score != 3 AND UserId=\"AR5J8UI46CURR\"\n",
    "ORDER BY ProductID\n",
    "\"\"\", con)\n",
    "display.head()"
   ]
  },
  {
   "cell_type": "markdown",
   "metadata": {},
   "source": [
    "As it can be seen above that same user has multiple reviews with same values for HelpfulnessNumerator, HelpfulnessDenominator, Score, Time, Summary and Text and on doing analysis it was found that <br>\n",
    "<br> \n",
    "ProductId=B000HDOPZG was Loacker Quadratini Vanilla Wafer Cookies, 8.82-Ounce Packages (Pack of 8)<br>\n",
    "<br> \n",
    "ProductId=B000HDL1RQ was Loacker Quadratini Lemon Wafer Cookies, 8.82-Ounce Packages (Pack of 8) and so on<br>\n",
    "\n",
    "It was inferred after analysis that reviews with same parameters other than ProductId belonged to the same product just having different flavour or quantity. Hence in order to reduce redundancy it was decided to eliminate the rows having same parameters.<br>\n",
    "\n",
    "The method used for the same was that we first sort the data according to ProductId and then just keep the first similar product review and delelte the others. for eg. in the above just the review for ProductId=B000HDL1RQ remains. This method ensures that there is only one representative for each product and deduplication without sorting would lead to possibility of different representatives still existing for the same product."
   ]
  },
  {
   "cell_type": "code",
   "execution_count": 8,
   "metadata": {},
   "outputs": [],
   "source": [
    "#Sorting data according to ProductId in ascending order\n",
    "sorted_data=filtered_data.sort_values('ProductId', axis=0, ascending=True, inplace=False, kind='quicksort', na_position='last')"
   ]
  },
  {
   "cell_type": "code",
   "execution_count": 9,
   "metadata": {},
   "outputs": [
    {
     "data": {
      "text/plain": [
       "(37415, 10)"
      ]
     },
     "execution_count": 9,
     "metadata": {},
     "output_type": "execute_result"
    }
   ],
   "source": [
    "#Deduplication of entries\n",
    "final=sorted_data.drop_duplicates(subset={\"UserId\",\"ProfileName\",\"Time\",\"Text\"}, keep='first', inplace=False)\n",
    "final.shape"
   ]
  },
  {
   "cell_type": "code",
   "execution_count": 10,
   "metadata": {},
   "outputs": [
    {
     "data": {
      "text/plain": [
       "93.5375"
      ]
     },
     "execution_count": 10,
     "metadata": {},
     "output_type": "execute_result"
    }
   ],
   "source": [
    "#Checking to see how much % of data still remains\n",
    "(final['Id'].size*1.0)/(filtered_data['Id'].size*1.0)*100"
   ]
  },
  {
   "cell_type": "markdown",
   "metadata": {},
   "source": [
    "<b>Observation:-</b> It was also seen that in two rows given below the value of HelpfulnessNumerator is greater than HelpfulnessDenominator which is not practically possible hence these two rows too are removed from calcualtions "
   ]
  },
  {
   "cell_type": "code",
   "execution_count": 11,
   "metadata": {},
   "outputs": [
    {
     "data": {
      "text/html": [
       "<div>\n",
       "<style scoped>\n",
       "    .dataframe tbody tr th:only-of-type {\n",
       "        vertical-align: middle;\n",
       "    }\n",
       "\n",
       "    .dataframe tbody tr th {\n",
       "        vertical-align: top;\n",
       "    }\n",
       "\n",
       "    .dataframe thead th {\n",
       "        text-align: right;\n",
       "    }\n",
       "</style>\n",
       "<table border=\"1\" class=\"dataframe\">\n",
       "  <thead>\n",
       "    <tr style=\"text-align: right;\">\n",
       "      <th></th>\n",
       "      <th>Id</th>\n",
       "      <th>ProductId</th>\n",
       "      <th>UserId</th>\n",
       "      <th>ProfileName</th>\n",
       "      <th>HelpfulnessNumerator</th>\n",
       "      <th>HelpfulnessDenominator</th>\n",
       "      <th>Score</th>\n",
       "      <th>Time</th>\n",
       "      <th>Summary</th>\n",
       "      <th>Text</th>\n",
       "    </tr>\n",
       "  </thead>\n",
       "  <tbody>\n",
       "    <tr>\n",
       "      <th>0</th>\n",
       "      <td>64422</td>\n",
       "      <td>B000MIDROQ</td>\n",
       "      <td>A161DK06JJMCYF</td>\n",
       "      <td>J. E. Stephens \"Jeanne\"</td>\n",
       "      <td>3</td>\n",
       "      <td>1</td>\n",
       "      <td>5</td>\n",
       "      <td>1224892800</td>\n",
       "      <td>Bought This for My Son at College</td>\n",
       "      <td>My son loves spaghetti so I didn't hesitate or...</td>\n",
       "    </tr>\n",
       "    <tr>\n",
       "      <th>1</th>\n",
       "      <td>44737</td>\n",
       "      <td>B001EQ55RW</td>\n",
       "      <td>A2V0I904FH7ABY</td>\n",
       "      <td>Ram</td>\n",
       "      <td>3</td>\n",
       "      <td>2</td>\n",
       "      <td>4</td>\n",
       "      <td>1212883200</td>\n",
       "      <td>Pure cocoa taste with crunchy almonds inside</td>\n",
       "      <td>It was almost a 'love at first bite' - the per...</td>\n",
       "    </tr>\n",
       "  </tbody>\n",
       "</table>\n",
       "</div>"
      ],
      "text/plain": [
       "      Id   ProductId          UserId              ProfileName  \\\n",
       "0  64422  B000MIDROQ  A161DK06JJMCYF  J. E. Stephens \"Jeanne\"   \n",
       "1  44737  B001EQ55RW  A2V0I904FH7ABY                      Ram   \n",
       "\n",
       "   HelpfulnessNumerator  HelpfulnessDenominator  Score        Time  \\\n",
       "0                     3                       1      5  1224892800   \n",
       "1                     3                       2      4  1212883200   \n",
       "\n",
       "                                        Summary  \\\n",
       "0             Bought This for My Son at College   \n",
       "1  Pure cocoa taste with crunchy almonds inside   \n",
       "\n",
       "                                                Text  \n",
       "0  My son loves spaghetti so I didn't hesitate or...  \n",
       "1  It was almost a 'love at first bite' - the per...  "
      ]
     },
     "execution_count": 11,
     "metadata": {},
     "output_type": "execute_result"
    }
   ],
   "source": [
    "display= pd.read_sql_query(\"\"\"\n",
    "SELECT *\n",
    "FROM Reviews\n",
    "WHERE Score != 3 AND Id=44737 OR Id=64422\n",
    "ORDER BY ProductID\n",
    "\"\"\", con)\n",
    "\n",
    "display.head()"
   ]
  },
  {
   "cell_type": "code",
   "execution_count": 12,
   "metadata": {},
   "outputs": [],
   "source": [
    "final=final[final.HelpfulnessNumerator<=final.HelpfulnessDenominator]"
   ]
  },
  {
   "cell_type": "code",
   "execution_count": 13,
   "metadata": {},
   "outputs": [
    {
     "name": "stdout",
     "output_type": "stream",
     "text": [
      "(37415, 10)\n"
     ]
    },
    {
     "data": {
      "text/plain": [
       "1    31324\n",
       "0     6091\n",
       "Name: Score, dtype: int64"
      ]
     },
     "execution_count": 13,
     "metadata": {},
     "output_type": "execute_result"
    }
   ],
   "source": [
    "#Before starting the next phase of preprocessing lets see the number of entries left\n",
    "print(final.shape)\n",
    "\n",
    "#How many positive and negative reviews are present in our dataset?\n",
    "final['Score'].value_counts()"
   ]
  },
  {
   "cell_type": "markdown",
   "metadata": {},
   "source": [
    "#  [3] Preprocessing"
   ]
  },
  {
   "cell_type": "markdown",
   "metadata": {},
   "source": [
    "## [3.1].  Preprocessing Review Text\n",
    "\n",
    "Now that we have finished deduplication our data requires some preprocessing before we go on further with analysis and making the prediction model.\n",
    "\n",
    "Hence in the Preprocessing phase we do the following in the order below:-\n",
    "\n",
    "1. Begin by removing the html tags\n",
    "2. Remove any punctuations or limited set of special characters like , or . or # etc.\n",
    "3. Check if the word is made up of english letters and is not alpha-numeric\n",
    "4. Check to see if the length of the word is greater than 2 (as it was researched that there is no adjective in 2-letters)\n",
    "5. Convert the word to lowercase\n",
    "6. Remove Stopwords\n",
    "7. Finally Snowball Stemming the word (it was obsereved to be better than Porter Stemming)<br>\n",
    "\n",
    "After which we collect the words used to describe positive and negative reviews"
   ]
  },
  {
   "cell_type": "code",
   "execution_count": 14,
   "metadata": {},
   "outputs": [
    {
     "name": "stdout",
     "output_type": "stream",
     "text": [
      "Our dogs just love them.  I saw them in a pet store and a tag was attached regarding them being made in China and it satisfied me that they were safe.\n",
      "==================================================\n",
      "It's Branston pickle, what is there to say. If you've never tried it you most likely wont like it. If you grew up in the UK its a staple on cheese of cold meat sandwiches. It's on my lunch sandwich today! :)\n",
      "==================================================\n",
      "First Impression: The friendly folks over at \"Exclusively Dog\" heard about my website and sent me 5 of their products to test.<br />Let me just start off by saying that I Love how sweet all of these treats taste. Dad was/is considering trying one because they look and smell so much like human cookies. Plus the ingredients are very straight forward, they are probably healthier than most the stuff Mom eats... But there in lies the problem. Dad thinks that they are too sweet for a puppy of any age. The second ingredient in almost all of them is sugar. As we all know puppies have a hard time processing sugar, and just like humans can develop diabetes.<br /><br />Conclusion: Your puppy is nearly guaranteed to LOVE the taste. However these should only be used as an occasional treat! If you were to feed your puppies these sugary sweet morsels every day, they would soon plump up. If you puppy is already overweight or does not exercise regularly, you may want to think twice. On the PRO side they are all natural, with no animal bi-products! 3 out of 4 paws, because Dad made me! If we were judging on taste alone they would be a 4.\n",
      "==================================================\n",
      "It is hard to find candy that is overly sweet. My wife and Granddaughter both love Pink Grapefruit anyway and Pink Grapefruit candy has some of the tang of real grapefruit which cuts down on the sweetness a bit.<br />I did take away one star because I think they have a bit too much of sugar coating on the pieces but you can scrape some of it off to make it less sweet.<br />My wife uses the pieces when she has a low sugar spell since she is diabetic and sometimes when she has her insulin injections and doesn't eat quickly enough after that her blood sugar drops too low. Since I bought this she hasn't had that problem, but has to guard her supply from my Granddaughter though.<br />I have bought a pack for myself as well since I don't eat candy that often since I don't like overly sweet candy. This candy tastes good to me. I want to try the fruit salad next time just to have some change in taste. It has lime, grapefruit, lemon, orange, cherry and passion fruit and I like all of those flavors except cherry. But my wife likes cherry flavor so I can give those to her. Wish they had watermelon instead of cherry in that mix but its no big deal.\n",
      "==================================================\n"
     ]
    }
   ],
   "source": [
    "# printing some random reviews\n",
    "sent_0 = final['Text'].values[0]\n",
    "print(sent_0)\n",
    "print(\"=\"*50)\n",
    "\n",
    "sent_1000 = final['Text'].values[1000]\n",
    "print(sent_1000)\n",
    "print(\"=\"*50)\n",
    "\n",
    "sent_1500 = final['Text'].values[1500]\n",
    "print(sent_1500)\n",
    "print(\"=\"*50)\n",
    "\n",
    "sent_4900 = final['Text'].values[4900]\n",
    "print(sent_4900)\n",
    "print(\"=\"*50)"
   ]
  },
  {
   "cell_type": "code",
   "execution_count": 15,
   "metadata": {},
   "outputs": [
    {
     "name": "stdout",
     "output_type": "stream",
     "text": [
      "Our dogs just love them.  I saw them in a pet store and a tag was attached regarding them being made in China and it satisfied me that they were safe.\n"
     ]
    }
   ],
   "source": [
    "# remove urls from text python: https://stackoverflow.com/a/40823105/4084039\n",
    "sent_0 = re.sub(r\"http\\S+\", \"\", sent_0)\n",
    "sent_1000 = re.sub(r\"http\\S+\", \"\", sent_1000)\n",
    "sent_150 = re.sub(r\"http\\S+\", \"\", sent_1500)\n",
    "sent_4900 = re.sub(r\"http\\S+\", \"\", sent_4900)\n",
    "\n",
    "print(sent_0)"
   ]
  },
  {
   "cell_type": "code",
   "execution_count": 16,
   "metadata": {},
   "outputs": [
    {
     "name": "stdout",
     "output_type": "stream",
     "text": [
      "Our dogs just love them.  I saw them in a pet store and a tag was attached regarding them being made in China and it satisfied me that they were safe.\n",
      "==================================================\n",
      "It's Branston pickle, what is there to say. If you've never tried it you most likely wont like it. If you grew up in the UK its a staple on cheese of cold meat sandwiches. It's on my lunch sandwich today! :)\n",
      "==================================================\n",
      "First Impression: The friendly folks over at \"Exclusively Dog\" heard about my website and sent me 5 of their products to test.Let me just start off by saying that I Love how sweet all of these treats taste. Dad was/is considering trying one because they look and smell so much like human cookies. Plus the ingredients are very straight forward, they are probably healthier than most the stuff Mom eats... But there in lies the problem. Dad thinks that they are too sweet for a puppy of any age. The second ingredient in almost all of them is sugar. As we all know puppies have a hard time processing sugar, and just like humans can develop diabetes.Conclusion: Your puppy is nearly guaranteed to LOVE the taste. However these should only be used as an occasional treat! If you were to feed your puppies these sugary sweet morsels every day, they would soon plump up. If you puppy is already overweight or does not exercise regularly, you may want to think twice. On the PRO side they are all natural, with no animal bi-products! 3 out of 4 paws, because Dad made me! If we were judging on taste alone they would be a 4.\n",
      "==================================================\n",
      "It is hard to find candy that is overly sweet. My wife and Granddaughter both love Pink Grapefruit anyway and Pink Grapefruit candy has some of the tang of real grapefruit which cuts down on the sweetness a bit.I did take away one star because I think they have a bit too much of sugar coating on the pieces but you can scrape some of it off to make it less sweet.My wife uses the pieces when she has a low sugar spell since she is diabetic and sometimes when she has her insulin injections and doesn't eat quickly enough after that her blood sugar drops too low. Since I bought this she hasn't had that problem, but has to guard her supply from my Granddaughter though.I have bought a pack for myself as well since I don't eat candy that often since I don't like overly sweet candy. This candy tastes good to me. I want to try the fruit salad next time just to have some change in taste. It has lime, grapefruit, lemon, orange, cherry and passion fruit and I like all of those flavors except cherry. But my wife likes cherry flavor so I can give those to her. Wish they had watermelon instead of cherry in that mix but its no big deal.\n"
     ]
    }
   ],
   "source": [
    "# https://stackoverflow.com/questions/16206380/python-beautifulsoup-how-to-remove-all-tags-from-an-element\n",
    "\n",
    "\n",
    "soup = BeautifulSoup(sent_0, 'lxml')\n",
    "text = soup.get_text()\n",
    "print(text)\n",
    "print(\"=\"*50)\n",
    "\n",
    "soup = BeautifulSoup(sent_1000, 'lxml')\n",
    "text = soup.get_text()\n",
    "print(text)\n",
    "print(\"=\"*50)\n",
    "\n",
    "soup = BeautifulSoup(sent_1500, 'lxml')\n",
    "text = soup.get_text()\n",
    "print(text)\n",
    "print(\"=\"*50)\n",
    "\n",
    "soup = BeautifulSoup(sent_4900, 'lxml')\n",
    "text = soup.get_text()\n",
    "print(text)"
   ]
  },
  {
   "cell_type": "code",
   "execution_count": 17,
   "metadata": {},
   "outputs": [],
   "source": [
    "# https://stackoverflow.com/a/47091490/4084039\n",
    "import re\n",
    "\n",
    "def decontracted(phrase):\n",
    "    # specific\n",
    "    phrase = re.sub(r\"won't\", \"will not\", phrase)\n",
    "    phrase = re.sub(r\"can\\'t\", \"can not\", phrase)\n",
    "\n",
    "    # general\n",
    "    phrase = re.sub(r\"n\\'t\", \" not\", phrase)\n",
    "    phrase = re.sub(r\"\\'re\", \" are\", phrase)\n",
    "    phrase = re.sub(r\"\\'s\", \" is\", phrase)\n",
    "    phrase = re.sub(r\"\\'d\", \" would\", phrase)\n",
    "    phrase = re.sub(r\"\\'ll\", \" will\", phrase)\n",
    "    phrase = re.sub(r\"\\'t\", \" not\", phrase)\n",
    "    phrase = re.sub(r\"\\'ve\", \" have\", phrase)\n",
    "    phrase = re.sub(r\"\\'m\", \" am\", phrase)\n",
    "    return phrase"
   ]
  },
  {
   "cell_type": "code",
   "execution_count": 18,
   "metadata": {},
   "outputs": [
    {
     "name": "stdout",
     "output_type": "stream",
     "text": [
      "First Impression: The friendly folks over at \"Exclusively Dog\" heard about my website and sent me 5 of their products to test.<br />Let me just start off by saying that I Love how sweet all of these treats taste. Dad was/is considering trying one because they look and smell so much like human cookies. Plus the ingredients are very straight forward, they are probably healthier than most the stuff Mom eats... But there in lies the problem. Dad thinks that they are too sweet for a puppy of any age. The second ingredient in almost all of them is sugar. As we all know puppies have a hard time processing sugar, and just like humans can develop diabetes.<br /><br />Conclusion: Your puppy is nearly guaranteed to LOVE the taste. However these should only be used as an occasional treat! If you were to feed your puppies these sugary sweet morsels every day, they would soon plump up. If you puppy is already overweight or does not exercise regularly, you may want to think twice. On the PRO side they are all natural, with no animal bi-products! 3 out of 4 paws, because Dad made me! If we were judging on taste alone they would be a 4.\n",
      "==================================================\n"
     ]
    }
   ],
   "source": [
    "sent_1500 = decontracted(sent_1500)\n",
    "print(sent_1500)\n",
    "print(\"=\"*50)"
   ]
  },
  {
   "cell_type": "code",
   "execution_count": 19,
   "metadata": {},
   "outputs": [
    {
     "name": "stdout",
     "output_type": "stream",
     "text": [
      "Our dogs just love them.  I saw them in a pet store and a tag was attached regarding them being made in China and it satisfied me that they were safe.\n"
     ]
    }
   ],
   "source": [
    "#remove words with numbers python: https://stackoverflow.com/a/18082370/4084039\n",
    "sent_0 = re.sub(\"\\S*\\d\\S*\", \"\", sent_0).strip()\n",
    "print(sent_0)"
   ]
  },
  {
   "cell_type": "code",
   "execution_count": 20,
   "metadata": {},
   "outputs": [
    {
     "name": "stdout",
     "output_type": "stream",
     "text": [
      "First Impression The friendly folks over at Exclusively Dog heard about my website and sent me 5 of their products to test br Let me just start off by saying that I Love how sweet all of these treats taste Dad was is considering trying one because they look and smell so much like human cookies Plus the ingredients are very straight forward they are probably healthier than most the stuff Mom eats But there in lies the problem Dad thinks that they are too sweet for a puppy of any age The second ingredient in almost all of them is sugar As we all know puppies have a hard time processing sugar and just like humans can develop diabetes br br Conclusion Your puppy is nearly guaranteed to LOVE the taste However these should only be used as an occasional treat If you were to feed your puppies these sugary sweet morsels every day they would soon plump up If you puppy is already overweight or does not exercise regularly you may want to think twice On the PRO side they are all natural with no animal bi products 3 out of 4 paws because Dad made me If we were judging on taste alone they would be a 4 \n"
     ]
    }
   ],
   "source": [
    "#remove spacial character: https://stackoverflow.com/a/5843547/4084039\n",
    "sent_1500 = re.sub('[^A-Za-z0-9]+', ' ', sent_1500)\n",
    "print(sent_1500)"
   ]
  },
  {
   "cell_type": "code",
   "execution_count": 21,
   "metadata": {},
   "outputs": [],
   "source": [
    "# https://gist.github.com/sebleier/554280\n",
    "# we are removing the words from the stop words list: 'no', 'nor', 'not'\n",
    "# <br /><br /> ==> after the above steps, we are getting \"br br\"\n",
    "# we are including them into stop words list\n",
    "# instead of <br /> if we have <br/> these tags would have revmoved in the 1st step\n",
    "\n",
    "stopwords= set(['br', 'the', 'i', 'me', 'my', 'myself', 'we', 'our', 'ours', 'ourselves', 'you', \"you're\", \"you've\",\\\n",
    "            \"you'll\", \"you'd\", 'your', 'yours', 'yourself', 'yourselves', 'he', 'him', 'his', 'himself', \\\n",
    "            'she', \"she's\", 'her', 'hers', 'herself', 'it', \"it's\", 'its', 'itself', 'they', 'them', 'their',\\\n",
    "            'theirs', 'themselves', 'what', 'which', 'who', 'whom', 'this', 'that', \"that'll\", 'these', 'those', \\\n",
    "            'am', 'is', 'are', 'was', 'were', 'be', 'been', 'being', 'have', 'has', 'had', 'having', 'do', 'does', \\\n",
    "            'did', 'doing', 'a', 'an', 'the', 'and', 'but', 'if', 'or', 'because', 'as', 'until', 'while', 'of', \\\n",
    "            'at', 'by', 'for', 'with', 'about', 'against', 'between', 'into', 'through', 'during', 'before', 'after',\\\n",
    "            'above', 'below', 'to', 'from', 'up', 'down', 'in', 'out', 'on', 'off', 'over', 'under', 'again', 'further',\\\n",
    "            'then', 'once', 'here', 'there', 'when', 'where', 'why', 'how', 'all', 'any', 'both', 'each', 'few', 'more',\\\n",
    "            'most', 'other', 'some', 'such', 'only', 'own', 'same', 'so', 'than', 'too', 'very', \\\n",
    "            's', 't', 'can', 'will', 'just', 'don', \"don't\", 'should', \"should've\", 'now', 'd', 'll', 'm', 'o', 're', \\\n",
    "            've', 'y', 'ain', 'aren', \"aren't\", 'couldn', \"couldn't\", 'didn', \"didn't\", 'doesn', \"doesn't\", 'hadn',\\\n",
    "            \"hadn't\", 'hasn', \"hasn't\", 'haven', \"haven't\", 'isn', \"isn't\", 'ma', 'mightn', \"mightn't\", 'mustn',\\\n",
    "            \"mustn't\", 'needn', \"needn't\", 'shan', \"shan't\", 'shouldn', \"shouldn't\", 'wasn', \"wasn't\", 'weren', \"weren't\", \\\n",
    "            'won', \"won't\", 'wouldn', \"wouldn't\"])"
   ]
  },
  {
   "cell_type": "code",
   "execution_count": 22,
   "metadata": {
    "scrolled": true
   },
   "outputs": [
    {
     "name": "stderr",
     "output_type": "stream",
     "text": [
      "100%|██████████████████████████████████████████████████████████████████████████| 37415/37415 [00:11<00:00, 3118.64it/s]\n"
     ]
    }
   ],
   "source": [
    "# Combining all the above stundents \n",
    "from tqdm import tqdm\n",
    "preprocessed_reviews = []\n",
    "# tqdm is for printing the status bar\n",
    "for sentance in tqdm(final['Text'].values):\n",
    "    sentance = re.sub(r\"http\\S+\", \"\", sentance)\n",
    "    sentance = BeautifulSoup(sentance, 'lxml').get_text()\n",
    "    sentance = decontracted(sentance)\n",
    "    sentance = re.sub(\"\\S*\\d\\S*\", \"\", sentance).strip()\n",
    "    sentance = re.sub('[^A-Za-z]+', ' ', sentance)\n",
    "    # https://gist.github.com/sebleier/554280\n",
    "    sentance = ' '.join(e.lower() for e in sentance.split() if e.lower() not in stopwords)\n",
    "    preprocessed_reviews.append(sentance.strip())"
   ]
  },
  {
   "cell_type": "code",
   "execution_count": 23,
   "metadata": {},
   "outputs": [
    {
     "data": {
      "text/plain": [
       "'first impression friendly folks exclusively dog heard website sent products test let start saying love sweet treats taste dad considering trying one look smell much like human cookies plus ingredients straight forward probably healthier stuff mom eats lies problem dad thinks sweet puppy age second ingredient almost sugar know puppies hard time processing sugar like humans develop diabetes conclusion puppy nearly guaranteed love taste however used occasional treat feed puppies sugary sweet morsels every day would soon plump puppy already overweight not exercise regularly may want think twice pro side natural no animal bi products paws dad made judging taste alone would'"
      ]
     },
     "execution_count": 23,
     "metadata": {},
     "output_type": "execute_result"
    }
   ],
   "source": [
    "preprocessed_reviews[1500]"
   ]
  },
  {
   "cell_type": "code",
   "execution_count": 24,
   "metadata": {},
   "outputs": [],
   "source": [
    "x = preprocessed_reviews\n",
    "y = final[\"Score\"].values"
   ]
  },
  {
   "cell_type": "code",
   "execution_count": 25,
   "metadata": {
    "scrolled": true
   },
   "outputs": [
    {
     "name": "stdout",
     "output_type": "stream",
     "text": [
      "<class 'list'>\n",
      "37415\n",
      "37415\n",
      "[1 0 1 ... 0 0 1]\n"
     ]
    }
   ],
   "source": [
    "print(type(x))\n",
    "print(len(x))\n",
    "print(len(y))\n",
    "print(y)"
   ]
  },
  {
   "cell_type": "markdown",
   "metadata": {},
   "source": [
    "### Converting data like Imdb dataset "
   ]
  },
  {
   "cell_type": "code",
   "execution_count": 26,
   "metadata": {},
   "outputs": [],
   "source": [
    "from sklearn.model_selection import train_test_split \n",
    "X_train, X_test, Y_train, Y_test = train_test_split(x, y, test_size=0.2, random_state=42)    "
   ]
  },
  {
   "cell_type": "code",
   "execution_count": 27,
   "metadata": {},
   "outputs": [
    {
     "name": "stdout",
     "output_type": "stream",
     "text": [
      "29932\n",
      "7483\n"
     ]
    }
   ],
   "source": [
    "type(X_train)\n",
    "print(len(X_train))\n",
    "print(len(X_test))"
   ]
  },
  {
   "cell_type": "code",
   "execution_count": 28,
   "metadata": {},
   "outputs": [],
   "source": [
    "from keras.preprocessing.text import Tokenizer\n",
    "max_features = 5000\n",
    "tokenizer = Tokenizer(num_words=max_features, lower = False)\n",
    "tokenizer.fit_on_texts(X_train)\n",
    "\n",
    "X_train = tokenizer.texts_to_sequences(X_train)"
   ]
  },
  {
   "cell_type": "code",
   "execution_count": 29,
   "metadata": {},
   "outputs": [],
   "source": [
    "X_test = tokenizer.texts_to_sequences(X_test)"
   ]
  },
  {
   "cell_type": "code",
   "execution_count": 30,
   "metadata": {},
   "outputs": [
    {
     "name": "stdout",
     "output_type": "stream",
     "text": [
      "[8, 209, 1001, 8, 36, 146, 8, 1, 790, 882, 4079, 510, 20, 8, 219, 344, 8, 1422, 70, 3829, 1795, 168, 3356, 81, 730, 761, 7, 1, 56, 8, 3991, 310]\n",
      "<class 'list'>\n",
      "32\n"
     ]
    }
   ],
   "source": [
    "print(X_train[45])\n",
    "print(type(X_train[45]))\n",
    "print(len(X_train[45]))"
   ]
  },
  {
   "cell_type": "code",
   "execution_count": 31,
   "metadata": {},
   "outputs": [
    {
     "name": "stdout",
     "output_type": "stream",
     "text": [
      "(29932, 600)\n",
      "[   0    0    0    0    0    0    0    0    0    0    0    0    0    0\n",
      "    0    0    0    0    0    0    0    0    0    0    0    0    0    0\n",
      "    0    0    0    0    0    0    0    0    0    0    0    0    0    0\n",
      "    0    0    0    0    0    0    0    0    0    0    0    0    0    0\n",
      "    0    0    0    0    0    0    0    0    0    0    0    0    0    0\n",
      "    0    0    0    0    0    0    0    0    0    0    0    0    0    0\n",
      "    0    0    0    0    0    0    0    0    0    0    0    0    0    0\n",
      "    0    0    0    0    0    0    0    0    0    0    0    0    0    0\n",
      "    0    0    0    0    0    0    0    0    0    0    0    0    0    0\n",
      "    0    0    0    0    0    0    0    0    0    0    0    0    0    0\n",
      "    0    0    0    0    0    0    0    0    0    0    0    0    0    0\n",
      "    0    0    0    0    0    0    0    0    0    0    0    0    0    0\n",
      "    0    0    0    0    0    0    0    0    0    0    0    0    0    0\n",
      "    0    0    0    0    0    0    0    0    0    0    0    0    0    0\n",
      "    0    0    0    0    0    0    0    0    0    0    0    0    0    0\n",
      "    0    0    0    0    0    0    0    0    0    0    0    0    0    0\n",
      "    0    0    0    0    0    0    0    0    0    0    0    0    0    0\n",
      "    0    0    0    0    0    0    0    0    0    0    0    0    0    0\n",
      "    0    0    0    0    0    0    0    0    0    0    0    0    0    0\n",
      "    0    0    0    0    0    0    0    0    0    0    0    0    0    0\n",
      "    0    0    0    0    0    0    0    0    0    0    0    0    0    0\n",
      "    0    0    0    0    0    0    0    0    0    0    0    0    0    0\n",
      "    0    0    0    0    0    0    0    0    0    0    0    0    0    0\n",
      "    0    0    0    0    0    0    0    0    0    0    0    0    0    0\n",
      "    0    0    0    0    0    0    0    0    0    0    0    0    0    0\n",
      "    0    0    0    0    0    0    0    0    0    0    0    0    0    0\n",
      "    0    0    0    0    0    0    0    0    0    0    0    0    0    0\n",
      "    0    0    0    0    0    0    0    0    0    0    0    0    0    0\n",
      "    0    0    0    0    0    0    0    0    0    0    0    0    0    0\n",
      "    0    0    0    0    0    0    0    0    0    0    0    0    0    0\n",
      "    0    0    0    0    0    0    0    0    0    0    0    0    0    0\n",
      "    0    0    0    0    0    0    0    0    0    0    0    0    0    0\n",
      "    0    0    0    0    0    0    0    0    0    0    0    0    0    0\n",
      "    0    0    0    0    0    0    0    0    0    0    0    0    0    0\n",
      "    0    0    0    0    0    0    0    0    0    0    0    0    0    0\n",
      "    0    0    0    0    0    0    0    0    0    0    0    0    0    0\n",
      "    0    0    0    0    0    0    0    0    0    0    0    0    0    0\n",
      "    0    0    0    0    0    0    0    0    0    0    0    0    0    0\n",
      "    0    0    0    0    0    0    0    0    0    0    0    0    0    0\n",
      "    0    0    0    0    0    0    0    0    0    0    0    0    0    0\n",
      "    0    0    0    0    0    0    0    0    8  209 1001    8   36  146\n",
      "    8    1  790  882 4079  510   20    8  219  344    8 1422   70 3829\n",
      " 1795  168 3356   81  730  761    7    1   56    8 3991  310]\n"
     ]
    }
   ],
   "source": [
    "# truncate and/or pad input sequences\n",
    "max_review_length = 600\n",
    "X_train = sequence.pad_sequences(X_train, maxlen=max_review_length)\n",
    "X_test = sequence.pad_sequences(X_test, maxlen=max_review_length)\n",
    "\n",
    "print(X_train.shape)\n",
    "print(X_train[45])"
   ]
  },
  {
   "cell_type": "code",
   "execution_count": 32,
   "metadata": {},
   "outputs": [
    {
     "name": "stdout",
     "output_type": "stream",
     "text": [
      "shape of training data:  (29932, 600)\n",
      "shape of testing data:  (7483, 600)\n"
     ]
    }
   ],
   "source": [
    "print(\"shape of training data: \", X_train.shape)\n",
    "print(\"shape of testing data: \", X_test.shape)"
   ]
  },
  {
   "cell_type": "markdown",
   "metadata": {},
   "source": [
    "# Model 1"
   ]
  },
  {
   "cell_type": "code",
   "execution_count": 36,
   "metadata": {
    "scrolled": false
   },
   "outputs": [
    {
     "name": "stdout",
     "output_type": "stream",
     "text": [
      "_________________________________________________________________\n",
      "Layer (type)                 Output Shape              Param #   \n",
      "=================================================================\n",
      "embedding_2 (Embedding)      (None, 600, 32)           160000    \n",
      "_________________________________________________________________\n",
      "lstm_2 (LSTM)                (None, 100)               53200     \n",
      "_________________________________________________________________\n",
      "dropout_2 (Dropout)          (None, 100)               0         \n",
      "_________________________________________________________________\n",
      "dense_2 (Dense)              (None, 1)                 101       \n",
      "=================================================================\n",
      "Total params: 213,301\n",
      "Trainable params: 213,301\n",
      "Non-trainable params: 0\n",
      "_________________________________________________________________\n",
      "None\n"
     ]
    }
   ],
   "source": [
    "# create the model\n",
    "\n",
    "import warnings \n",
    "warnings.filterwarnings(\"ignore\")\n",
    "\n",
    "embedding_vecor_length = 32\n",
    "model = Sequential()\n",
    "model.add(Embedding(max_features, embedding_vecor_length, input_length=max_review_length))\n",
    "model.add(LSTM(100, kernel_regularizer=regularizers.l2(0.01)))\n",
    "model.add(Dropout(0.5))\n",
    "model.add(Dense(1, activation='sigmoid', kernel_regularizer=regularizers.l2(0.01)))\n",
    "model.compile(loss='binary_crossentropy', optimizer='adam', metrics=['accuracy'])\n",
    "print(model.summary())"
   ]
  },
  {
   "cell_type": "markdown",
   "metadata": {},
   "source": [
    "#### Using Earlystopping to reduce overfitting "
   ]
  },
  {
   "cell_type": "code",
   "execution_count": 37,
   "metadata": {},
   "outputs": [],
   "source": [
    "# simple early stopping\n",
    "es = EarlyStopping(monitor='val_loss', mode='min', verbose=1, patience=1)"
   ]
  },
  {
   "cell_type": "code",
   "execution_count": 38,
   "metadata": {
    "scrolled": true
   },
   "outputs": [
    {
     "name": "stdout",
     "output_type": "stream",
     "text": [
      "Train on 29932 samples, validate on 7483 samples\n",
      "Epoch 1/10\n"
     ]
    },
    {
     "name": "stdout",
     "output_type": "stream",
     "text": [
      "25984/29932 [=========================>....] - ETA: 19:53 - loss: 1.3026 - acc: 0.58 - ETA: 16:32 - loss: 1.2925 - acc: 0.70 - ETA: 15:36 - loss: 1.2822 - acc: 0.76 - ETA: 15:11 - loss: 1.2714 - acc: 0.78 - ETA: 14:52 - loss: 1.2606 - acc: 0.80 - ETA: 14:42 - loss: 1.2508 - acc: 0.79 - ETA: 14:29 - loss: 1.2403 - acc: 0.79 - ETA: 14:25 - loss: 1.2283 - acc: 0.79 - ETA: 14:22 - loss: 1.2131 - acc: 0.80 - ETA: 14:19 - loss: 1.1945 - acc: 0.81 - ETA: 14:21 - loss: 1.1745 - acc: 0.81 - ETA: 14:16 - loss: 1.1636 - acc: 0.80 - ETA: 14:21 - loss: 1.1371 - acc: 0.81 - ETA: 14:13 - loss: 1.1231 - acc: 0.81 - ETA: 14:12 - loss: 1.0994 - acc: 0.81 - ETA: 14:09 - loss: 1.0804 - acc: 0.82 - ETA: 14:07 - loss: 1.0688 - acc: 0.82 - ETA: 14:04 - loss: 1.0564 - acc: 0.82 - ETA: 14:01 - loss: 1.0462 - acc: 0.82 - ETA: 13:59 - loss: 1.0324 - acc: 0.82 - ETA: 13:58 - loss: 1.0186 - acc: 0.82 - ETA: 13:56 - loss: 1.0039 - acc: 0.83 - ETA: 13:53 - loss: 0.9957 - acc: 0.83 - ETA: 13:51 - loss: 0.9872 - acc: 0.83 - ETA: 13:49 - loss: 0.9765 - acc: 0.83 - ETA: 13:48 - loss: 0.9705 - acc: 0.83 - ETA: 13:47 - loss: 0.9603 - acc: 0.83 - ETA: 13:44 - loss: 0.9504 - acc: 0.83 - ETA: 13:41 - loss: 0.9412 - acc: 0.83 - ETA: 13:40 - loss: 0.9311 - acc: 0.83 - ETA: 13:40 - loss: 0.9266 - acc: 0.83 - ETA: 13:37 - loss: 0.9209 - acc: 0.83 - ETA: 13:35 - loss: 0.9153 - acc: 0.83 - ETA: 13:33 - loss: 0.9077 - acc: 0.83 - ETA: 13:32 - loss: 0.9006 - acc: 0.83 - ETA: 13:30 - loss: 0.8951 - acc: 0.83 - ETA: 13:26 - loss: 0.8880 - acc: 0.83 - ETA: 13:25 - loss: 0.8795 - acc: 0.83 - ETA: 13:22 - loss: 0.8744 - acc: 0.83 - ETA: 13:19 - loss: 0.8685 - acc: 0.83 - ETA: 13:18 - loss: 0.8620 - acc: 0.83 - ETA: 13:13 - loss: 0.8575 - acc: 0.83 - ETA: 13:11 - loss: 0.8509 - acc: 0.83 - ETA: 13:09 - loss: 0.8451 - acc: 0.83 - ETA: 13:05 - loss: 0.8429 - acc: 0.83 - ETA: 13:03 - loss: 0.8385 - acc: 0.83 - ETA: 13:01 - loss: 0.8340 - acc: 0.83 - ETA: 12:59 - loss: 0.8287 - acc: 0.83 - ETA: 12:57 - loss: 0.8249 - acc: 0.83 - ETA: 12:54 - loss: 0.8208 - acc: 0.83 - ETA: 12:52 - loss: 0.8178 - acc: 0.83 - ETA: 12:50 - loss: 0.8129 - acc: 0.83 - ETA: 12:47 - loss: 0.8075 - acc: 0.83 - ETA: 12:45 - loss: 0.8031 - acc: 0.83 - ETA: 12:40 - loss: 0.7980 - acc: 0.83 - ETA: 12:38 - loss: 0.7948 - acc: 0.83 - ETA: 12:35 - loss: 0.7910 - acc: 0.83 - ETA: 12:32 - loss: 0.7856 - acc: 0.83 - ETA: 12:30 - loss: 0.7806 - acc: 0.83 - ETA: 12:28 - loss: 0.7765 - acc: 0.83 - ETA: 12:25 - loss: 0.7713 - acc: 0.84 - ETA: 12:22 - loss: 0.7704 - acc: 0.83 - ETA: 12:19 - loss: 0.7667 - acc: 0.83 - ETA: 12:17 - loss: 0.7630 - acc: 0.83 - ETA: 12:14 - loss: 0.7604 - acc: 0.83 - ETA: 12:11 - loss: 0.7564 - acc: 0.83 - ETA: 12:07 - loss: 0.7540 - acc: 0.83 - ETA: 12:04 - loss: 0.7502 - acc: 0.83 - ETA: 12:02 - loss: 0.7469 - acc: 0.83 - ETA: 11:59 - loss: 0.7436 - acc: 0.83 - ETA: 11:56 - loss: 0.7395 - acc: 0.83 - ETA: 11:54 - loss: 0.7355 - acc: 0.84 - ETA: 11:51 - loss: 0.7319 - acc: 0.84 - ETA: 11:48 - loss: 0.7290 - acc: 0.84 - ETA: 11:45 - loss: 0.7274 - acc: 0.84 - ETA: 11:42 - loss: 0.7253 - acc: 0.83 - ETA: 11:39 - loss: 0.7223 - acc: 0.84 - ETA: 11:36 - loss: 0.7191 - acc: 0.84 - ETA: 11:33 - loss: 0.7154 - acc: 0.84 - ETA: 11:30 - loss: 0.7122 - acc: 0.84 - ETA: 11:27 - loss: 0.7095 - acc: 0.84 - ETA: 11:24 - loss: 0.7069 - acc: 0.84 - ETA: 11:21 - loss: 0.7046 - acc: 0.84 - ETA: 11:18 - loss: 0.7024 - acc: 0.84 - ETA: 11:14 - loss: 0.7000 - acc: 0.84 - ETA: 11:11 - loss: 0.6968 - acc: 0.84 - ETA: 11:07 - loss: 0.6942 - acc: 0.84 - ETA: 11:04 - loss: 0.6927 - acc: 0.84 - ETA: 11:01 - loss: 0.6903 - acc: 0.84 - ETA: 10:58 - loss: 0.6875 - acc: 0.84 - ETA: 10:54 - loss: 0.6858 - acc: 0.84 - ETA: 10:51 - loss: 0.6832 - acc: 0.84 - ETA: 10:47 - loss: 0.6810 - acc: 0.84 - ETA: 10:44 - loss: 0.6792 - acc: 0.83 - ETA: 10:41 - loss: 0.6768 - acc: 0.84 - ETA: 10:37 - loss: 0.6738 - acc: 0.84 - ETA: 10:33 - loss: 0.6715 - acc: 0.84 - ETA: 10:30 - loss: 0.6696 - acc: 0.84 - ETA: 10:26 - loss: 0.6680 - acc: 0.84 - ETA: 10:23 - loss: 0.6649 - acc: 0.84 - ETA: 10:19 - loss: 0.6627 - acc: 0.84 - ETA: 10:15 - loss: 0.6614 - acc: 0.84 - ETA: 10:11 - loss: 0.6593 - acc: 0.84 - ETA: 10:07 - loss: 0.6578 - acc: 0.83 - ETA: 10:04 - loss: 0.6561 - acc: 0.83 - ETA: 10:00 - loss: 0.6543 - acc: 0.83 - ETA: 9:56 - loss: 0.6531 - acc: 0.8386 - ETA: 9:53 - loss: 0.6509 - acc: 0.838 - ETA: 9:49 - loss: 0.6487 - acc: 0.839 - ETA: 9:45 - loss: 0.6466 - acc: 0.839 - ETA: 9:41 - loss: 0.6441 - acc: 0.839 - ETA: 9:37 - loss: 0.6415 - acc: 0.839 - ETA: 9:32 - loss: 0.6385 - acc: 0.840 - ETA: 9:29 - loss: 0.6365 - acc: 0.840 - ETA: 9:25 - loss: 0.6346 - acc: 0.840 - ETA: 9:21 - loss: 0.6326 - acc: 0.840 - ETA: 9:17 - loss: 0.6306 - acc: 0.840 - ETA: 9:13 - loss: 0.6284 - acc: 0.840 - ETA: 9:09 - loss: 0.6258 - acc: 0.841 - ETA: 9:05 - loss: 0.6251 - acc: 0.840 - ETA: 9:01 - loss: 0.6225 - acc: 0.841 - ETA: 8:57 - loss: 0.6208 - acc: 0.841 - ETA: 8:53 - loss: 0.6189 - acc: 0.841 - ETA: 8:50 - loss: 0.6174 - acc: 0.841 - ETA: 8:45 - loss: 0.6155 - acc: 0.841 - ETA: 8:41 - loss: 0.6137 - acc: 0.841 - ETA: 8:37 - loss: 0.6118 - acc: 0.841 - ETA: 8:33 - loss: 0.6111 - acc: 0.841 - ETA: 8:29 - loss: 0.6090 - acc: 0.841 - ETA: 8:25 - loss: 0.6077 - acc: 0.841 - ETA: 8:21 - loss: 0.6062 - acc: 0.841 - ETA: 8:17 - loss: 0.6042 - acc: 0.841 - ETA: 8:13 - loss: 0.6019 - acc: 0.842 - ETA: 8:08 - loss: 0.5998 - acc: 0.842 - ETA: 8:04 - loss: 0.5977 - acc: 0.842 - ETA: 8:00 - loss: 0.5959 - acc: 0.842 - ETA: 7:56 - loss: 0.5944 - acc: 0.842 - ETA: 7:51 - loss: 0.5922 - acc: 0.843 - ETA: 7:47 - loss: 0.5907 - acc: 0.843 - ETA: 7:43 - loss: 0.5891 - acc: 0.843 - ETA: 7:39 - loss: 0.5871 - acc: 0.843 - ETA: 7:34 - loss: 0.5853 - acc: 0.843 - ETA: 7:30 - loss: 0.5836 - acc: 0.843 - ETA: 7:25 - loss: 0.5822 - acc: 0.844 - ETA: 7:21 - loss: 0.5811 - acc: 0.844 - ETA: 7:16 - loss: 0.5812 - acc: 0.843 - ETA: 7:12 - loss: 0.5793 - acc: 0.844 - ETA: 7:08 - loss: 0.5783 - acc: 0.844 - ETA: 7:03 - loss: 0.5776 - acc: 0.844 - ETA: 6:59 - loss: 0.5767 - acc: 0.844 - ETA: 6:54 - loss: 0.5765 - acc: 0.844 - ETA: 6:50 - loss: 0.5761 - acc: 0.844 - ETA: 6:45 - loss: 0.5758 - acc: 0.843 - ETA: 6:41 - loss: 0.5753 - acc: 0.843 - ETA: 6:36 - loss: 0.5748 - acc: 0.843 - ETA: 6:32 - loss: 0.5744 - acc: 0.843 - ETA: 6:27 - loss: 0.5736 - acc: 0.843 - ETA: 6:22 - loss: 0.5726 - acc: 0.843 - ETA: 6:18 - loss: 0.5718 - acc: 0.844 - ETA: 6:13 - loss: 0.5710 - acc: 0.844 - ETA: 6:08 - loss: 0.5700 - acc: 0.844 - ETA: 6:04 - loss: 0.5690 - acc: 0.844 - ETA: 5:59 - loss: 0.5681 - acc: 0.844 - ETA: 5:54 - loss: 0.5671 - acc: 0.844 - ETA: 5:50 - loss: 0.5660 - acc: 0.845 - ETA: 5:45 - loss: 0.5648 - acc: 0.845 - ETA: 5:40 - loss: 0.5639 - acc: 0.845 - ETA: 5:36 - loss: 0.5628 - acc: 0.845 - ETA: 5:31 - loss: 0.5611 - acc: 0.845 - ETA: 5:26 - loss: 0.5600 - acc: 0.846 - ETA: 5:21 - loss: 0.5593 - acc: 0.845 - ETA: 5:16 - loss: 0.5586 - acc: 0.845 - ETA: 5:12 - loss: 0.5574 - acc: 0.845 - ETA: 5:07 - loss: 0.5560 - acc: 0.845 - ETA: 5:02 - loss: 0.5550 - acc: 0.845 - ETA: 4:57 - loss: 0.5535 - acc: 0.846 - ETA: 4:52 - loss: 0.5523 - acc: 0.846 - ETA: 4:47 - loss: 0.5514 - acc: 0.846 - ETA: 4:43 - loss: 0.5503 - acc: 0.846 - ETA: 4:38 - loss: 0.5491 - acc: 0.847 - ETA: 4:33 - loss: 0.5480 - acc: 0.847 - ETA: 4:28 - loss: 0.5470 - acc: 0.847 - ETA: 4:23 - loss: 0.5461 - acc: 0.847 - ETA: 4:18 - loss: 0.5452 - acc: 0.847 - ETA: 4:13 - loss: 0.5440 - acc: 0.847 - ETA: 4:08 - loss: 0.5426 - acc: 0.848 - ETA: 4:03 - loss: 0.5416 - acc: 0.848 - ETA: 3:58 - loss: 0.5402 - acc: 0.848 - ETA: 3:53 - loss: 0.5390 - acc: 0.849 - ETA: 3:48 - loss: 0.5372 - acc: 0.849 - ETA: 3:43 - loss: 0.5361 - acc: 0.849 - ETA: 3:38 - loss: 0.5356 - acc: 0.849 - ETA: 3:33 - loss: 0.5344 - acc: 0.850 - ETA: 3:28 - loss: 0.5336 - acc: 0.850 - ETA: 3:23 - loss: 0.5325 - acc: 0.850 - ETA: 3:18 - loss: 0.5317 - acc: 0.850 - ETA: 3:13 - loss: 0.5306 - acc: 0.850 - ETA: 3:07 - loss: 0.5300 - acc: 0.850 - ETA: 3:02 - loss: 0.5289 - acc: 0.850 - ETA: 2:57 - loss: 0.5277 - acc: 0.850 - ETA: 2:52 - loss: 0.5265 - acc: 0.851 - ETA: 2:47 - loss: 0.5252 - acc: 0.851 - ETA: 2:42 - loss: 0.5243 - acc: 0.85129932/29932 [==============================] - ETA: 2:37 - loss: 0.5233 - acc: 0.851 - ETA: 2:32 - loss: 0.5221 - acc: 0.851 - ETA: 2:26 - loss: 0.5207 - acc: 0.852 - ETA: 2:21 - loss: 0.5196 - acc: 0.852 - ETA: 2:16 - loss: 0.5183 - acc: 0.852 - ETA: 2:11 - loss: 0.5172 - acc: 0.853 - ETA: 2:06 - loss: 0.5162 - acc: 0.853 - ETA: 2:00 - loss: 0.5153 - acc: 0.853 - ETA: 1:55 - loss: 0.5138 - acc: 0.853 - ETA: 1:50 - loss: 0.5132 - acc: 0.853 - ETA: 1:45 - loss: 0.5124 - acc: 0.853 - ETA: 1:39 - loss: 0.5115 - acc: 0.853 - ETA: 1:34 - loss: 0.5109 - acc: 0.853 - ETA: 1:29 - loss: 0.5105 - acc: 0.853 - ETA: 1:24 - loss: 0.5098 - acc: 0.853 - ETA: 1:18 - loss: 0.5090 - acc: 0.853 - ETA: 1:13 - loss: 0.5084 - acc: 0.854 - ETA: 1:08 - loss: 0.5079 - acc: 0.854 - ETA: 1:03 - loss: 0.5073 - acc: 0.854 - ETA: 57s - loss: 0.5069 - acc: 0.854 - ETA: 52s - loss: 0.5059 - acc: 0.85 - ETA: 47s - loss: 0.5050 - acc: 0.85 - ETA: 41s - loss: 0.5041 - acc: 0.85 - ETA: 36s - loss: 0.5033 - acc: 0.85 - ETA: 31s - loss: 0.5025 - acc: 0.85 - ETA: 25s - loss: 0.5019 - acc: 0.85 - ETA: 20s - loss: 0.5011 - acc: 0.85 - ETA: 15s - loss: 0.5003 - acc: 0.85 - ETA: 9s - loss: 0.4997 - acc: 0.8557 - ETA: 4s - loss: 0.4990 - acc: 0.855 - 1290s 43ms/step - loss: 0.4983 - acc: 0.8558 - val_loss: 0.3170 - val_acc: 0.8914\n",
      "Epoch 2/10\n"
     ]
    },
    {
     "name": "stdout",
     "output_type": "stream",
     "text": [
      "26112/29932 [=========================>....] - ETA: 22:33 - loss: 0.2536 - acc: 0.92 - ETA: 22:39 - loss: 0.2990 - acc: 0.90 - ETA: 22:40 - loss: 0.2861 - acc: 0.91 - ETA: 22:22 - loss: 0.2804 - acc: 0.91 - ETA: 22:19 - loss: 0.2846 - acc: 0.92 - ETA: 22:14 - loss: 0.2780 - acc: 0.92 - ETA: 22:14 - loss: 0.2704 - acc: 0.91 - ETA: 22:09 - loss: 0.2587 - acc: 0.92 - ETA: 22:04 - loss: 0.2631 - acc: 0.91 - ETA: 21:58 - loss: 0.2764 - acc: 0.91 - ETA: 21:57 - loss: 0.2768 - acc: 0.90 - ETA: 21:53 - loss: 0.2767 - acc: 0.90 - ETA: 21:49 - loss: 0.2778 - acc: 0.90 - ETA: 21:41 - loss: 0.2795 - acc: 0.90 - ETA: 21:37 - loss: 0.2818 - acc: 0.90 - ETA: 21:31 - loss: 0.2799 - acc: 0.90 - ETA: 21:26 - loss: 0.2800 - acc: 0.90 - ETA: 21:21 - loss: 0.2827 - acc: 0.90 - ETA: 21:15 - loss: 0.2804 - acc: 0.90 - ETA: 21:11 - loss: 0.2780 - acc: 0.90 - ETA: 21:07 - loss: 0.2816 - acc: 0.90 - ETA: 21:01 - loss: 0.2805 - acc: 0.90 - ETA: 20:55 - loss: 0.2803 - acc: 0.90 - ETA: 20:51 - loss: 0.2808 - acc: 0.90 - ETA: 20:47 - loss: 0.2810 - acc: 0.90 - ETA: 20:43 - loss: 0.2796 - acc: 0.90 - ETA: 20:37 - loss: 0.2777 - acc: 0.90 - ETA: 20:31 - loss: 0.2767 - acc: 0.91 - ETA: 20:26 - loss: 0.2748 - acc: 0.91 - ETA: 20:20 - loss: 0.2768 - acc: 0.91 - ETA: 20:14 - loss: 0.2764 - acc: 0.91 - ETA: 20:08 - loss: 0.2763 - acc: 0.91 - ETA: 20:02 - loss: 0.2748 - acc: 0.91 - ETA: 19:56 - loss: 0.2746 - acc: 0.91 - ETA: 19:50 - loss: 0.2750 - acc: 0.91 - ETA: 19:45 - loss: 0.2744 - acc: 0.91 - ETA: 19:39 - loss: 0.2735 - acc: 0.91 - ETA: 19:33 - loss: 0.2720 - acc: 0.91 - ETA: 19:29 - loss: 0.2715 - acc: 0.91 - ETA: 19:22 - loss: 0.2707 - acc: 0.91 - ETA: 19:17 - loss: 0.2713 - acc: 0.91 - ETA: 19:12 - loss: 0.2702 - acc: 0.91 - ETA: 19:06 - loss: 0.2711 - acc: 0.91 - ETA: 19:00 - loss: 0.2701 - acc: 0.91 - ETA: 18:54 - loss: 0.2721 - acc: 0.91 - ETA: 18:49 - loss: 0.2714 - acc: 0.91 - ETA: 18:43 - loss: 0.2725 - acc: 0.91 - ETA: 18:37 - loss: 0.2740 - acc: 0.91 - ETA: 18:32 - loss: 0.2737 - acc: 0.91 - ETA: 18:26 - loss: 0.2741 - acc: 0.90 - ETA: 18:21 - loss: 0.2745 - acc: 0.90 - ETA: 18:15 - loss: 0.2738 - acc: 0.91 - ETA: 18:10 - loss: 0.2731 - acc: 0.91 - ETA: 18:01 - loss: 0.2743 - acc: 0.91 - ETA: 17:55 - loss: 0.2734 - acc: 0.91 - ETA: 17:49 - loss: 0.2732 - acc: 0.91 - ETA: 17:43 - loss: 0.2709 - acc: 0.91 - ETA: 17:37 - loss: 0.2716 - acc: 0.91 - ETA: 17:31 - loss: 0.2715 - acc: 0.91 - ETA: 17:25 - loss: 0.2717 - acc: 0.91 - ETA: 17:20 - loss: 0.2716 - acc: 0.91 - ETA: 17:14 - loss: 0.2715 - acc: 0.91 - ETA: 17:08 - loss: 0.2712 - acc: 0.91 - ETA: 17:00 - loss: 0.2715 - acc: 0.91 - ETA: 16:55 - loss: 0.2718 - acc: 0.91 - ETA: 16:49 - loss: 0.2724 - acc: 0.91 - ETA: 16:43 - loss: 0.2722 - acc: 0.91 - ETA: 16:38 - loss: 0.2723 - acc: 0.91 - ETA: 16:32 - loss: 0.2713 - acc: 0.91 - ETA: 16:26 - loss: 0.2713 - acc: 0.91 - ETA: 16:20 - loss: 0.2710 - acc: 0.91 - ETA: 16:15 - loss: 0.2704 - acc: 0.91 - ETA: 16:09 - loss: 0.2685 - acc: 0.91 - ETA: 16:01 - loss: 0.2694 - acc: 0.91 - ETA: 15:56 - loss: 0.2692 - acc: 0.91 - ETA: 15:50 - loss: 0.2687 - acc: 0.91 - ETA: 15:44 - loss: 0.2684 - acc: 0.91 - ETA: 15:39 - loss: 0.2679 - acc: 0.91 - ETA: 15:33 - loss: 0.2680 - acc: 0.91 - ETA: 15:27 - loss: 0.2676 - acc: 0.91 - ETA: 15:22 - loss: 0.2677 - acc: 0.91 - ETA: 15:16 - loss: 0.2670 - acc: 0.91 - ETA: 15:10 - loss: 0.2682 - acc: 0.91 - ETA: 15:03 - loss: 0.2683 - acc: 0.91 - ETA: 14:58 - loss: 0.2675 - acc: 0.91 - ETA: 14:52 - loss: 0.2673 - acc: 0.91 - ETA: 14:46 - loss: 0.2680 - acc: 0.91 - ETA: 14:40 - loss: 0.2679 - acc: 0.91 - ETA: 14:34 - loss: 0.2674 - acc: 0.91 - ETA: 14:28 - loss: 0.2674 - acc: 0.91 - ETA: 14:22 - loss: 0.2670 - acc: 0.91 - ETA: 14:16 - loss: 0.2672 - acc: 0.91 - ETA: 14:10 - loss: 0.2672 - acc: 0.91 - ETA: 14:04 - loss: 0.2674 - acc: 0.91 - ETA: 13:58 - loss: 0.2678 - acc: 0.91 - ETA: 13:52 - loss: 0.2676 - acc: 0.91 - ETA: 13:46 - loss: 0.2677 - acc: 0.91 - ETA: 13:41 - loss: 0.2670 - acc: 0.91 - ETA: 13:35 - loss: 0.2662 - acc: 0.91 - ETA: 13:29 - loss: 0.2654 - acc: 0.91 - ETA: 13:23 - loss: 0.2656 - acc: 0.91 - ETA: 13:17 - loss: 0.2652 - acc: 0.91 - ETA: 13:11 - loss: 0.2665 - acc: 0.91 - ETA: 13:06 - loss: 0.2666 - acc: 0.91 - ETA: 13:00 - loss: 0.2664 - acc: 0.91 - ETA: 12:54 - loss: 0.2661 - acc: 0.91 - ETA: 12:48 - loss: 0.2667 - acc: 0.91 - ETA: 12:42 - loss: 0.2670 - acc: 0.91 - ETA: 12:36 - loss: 0.2674 - acc: 0.91 - ETA: 12:30 - loss: 0.2676 - acc: 0.91 - ETA: 12:24 - loss: 0.2683 - acc: 0.91 - ETA: 12:18 - loss: 0.2679 - acc: 0.91 - ETA: 12:12 - loss: 0.2680 - acc: 0.91 - ETA: 12:06 - loss: 0.2680 - acc: 0.91 - ETA: 12:00 - loss: 0.2678 - acc: 0.91 - ETA: 11:54 - loss: 0.2666 - acc: 0.91 - ETA: 11:48 - loss: 0.2661 - acc: 0.91 - ETA: 11:42 - loss: 0.2670 - acc: 0.91 - ETA: 11:36 - loss: 0.2663 - acc: 0.91 - ETA: 11:30 - loss: 0.2663 - acc: 0.91 - ETA: 11:24 - loss: 0.2661 - acc: 0.91 - ETA: 11:18 - loss: 0.2662 - acc: 0.91 - ETA: 11:12 - loss: 0.2661 - acc: 0.91 - ETA: 11:06 - loss: 0.2660 - acc: 0.91 - ETA: 11:00 - loss: 0.2661 - acc: 0.91 - ETA: 10:54 - loss: 0.2659 - acc: 0.91 - ETA: 10:48 - loss: 0.2653 - acc: 0.91 - ETA: 10:42 - loss: 0.2644 - acc: 0.91 - ETA: 10:36 - loss: 0.2647 - acc: 0.91 - ETA: 10:30 - loss: 0.2650 - acc: 0.91 - ETA: 10:24 - loss: 0.2652 - acc: 0.91 - ETA: 10:18 - loss: 0.2655 - acc: 0.91 - ETA: 10:12 - loss: 0.2662 - acc: 0.91 - ETA: 10:06 - loss: 0.2670 - acc: 0.91 - ETA: 10:00 - loss: 0.2676 - acc: 0.91 - ETA: 9:54 - loss: 0.2684 - acc: 0.9110 - ETA: 9:48 - loss: 0.2690 - acc: 0.910 - ETA: 9:42 - loss: 0.2693 - acc: 0.910 - ETA: 9:36 - loss: 0.2695 - acc: 0.910 - ETA: 9:30 - loss: 0.2697 - acc: 0.910 - ETA: 9:24 - loss: 0.2697 - acc: 0.910 - ETA: 9:18 - loss: 0.2699 - acc: 0.910 - ETA: 9:12 - loss: 0.2704 - acc: 0.910 - ETA: 9:06 - loss: 0.2701 - acc: 0.910 - ETA: 9:00 - loss: 0.2702 - acc: 0.910 - ETA: 8:54 - loss: 0.2699 - acc: 0.910 - ETA: 8:48 - loss: 0.2700 - acc: 0.910 - ETA: 8:42 - loss: 0.2694 - acc: 0.910 - ETA: 8:36 - loss: 0.2693 - acc: 0.910 - ETA: 8:30 - loss: 0.2697 - acc: 0.910 - ETA: 8:24 - loss: 0.2697 - acc: 0.910 - ETA: 8:17 - loss: 0.2699 - acc: 0.910 - ETA: 8:11 - loss: 0.2693 - acc: 0.910 - ETA: 8:05 - loss: 0.2688 - acc: 0.910 - ETA: 7:59 - loss: 0.2686 - acc: 0.910 - ETA: 7:53 - loss: 0.2690 - acc: 0.910 - ETA: 7:47 - loss: 0.2689 - acc: 0.910 - ETA: 7:41 - loss: 0.2692 - acc: 0.910 - ETA: 7:35 - loss: 0.2689 - acc: 0.910 - ETA: 7:29 - loss: 0.2686 - acc: 0.910 - ETA: 7:23 - loss: 0.2688 - acc: 0.910 - ETA: 7:17 - loss: 0.2687 - acc: 0.910 - ETA: 7:11 - loss: 0.2684 - acc: 0.910 - ETA: 7:05 - loss: 0.2680 - acc: 0.910 - ETA: 6:59 - loss: 0.2680 - acc: 0.910 - ETA: 6:52 - loss: 0.2680 - acc: 0.910 - ETA: 6:46 - loss: 0.2678 - acc: 0.910 - ETA: 6:40 - loss: 0.2678 - acc: 0.910 - ETA: 6:34 - loss: 0.2679 - acc: 0.910 - ETA: 6:28 - loss: 0.2676 - acc: 0.910 - ETA: 6:22 - loss: 0.2678 - acc: 0.910 - ETA: 6:16 - loss: 0.2676 - acc: 0.910 - ETA: 6:10 - loss: 0.2674 - acc: 0.910 - ETA: 6:04 - loss: 0.2670 - acc: 0.911 - ETA: 5:58 - loss: 0.2671 - acc: 0.911 - ETA: 5:52 - loss: 0.2672 - acc: 0.911 - ETA: 5:46 - loss: 0.2668 - acc: 0.911 - ETA: 5:40 - loss: 0.2670 - acc: 0.911 - ETA: 5:34 - loss: 0.2670 - acc: 0.911 - ETA: 5:28 - loss: 0.2674 - acc: 0.911 - ETA: 5:22 - loss: 0.2675 - acc: 0.911 - ETA: 5:16 - loss: 0.2677 - acc: 0.911 - ETA: 5:10 - loss: 0.2675 - acc: 0.911 - ETA: 5:03 - loss: 0.2673 - acc: 0.911 - ETA: 4:57 - loss: 0.2674 - acc: 0.911 - ETA: 4:51 - loss: 0.2673 - acc: 0.911 - ETA: 4:45 - loss: 0.2671 - acc: 0.911 - ETA: 4:39 - loss: 0.2671 - acc: 0.911 - ETA: 4:33 - loss: 0.2670 - acc: 0.911 - ETA: 4:27 - loss: 0.2668 - acc: 0.911 - ETA: 4:21 - loss: 0.2666 - acc: 0.911 - ETA: 4:15 - loss: 0.2660 - acc: 0.912 - ETA: 4:09 - loss: 0.2660 - acc: 0.912 - ETA: 4:03 - loss: 0.2660 - acc: 0.911 - ETA: 3:57 - loss: 0.2658 - acc: 0.912 - ETA: 3:50 - loss: 0.2664 - acc: 0.911 - ETA: 3:44 - loss: 0.2661 - acc: 0.912 - ETA: 3:38 - loss: 0.2665 - acc: 0.911 - ETA: 3:32 - loss: 0.2664 - acc: 0.911 - ETA: 3:26 - loss: 0.2665 - acc: 0.911 - ETA: 3:20 - loss: 0.2667 - acc: 0.911 - ETA: 3:14 - loss: 0.2668 - acc: 0.911 - ETA: 3:08 - loss: 0.2663 - acc: 0.911 - ETA: 3:02 - loss: 0.2663 - acc: 0.9120"
     ]
    },
    {
     "name": "stdout",
     "output_type": "stream",
     "text": [
      "29932/29932 [==============================] - ETA: 2:55 - loss: 0.2663 - acc: 0.912 - ETA: 2:49 - loss: 0.2666 - acc: 0.912 - ETA: 2:43 - loss: 0.2664 - acc: 0.912 - ETA: 2:37 - loss: 0.2664 - acc: 0.912 - ETA: 2:31 - loss: 0.2666 - acc: 0.912 - ETA: 2:25 - loss: 0.2663 - acc: 0.912 - ETA: 2:19 - loss: 0.2662 - acc: 0.912 - ETA: 2:13 - loss: 0.2663 - acc: 0.912 - ETA: 2:07 - loss: 0.2663 - acc: 0.912 - ETA: 2:01 - loss: 0.2662 - acc: 0.912 - ETA: 1:54 - loss: 0.2659 - acc: 0.912 - ETA: 1:48 - loss: 0.2656 - acc: 0.912 - ETA: 1:42 - loss: 0.2651 - acc: 0.913 - ETA: 1:36 - loss: 0.2650 - acc: 0.913 - ETA: 1:30 - loss: 0.2648 - acc: 0.913 - ETA: 1:24 - loss: 0.2645 - acc: 0.913 - ETA: 1:18 - loss: 0.2644 - acc: 0.913 - ETA: 1:12 - loss: 0.2641 - acc: 0.913 - ETA: 1:06 - loss: 0.2638 - acc: 0.913 - ETA: 1:00 - loss: 0.2641 - acc: 0.913 - ETA: 53s - loss: 0.2639 - acc: 0.913 - ETA: 47s - loss: 0.2638 - acc: 0.91 - ETA: 41s - loss: 0.2638 - acc: 0.91 - ETA: 35s - loss: 0.2639 - acc: 0.91 - ETA: 29s - loss: 0.2642 - acc: 0.91 - ETA: 23s - loss: 0.2641 - acc: 0.91 - ETA: 17s - loss: 0.2638 - acc: 0.91 - ETA: 11s - loss: 0.2640 - acc: 0.91 - ETA: 5s - loss: 0.2639 - acc: 0.9134 - 1466s 49ms/step - loss: 0.2636 - acc: 0.9136 - val_loss: 0.2604 - val_acc: 0.9117\n",
      "Epoch 3/10\n"
     ]
    },
    {
     "name": "stdout",
     "output_type": "stream",
     "text": [
      "26112/29932 [=========================>....] - ETA: 24:11 - loss: 0.1833 - acc: 0.95 - ETA: 24:03 - loss: 0.2031 - acc: 0.94 - ETA: 23:52 - loss: 0.1916 - acc: 0.94 - ETA: 23:40 - loss: 0.1954 - acc: 0.94 - ETA: 23:29 - loss: 0.2114 - acc: 0.93 - ETA: 23:31 - loss: 0.2180 - acc: 0.93 - ETA: 23:23 - loss: 0.2173 - acc: 0.93 - ETA: 23:17 - loss: 0.2176 - acc: 0.93 - ETA: 23:15 - loss: 0.2202 - acc: 0.93 - ETA: 22:55 - loss: 0.2241 - acc: 0.93 - ETA: 22:49 - loss: 0.2238 - acc: 0.93 - ETA: 22:45 - loss: 0.2217 - acc: 0.93 - ETA: 22:41 - loss: 0.2186 - acc: 0.93 - ETA: 22:36 - loss: 0.2156 - acc: 0.93 - ETA: 22:30 - loss: 0.2209 - acc: 0.93 - ETA: 22:24 - loss: 0.2216 - acc: 0.93 - ETA: 22:18 - loss: 0.2179 - acc: 0.93 - ETA: 22:12 - loss: 0.2195 - acc: 0.93 - ETA: 22:07 - loss: 0.2193 - acc: 0.93 - ETA: 22:03 - loss: 0.2187 - acc: 0.93 - ETA: 21:56 - loss: 0.2179 - acc: 0.93 - ETA: 21:52 - loss: 0.2187 - acc: 0.93 - ETA: 21:46 - loss: 0.2187 - acc: 0.93 - ETA: 21:39 - loss: 0.2189 - acc: 0.93 - ETA: 21:33 - loss: 0.2173 - acc: 0.93 - ETA: 21:27 - loss: 0.2176 - acc: 0.93 - ETA: 21:21 - loss: 0.2193 - acc: 0.93 - ETA: 21:15 - loss: 0.2204 - acc: 0.93 - ETA: 21:03 - loss: 0.2210 - acc: 0.93 - ETA: 20:56 - loss: 0.2190 - acc: 0.93 - ETA: 20:50 - loss: 0.2189 - acc: 0.93 - ETA: 20:45 - loss: 0.2183 - acc: 0.93 - ETA: 20:39 - loss: 0.2176 - acc: 0.93 - ETA: 20:33 - loss: 0.2170 - acc: 0.93 - ETA: 20:27 - loss: 0.2159 - acc: 0.93 - ETA: 20:22 - loss: 0.2162 - acc: 0.93 - ETA: 20:16 - loss: 0.2172 - acc: 0.93 - ETA: 20:11 - loss: 0.2172 - acc: 0.93 - ETA: 20:02 - loss: 0.2174 - acc: 0.93 - ETA: 19:55 - loss: 0.2163 - acc: 0.93 - ETA: 19:50 - loss: 0.2164 - acc: 0.93 - ETA: 19:44 - loss: 0.2149 - acc: 0.93 - ETA: 19:38 - loss: 0.2153 - acc: 0.93 - ETA: 19:33 - loss: 0.2165 - acc: 0.93 - ETA: 19:27 - loss: 0.2155 - acc: 0.93 - ETA: 19:21 - loss: 0.2159 - acc: 0.93 - ETA: 19:16 - loss: 0.2156 - acc: 0.93 - ETA: 19:10 - loss: 0.2160 - acc: 0.93 - ETA: 19:05 - loss: 0.2172 - acc: 0.93 - ETA: 18:58 - loss: 0.2180 - acc: 0.93 - ETA: 18:52 - loss: 0.2175 - acc: 0.93 - ETA: 18:46 - loss: 0.2170 - acc: 0.93 - ETA: 18:41 - loss: 0.2170 - acc: 0.93 - ETA: 18:35 - loss: 0.2174 - acc: 0.93 - ETA: 18:30 - loss: 0.2179 - acc: 0.93 - ETA: 18:24 - loss: 0.2190 - acc: 0.93 - ETA: 18:17 - loss: 0.2182 - acc: 0.93 - ETA: 18:09 - loss: 0.2186 - acc: 0.93 - ETA: 18:04 - loss: 0.2188 - acc: 0.93 - ETA: 17:57 - loss: 0.2197 - acc: 0.93 - ETA: 17:51 - loss: 0.2182 - acc: 0.93 - ETA: 17:45 - loss: 0.2177 - acc: 0.93 - ETA: 17:39 - loss: 0.2163 - acc: 0.93 - ETA: 17:33 - loss: 0.2164 - acc: 0.93 - ETA: 17:27 - loss: 0.2162 - acc: 0.93 - ETA: 17:21 - loss: 0.2169 - acc: 0.93 - ETA: 17:15 - loss: 0.2165 - acc: 0.93 - ETA: 17:08 - loss: 0.2165 - acc: 0.93 - ETA: 17:02 - loss: 0.2163 - acc: 0.93 - ETA: 16:56 - loss: 0.2163 - acc: 0.93 - ETA: 16:50 - loss: 0.2169 - acc: 0.93 - ETA: 16:45 - loss: 0.2169 - acc: 0.93 - ETA: 16:39 - loss: 0.2170 - acc: 0.93 - ETA: 16:32 - loss: 0.2171 - acc: 0.93 - ETA: 16:26 - loss: 0.2175 - acc: 0.93 - ETA: 16:20 - loss: 0.2175 - acc: 0.93 - ETA: 16:14 - loss: 0.2171 - acc: 0.93 - ETA: 16:08 - loss: 0.2171 - acc: 0.93 - ETA: 16:02 - loss: 0.2176 - acc: 0.93 - ETA: 15:56 - loss: 0.2179 - acc: 0.93 - ETA: 15:50 - loss: 0.2183 - acc: 0.93 - ETA: 15:44 - loss: 0.2192 - acc: 0.93 - ETA: 15:37 - loss: 0.2197 - acc: 0.93 - ETA: 15:31 - loss: 0.2195 - acc: 0.93 - ETA: 15:25 - loss: 0.2193 - acc: 0.93 - ETA: 15:19 - loss: 0.2192 - acc: 0.93 - ETA: 15:12 - loss: 0.2182 - acc: 0.93 - ETA: 15:06 - loss: 0.2188 - acc: 0.93 - ETA: 15:00 - loss: 0.2191 - acc: 0.93 - ETA: 14:54 - loss: 0.2195 - acc: 0.93 - ETA: 14:48 - loss: 0.2194 - acc: 0.93 - ETA: 14:42 - loss: 0.2198 - acc: 0.93 - ETA: 14:36 - loss: 0.2196 - acc: 0.93 - ETA: 14:30 - loss: 0.2199 - acc: 0.93 - ETA: 14:24 - loss: 0.2195 - acc: 0.93 - ETA: 14:18 - loss: 0.2195 - acc: 0.93 - ETA: 14:12 - loss: 0.2190 - acc: 0.93 - ETA: 14:05 - loss: 0.2190 - acc: 0.93 - ETA: 13:59 - loss: 0.2202 - acc: 0.93 - ETA: 13:53 - loss: 0.2204 - acc: 0.93 - ETA: 13:47 - loss: 0.2202 - acc: 0.93 - ETA: 13:40 - loss: 0.2196 - acc: 0.93 - ETA: 13:34 - loss: 0.2193 - acc: 0.93 - ETA: 13:28 - loss: 0.2201 - acc: 0.93 - ETA: 13:22 - loss: 0.2199 - acc: 0.93 - ETA: 13:15 - loss: 0.2200 - acc: 0.93 - ETA: 13:09 - loss: 0.2198 - acc: 0.93 - ETA: 13:03 - loss: 0.2196 - acc: 0.93 - ETA: 12:56 - loss: 0.2197 - acc: 0.93 - ETA: 12:50 - loss: 0.2204 - acc: 0.93 - ETA: 12:44 - loss: 0.2208 - acc: 0.93 - ETA: 12:37 - loss: 0.2204 - acc: 0.93 - ETA: 12:31 - loss: 0.2204 - acc: 0.93 - ETA: 12:25 - loss: 0.2199 - acc: 0.93 - ETA: 12:19 - loss: 0.2201 - acc: 0.93 - ETA: 12:13 - loss: 0.2205 - acc: 0.93 - ETA: 12:06 - loss: 0.2208 - acc: 0.93 - ETA: 12:00 - loss: 0.2206 - acc: 0.93 - ETA: 11:54 - loss: 0.2207 - acc: 0.93 - ETA: 11:48 - loss: 0.2218 - acc: 0.93 - ETA: 11:42 - loss: 0.2226 - acc: 0.93 - ETA: 11:35 - loss: 0.2226 - acc: 0.93 - ETA: 11:29 - loss: 0.2228 - acc: 0.92 - ETA: 11:23 - loss: 0.2229 - acc: 0.92 - ETA: 11:17 - loss: 0.2231 - acc: 0.92 - ETA: 11:10 - loss: 0.2229 - acc: 0.92 - ETA: 11:04 - loss: 0.2229 - acc: 0.92 - ETA: 10:58 - loss: 0.2233 - acc: 0.92 - ETA: 10:52 - loss: 0.2237 - acc: 0.92 - ETA: 10:46 - loss: 0.2244 - acc: 0.92 - ETA: 10:40 - loss: 0.2243 - acc: 0.92 - ETA: 10:33 - loss: 0.2242 - acc: 0.92 - ETA: 10:27 - loss: 0.2246 - acc: 0.92 - ETA: 10:21 - loss: 0.2246 - acc: 0.92 - ETA: 10:14 - loss: 0.2246 - acc: 0.92 - ETA: 10:08 - loss: 0.2247 - acc: 0.92 - ETA: 10:02 - loss: 0.2245 - acc: 0.92 - ETA: 9:56 - loss: 0.2247 - acc: 0.9289 - ETA: 9:50 - loss: 0.2248 - acc: 0.928 - ETA: 9:43 - loss: 0.2248 - acc: 0.928 - ETA: 9:37 - loss: 0.2248 - acc: 0.928 - ETA: 9:31 - loss: 0.2245 - acc: 0.928 - ETA: 9:25 - loss: 0.2244 - acc: 0.928 - ETA: 9:19 - loss: 0.2246 - acc: 0.928 - ETA: 9:13 - loss: 0.2246 - acc: 0.928 - ETA: 9:06 - loss: 0.2246 - acc: 0.928 - ETA: 9:00 - loss: 0.2243 - acc: 0.929 - ETA: 8:54 - loss: 0.2245 - acc: 0.929 - ETA: 8:48 - loss: 0.2244 - acc: 0.929 - ETA: 8:41 - loss: 0.2243 - acc: 0.929 - ETA: 8:35 - loss: 0.2242 - acc: 0.929 - ETA: 8:29 - loss: 0.2241 - acc: 0.929 - ETA: 8:23 - loss: 0.2243 - acc: 0.929 - ETA: 8:17 - loss: 0.2239 - acc: 0.929 - ETA: 8:10 - loss: 0.2241 - acc: 0.929 - ETA: 8:04 - loss: 0.2244 - acc: 0.929 - ETA: 7:58 - loss: 0.2244 - acc: 0.929 - ETA: 7:52 - loss: 0.2246 - acc: 0.929 - ETA: 7:46 - loss: 0.2242 - acc: 0.929 - ETA: 7:39 - loss: 0.2239 - acc: 0.929 - ETA: 7:33 - loss: 0.2239 - acc: 0.929 - ETA: 7:27 - loss: 0.2238 - acc: 0.929 - ETA: 7:21 - loss: 0.2241 - acc: 0.929 - ETA: 7:14 - loss: 0.2241 - acc: 0.929 - ETA: 7:08 - loss: 0.2240 - acc: 0.929 - ETA: 7:02 - loss: 0.2243 - acc: 0.928 - ETA: 6:56 - loss: 0.2247 - acc: 0.928 - ETA: 6:49 - loss: 0.2248 - acc: 0.928 - ETA: 6:43 - loss: 0.2245 - acc: 0.928 - ETA: 6:37 - loss: 0.2246 - acc: 0.928 - ETA: 6:31 - loss: 0.2245 - acc: 0.928 - ETA: 6:25 - loss: 0.2244 - acc: 0.928 - ETA: 6:18 - loss: 0.2241 - acc: 0.928 - ETA: 6:12 - loss: 0.2246 - acc: 0.928 - ETA: 6:06 - loss: 0.2244 - acc: 0.928 - ETA: 6:00 - loss: 0.2246 - acc: 0.928 - ETA: 5:53 - loss: 0.2244 - acc: 0.928 - ETA: 5:47 - loss: 0.2246 - acc: 0.928 - ETA: 5:41 - loss: 0.2246 - acc: 0.928 - ETA: 5:35 - loss: 0.2247 - acc: 0.928 - ETA: 5:28 - loss: 0.2245 - acc: 0.928 - ETA: 5:22 - loss: 0.2249 - acc: 0.928 - ETA: 5:16 - loss: 0.2254 - acc: 0.928 - ETA: 5:10 - loss: 0.2253 - acc: 0.928 - ETA: 5:03 - loss: 0.2256 - acc: 0.928 - ETA: 4:57 - loss: 0.2256 - acc: 0.928 - ETA: 4:51 - loss: 0.2254 - acc: 0.928 - ETA: 4:45 - loss: 0.2254 - acc: 0.928 - ETA: 4:39 - loss: 0.2258 - acc: 0.928 - ETA: 4:32 - loss: 0.2263 - acc: 0.927 - ETA: 4:26 - loss: 0.2265 - acc: 0.927 - ETA: 4:20 - loss: 0.2270 - acc: 0.927 - ETA: 4:14 - loss: 0.2274 - acc: 0.927 - ETA: 4:08 - loss: 0.2276 - acc: 0.927 - ETA: 4:01 - loss: 0.2277 - acc: 0.927 - ETA: 3:55 - loss: 0.2275 - acc: 0.927 - ETA: 3:49 - loss: 0.2275 - acc: 0.926 - ETA: 3:43 - loss: 0.2274 - acc: 0.927 - ETA: 3:36 - loss: 0.2277 - acc: 0.926 - ETA: 3:30 - loss: 0.2279 - acc: 0.926 - ETA: 3:24 - loss: 0.2279 - acc: 0.926 - ETA: 3:18 - loss: 0.2282 - acc: 0.926 - ETA: 3:12 - loss: 0.2282 - acc: 0.926 - ETA: 3:05 - loss: 0.2283 - acc: 0.926829932/29932 [==============================] - ETA: 2:59 - loss: 0.2285 - acc: 0.926 - ETA: 2:53 - loss: 0.2286 - acc: 0.926 - ETA: 2:47 - loss: 0.2285 - acc: 0.926 - ETA: 2:40 - loss: 0.2283 - acc: 0.926 - ETA: 2:34 - loss: 0.2282 - acc: 0.927 - ETA: 2:28 - loss: 0.2280 - acc: 0.927 - ETA: 2:22 - loss: 0.2284 - acc: 0.926 - ETA: 2:15 - loss: 0.2284 - acc: 0.927 - ETA: 2:09 - loss: 0.2285 - acc: 0.927 - ETA: 2:03 - loss: 0.2284 - acc: 0.927 - ETA: 1:57 - loss: 0.2285 - acc: 0.927 - ETA: 1:51 - loss: 0.2284 - acc: 0.927 - ETA: 1:44 - loss: 0.2284 - acc: 0.927 - ETA: 1:38 - loss: 0.2285 - acc: 0.927 - ETA: 1:32 - loss: 0.2283 - acc: 0.927 - ETA: 1:26 - loss: 0.2282 - acc: 0.927 - ETA: 1:19 - loss: 0.2279 - acc: 0.927 - ETA: 1:13 - loss: 0.2275 - acc: 0.927 - ETA: 1:07 - loss: 0.2276 - acc: 0.927 - ETA: 1:01 - loss: 0.2273 - acc: 0.927 - ETA: 55s - loss: 0.2272 - acc: 0.927 - ETA: 48s - loss: 0.2273 - acc: 0.92 - ETA: 42s - loss: 0.2271 - acc: 0.92 - ETA: 36s - loss: 0.2271 - acc: 0.92 - ETA: 30s - loss: 0.2271 - acc: 0.92 - ETA: 23s - loss: 0.2269 - acc: 0.92 - ETA: 17s - loss: 0.2268 - acc: 0.92 - ETA: 11s - loss: 0.2265 - acc: 0.92 - ETA: 5s - loss: 0.2264 - acc: 0.9281 - 1494s 50ms/step - loss: 0.2265 - acc: 0.9279 - val_loss: 0.2607 - val_acc: 0.9070\n",
      "Epoch 00003: early stopping\n",
      "Accuracy: 90.70%\n"
     ]
    }
   ],
   "source": [
    "import warnings \n",
    "warnings.filterwarnings(\"ignore\")\n",
    "\n",
    "history = model.fit(X_train, Y_train, epochs = 10,verbose = 1, batch_size = 128,validation_data=(X_test, Y_test),callbacks = [es])\n",
    "scores = model.evaluate(X_test, Y_test, verbose = 0)\n",
    "print(\"Accuracy: %.2f%%\" % (scores[1]*100))\n"
   ]
  },
  {
   "cell_type": "code",
   "execution_count": 39,
   "metadata": {},
   "outputs": [
    {
     "name": "stdout",
     "output_type": "stream",
     "text": [
      "dict_keys(['val_loss', 'val_acc', 'loss', 'acc'])\n"
     ]
    }
   ],
   "source": [
    "print(history.history.keys())"
   ]
  },
  {
   "cell_type": "code",
   "execution_count": 40,
   "metadata": {},
   "outputs": [
    {
     "data": {
      "image/png": "[encoded data removed]",
      "text/plain": [
       "<Figure size 432x288 with 1 Axes>"
      ]
     },
     "metadata": {
      "needs_background": "light"
     },
     "output_type": "display_data"
    }
   ],
   "source": [
    "# summarize history for accuracy\n",
    "plt.plot(history.history['acc'])\n",
    "plt.plot(history.history['val_acc'])\n",
    "plt.title('model accuracy')\n",
    "plt.ylabel('accuracy')\n",
    "plt.xlabel('epoch')\n",
    "plt.legend(['train', 'test'], loc='upper left')\n",
    "plt.show()"
   ]
  },
  {
   "cell_type": "code",
   "execution_count": 41,
   "metadata": {
    "scrolled": true
   },
   "outputs": [
    {
     "data": {
      "image/png": "[encoded data removed]",
      "text/plain": [
       "<Figure size 432x288 with 1 Axes>"
      ]
     },
     "metadata": {
      "needs_background": "light"
     },
     "output_type": "display_data"
    }
   ],
   "source": [
    "# summarize history for loss\n",
    "plt.plot(history.history['loss'])\n",
    "plt.plot(history.history['val_loss'])\n",
    "plt.title('model loss')\n",
    "plt.ylabel('loss')\n",
    "plt.xlabel('epoch')\n",
    "plt.legend(['train', 'test'], loc='upper left')\n",
    "plt.show()"
   ]
  },
  {
   "cell_type": "code",
   "execution_count": 42,
   "metadata": {},
   "outputs": [
    {
     "name": "stdout",
     "output_type": "stream",
     "text": [
      "Test score: 0.2606846533260705\n",
      "Test accuracy: 0.906989175488282\n"
     ]
    }
   ],
   "source": [
    "print('Test score:', scores[0]) \n",
    "print('Test accuracy:', scores[1]) "
   ]
  },
  {
   "cell_type": "markdown",
   "metadata": {},
   "source": [
    "### Model 2 "
   ]
  },
  {
   "cell_type": "code",
   "execution_count": 34,
   "metadata": {
    "scrolled": false
   },
   "outputs": [
    {
     "name": "stdout",
     "output_type": "stream",
     "text": [
      "_________________________________________________________________\n",
      "Layer (type)                 Output Shape              Param #   \n",
      "=================================================================\n",
      "embedding_2 (Embedding)      (None, 600, 32)           160000    \n",
      "_________________________________________________________________\n",
      "lstm_3 (LSTM)                (None, 600, 100)          53200     \n",
      "_________________________________________________________________\n",
      "lstm_4 (LSTM)                (None, 100)               80400     \n",
      "_________________________________________________________________\n",
      "dropout_2 (Dropout)          (None, 100)               0         \n",
      "_________________________________________________________________\n",
      "dense_2 (Dense)              (None, 1)                 101       \n",
      "=================================================================\n",
      "Total params: 293,701\n",
      "Trainable params: 293,701\n",
      "Non-trainable params: 0\n",
      "_________________________________________________________________\n",
      "None\n"
     ]
    }
   ],
   "source": [
    "embedding_vecor_length = 32\n",
    "model_2 = Sequential()\n",
    "model_2.add(Embedding(max_features, embedding_vecor_length, input_length=max_review_length))\n",
    "model_2.add(LSTM(100, return_sequences=True, kernel_regularizer=regularizers.l2(0.01)))\n",
    "model_2.add(LSTM(100, kernel_regularizer=regularizers.l2(0.01)))\n",
    "model_2.add(Dropout(0.30))\n",
    "model_2.add(Dense(1, activation='sigmoid', kernel_regularizer=regularizers.l2(0.01)))\n",
    "model_2.compile(loss='binary_crossentropy', optimizer='adam', metrics=['accuracy'])\n",
    "print(model_2.summary())"
   ]
  },
  {
   "cell_type": "markdown",
   "metadata": {},
   "source": [
    "#### Using Earlystopping to reduce overfitting "
   ]
  },
  {
   "cell_type": "code",
   "execution_count": 35,
   "metadata": {},
   "outputs": [],
   "source": [
    "# simple early stopping\n",
    "es1 = EarlyStopping(monitor='val_loss', mode='min', verbose=1)"
   ]
  },
  {
   "cell_type": "code",
   "execution_count": 36,
   "metadata": {
    "scrolled": true
   },
   "outputs": [
    {
     "name": "stdout",
     "output_type": "stream",
     "text": [
      "Train on 29932 samples, validate on 7483 samples\n",
      "Epoch 1/7\n"
     ]
    },
    {
     "name": "stdout",
     "output_type": "stream",
     "text": [
      "25984/29932 [=========================>....] - ETA: 25:45 - loss: 2.8962 - acc: 0.47 - ETA: 22:00 - loss: 2.8721 - acc: 0.64 - ETA: 21:02 - loss: 2.8455 - acc: 0.70 - ETA: 20:26 - loss: 2.8171 - acc: 0.74 - ETA: 20:04 - loss: 2.7875 - acc: 0.77 - ETA: 19:47 - loss: 2.7577 - acc: 0.78 - ETA: 19:36 - loss: 2.7266 - acc: 0.78 - ETA: 19:23 - loss: 2.6940 - acc: 0.79 - ETA: 19:15 - loss: 2.6569 - acc: 0.79 - ETA: 19:15 - loss: 2.6181 - acc: 0.80 - ETA: 19:13 - loss: 2.5728 - acc: 0.80 - ETA: 19:13 - loss: 2.5496 - acc: 0.80 - ETA: 19:17 - loss: 2.5246 - acc: 0.80 - ETA: 19:14 - loss: 2.4928 - acc: 0.80 - ETA: 19:10 - loss: 2.4592 - acc: 0.80 - ETA: 19:05 - loss: 2.4304 - acc: 0.80 - ETA: 19:01 - loss: 2.3993 - acc: 0.80 - ETA: 18:58 - loss: 2.3673 - acc: 0.81 - ETA: 18:52 - loss: 2.3382 - acc: 0.81 - ETA: 18:47 - loss: 2.3092 - acc: 0.81 - ETA: 18:42 - loss: 2.2819 - acc: 0.81 - ETA: 18:38 - loss: 2.2552 - acc: 0.82 - ETA: 18:32 - loss: 2.2316 - acc: 0.81 - ETA: 18:32 - loss: 2.2060 - acc: 0.82 - ETA: 18:26 - loss: 2.1840 - acc: 0.82 - ETA: 18:21 - loss: 2.1580 - acc: 0.82 - ETA: 18:15 - loss: 2.1374 - acc: 0.82 - ETA: 18:09 - loss: 2.1169 - acc: 0.82 - ETA: 18:04 - loss: 2.0920 - acc: 0.82 - ETA: 17:58 - loss: 2.0701 - acc: 0.82 - ETA: 17:52 - loss: 2.0473 - acc: 0.82 - ETA: 17:46 - loss: 2.0303 - acc: 0.82 - ETA: 17:41 - loss: 2.0095 - acc: 0.82 - ETA: 17:36 - loss: 1.9886 - acc: 0.82 - ETA: 17:30 - loss: 1.9715 - acc: 0.82 - ETA: 17:28 - loss: 1.9520 - acc: 0.82 - ETA: 17:22 - loss: 1.9329 - acc: 0.82 - ETA: 17:16 - loss: 1.9131 - acc: 0.82 - ETA: 17:11 - loss: 1.8943 - acc: 0.82 - ETA: 17:05 - loss: 1.8765 - acc: 0.82 - ETA: 17:00 - loss: 1.8569 - acc: 0.82 - ETA: 16:55 - loss: 1.8390 - acc: 0.82 - ETA: 16:49 - loss: 1.8234 - acc: 0.82 - ETA: 16:44 - loss: 1.8078 - acc: 0.82 - ETA: 16:39 - loss: 1.7924 - acc: 0.82 - ETA: 16:34 - loss: 1.7773 - acc: 0.82 - ETA: 16:31 - loss: 1.7636 - acc: 0.82 - ETA: 16:26 - loss: 1.7482 - acc: 0.82 - ETA: 16:20 - loss: 1.7334 - acc: 0.82 - ETA: 16:15 - loss: 1.7168 - acc: 0.82 - ETA: 16:10 - loss: 1.7013 - acc: 0.82 - ETA: 16:04 - loss: 1.6869 - acc: 0.82 - ETA: 15:59 - loss: 1.6728 - acc: 0.82 - ETA: 15:53 - loss: 1.6582 - acc: 0.82 - ETA: 15:48 - loss: 1.6444 - acc: 0.82 - ETA: 15:42 - loss: 1.6311 - acc: 0.82 - ETA: 15:37 - loss: 1.6167 - acc: 0.82 - ETA: 15:33 - loss: 1.6029 - acc: 0.82 - ETA: 15:28 - loss: 1.5888 - acc: 0.82 - ETA: 15:22 - loss: 1.5749 - acc: 0.83 - ETA: 15:17 - loss: 1.5620 - acc: 0.83 - ETA: 15:11 - loss: 1.5486 - acc: 0.83 - ETA: 15:06 - loss: 1.5378 - acc: 0.83 - ETA: 15:01 - loss: 1.5268 - acc: 0.83 - ETA: 14:56 - loss: 1.5151 - acc: 0.83 - ETA: 14:50 - loss: 1.5048 - acc: 0.83 - ETA: 14:45 - loss: 1.4940 - acc: 0.83 - ETA: 14:40 - loss: 1.4821 - acc: 0.83 - ETA: 14:36 - loss: 1.4712 - acc: 0.83 - ETA: 14:30 - loss: 1.4605 - acc: 0.83 - ETA: 14:25 - loss: 1.4501 - acc: 0.83 - ETA: 14:20 - loss: 1.4392 - acc: 0.83 - ETA: 14:14 - loss: 1.4282 - acc: 0.83 - ETA: 14:09 - loss: 1.4179 - acc: 0.83 - ETA: 14:04 - loss: 1.4080 - acc: 0.83 - ETA: 13:59 - loss: 1.3986 - acc: 0.83 - ETA: 13:53 - loss: 1.3880 - acc: 0.83 - ETA: 13:48 - loss: 1.3790 - acc: 0.83 - ETA: 13:43 - loss: 1.3703 - acc: 0.83 - ETA: 13:39 - loss: 1.3608 - acc: 0.83 - ETA: 13:34 - loss: 1.3517 - acc: 0.83 - ETA: 13:28 - loss: 1.3429 - acc: 0.83 - ETA: 13:23 - loss: 1.3342 - acc: 0.83 - ETA: 13:18 - loss: 1.3260 - acc: 0.83 - ETA: 13:13 - loss: 1.3170 - acc: 0.83 - ETA: 13:07 - loss: 1.3089 - acc: 0.83 - ETA: 13:02 - loss: 1.3002 - acc: 0.83 - ETA: 12:57 - loss: 1.2930 - acc: 0.83 - ETA: 12:52 - loss: 1.2851 - acc: 0.83 - ETA: 12:46 - loss: 1.2782 - acc: 0.83 - ETA: 12:42 - loss: 1.2700 - acc: 0.83 - ETA: 12:37 - loss: 1.2625 - acc: 0.83 - ETA: 12:32 - loss: 1.2551 - acc: 0.83 - ETA: 12:26 - loss: 1.2475 - acc: 0.83 - ETA: 12:21 - loss: 1.2400 - acc: 0.83 - ETA: 12:16 - loss: 1.2331 - acc: 0.83 - ETA: 12:11 - loss: 1.2261 - acc: 0.83 - ETA: 12:06 - loss: 1.2195 - acc: 0.83 - ETA: 12:01 - loss: 1.2121 - acc: 0.83 - ETA: 11:55 - loss: 1.2055 - acc: 0.83 - ETA: 11:50 - loss: 1.1991 - acc: 0.83 - ETA: 11:46 - loss: 1.1926 - acc: 0.83 - ETA: 11:41 - loss: 1.1862 - acc: 0.83 - ETA: 11:36 - loss: 1.1807 - acc: 0.83 - ETA: 11:31 - loss: 1.1747 - acc: 0.83 - ETA: 11:25 - loss: 1.1682 - acc: 0.83 - ETA: 11:20 - loss: 1.1620 - acc: 0.83 - ETA: 11:15 - loss: 1.1555 - acc: 0.83 - ETA: 11:10 - loss: 1.1492 - acc: 0.83 - ETA: 11:05 - loss: 1.1435 - acc: 0.83 - ETA: 11:00 - loss: 1.1365 - acc: 0.83 - ETA: 10:55 - loss: 1.1302 - acc: 0.83 - ETA: 10:50 - loss: 1.1249 - acc: 0.83 - ETA: 10:45 - loss: 1.1191 - acc: 0.83 - ETA: 10:40 - loss: 1.1141 - acc: 0.83 - ETA: 10:35 - loss: 1.1087 - acc: 0.83 - ETA: 10:29 - loss: 1.1029 - acc: 0.83 - ETA: 10:24 - loss: 1.0976 - acc: 0.83 - ETA: 10:19 - loss: 1.0926 - acc: 0.83 - ETA: 10:14 - loss: 1.0873 - acc: 0.83 - ETA: 10:09 - loss: 1.0817 - acc: 0.83 - ETA: 10:04 - loss: 1.0764 - acc: 0.83 - ETA: 9:59 - loss: 1.0713 - acc: 0.8331 - ETA: 9:54 - loss: 1.0659 - acc: 0.833 - ETA: 9:49 - loss: 1.0607 - acc: 0.833 - ETA: 9:44 - loss: 1.0553 - acc: 0.833 - ETA: 9:39 - loss: 1.0499 - acc: 0.834 - ETA: 9:34 - loss: 1.0450 - acc: 0.834 - ETA: 9:28 - loss: 1.0407 - acc: 0.834 - ETA: 9:23 - loss: 1.0354 - acc: 0.834 - ETA: 9:18 - loss: 1.0302 - acc: 0.835 - ETA: 9:13 - loss: 1.0253 - acc: 0.835 - ETA: 9:07 - loss: 1.0206 - acc: 0.835 - ETA: 9:03 - loss: 1.0155 - acc: 0.835 - ETA: 8:57 - loss: 1.0106 - acc: 0.836 - ETA: 8:52 - loss: 1.0062 - acc: 0.836 - ETA: 8:47 - loss: 1.0011 - acc: 0.836 - ETA: 8:42 - loss: 0.9969 - acc: 0.837 - ETA: 8:36 - loss: 0.9927 - acc: 0.836 - ETA: 8:31 - loss: 0.9876 - acc: 0.837 - ETA: 8:26 - loss: 0.9831 - acc: 0.837 - ETA: 8:21 - loss: 0.9784 - acc: 0.837 - ETA: 8:15 - loss: 0.9738 - acc: 0.838 - ETA: 8:11 - loss: 0.9692 - acc: 0.838 - ETA: 8:05 - loss: 0.9647 - acc: 0.839 - ETA: 8:00 - loss: 0.9609 - acc: 0.839 - ETA: 7:55 - loss: 0.9561 - acc: 0.839 - ETA: 7:49 - loss: 0.9520 - acc: 0.840 - ETA: 7:44 - loss: 0.9479 - acc: 0.840 - ETA: 7:39 - loss: 0.9437 - acc: 0.840 - ETA: 7:34 - loss: 0.9397 - acc: 0.840 - ETA: 7:28 - loss: 0.9353 - acc: 0.841 - ETA: 7:23 - loss: 0.9309 - acc: 0.842 - ETA: 7:18 - loss: 0.9267 - acc: 0.842 - ETA: 7:13 - loss: 0.9227 - acc: 0.842 - ETA: 7:08 - loss: 0.9187 - acc: 0.843 - ETA: 7:03 - loss: 0.9146 - acc: 0.843 - ETA: 6:57 - loss: 0.9109 - acc: 0.843 - ETA: 6:52 - loss: 0.9074 - acc: 0.844 - ETA: 6:46 - loss: 0.9034 - acc: 0.844 - ETA: 6:41 - loss: 0.8992 - acc: 0.845 - ETA: 6:36 - loss: 0.8970 - acc: 0.845 - ETA: 6:30 - loss: 0.8935 - acc: 0.845 - ETA: 6:25 - loss: 0.8903 - acc: 0.845 - ETA: 6:20 - loss: 0.8874 - acc: 0.846 - ETA: 6:15 - loss: 0.8845 - acc: 0.846 - ETA: 6:09 - loss: 0.8819 - acc: 0.846 - ETA: 6:04 - loss: 0.8788 - acc: 0.847 - ETA: 5:59 - loss: 0.8763 - acc: 0.847 - ETA: 5:53 - loss: 0.8732 - acc: 0.847 - ETA: 5:48 - loss: 0.8699 - acc: 0.847 - ETA: 5:43 - loss: 0.8666 - acc: 0.848 - ETA: 5:37 - loss: 0.8640 - acc: 0.848 - ETA: 5:32 - loss: 0.8612 - acc: 0.848 - ETA: 5:27 - loss: 0.8586 - acc: 0.848 - ETA: 5:22 - loss: 0.8557 - acc: 0.848 - ETA: 5:17 - loss: 0.8530 - acc: 0.848 - ETA: 5:11 - loss: 0.8498 - acc: 0.848 - ETA: 5:06 - loss: 0.8470 - acc: 0.849 - ETA: 5:00 - loss: 0.8441 - acc: 0.849 - ETA: 4:55 - loss: 0.8416 - acc: 0.849 - ETA: 4:50 - loss: 0.8390 - acc: 0.849 - ETA: 4:44 - loss: 0.8363 - acc: 0.849 - ETA: 4:39 - loss: 0.8337 - acc: 0.849 - ETA: 4:33 - loss: 0.8312 - acc: 0.850 - ETA: 4:28 - loss: 0.8288 - acc: 0.850 - ETA: 4:22 - loss: 0.8261 - acc: 0.850 - ETA: 4:17 - loss: 0.8237 - acc: 0.850 - ETA: 4:12 - loss: 0.8210 - acc: 0.850 - ETA: 4:06 - loss: 0.8185 - acc: 0.850 - ETA: 4:01 - loss: 0.8158 - acc: 0.850 - ETA: 3:55 - loss: 0.8134 - acc: 0.851 - ETA: 3:50 - loss: 0.8111 - acc: 0.851 - ETA: 3:44 - loss: 0.8086 - acc: 0.851 - ETA: 3:39 - loss: 0.8056 - acc: 0.852 - ETA: 3:33 - loss: 0.8035 - acc: 0.852 - ETA: 3:28 - loss: 0.8008 - acc: 0.852 - ETA: 3:22 - loss: 0.7980 - acc: 0.852 - ETA: 3:17 - loss: 0.7961 - acc: 0.852 - ETA: 3:11 - loss: 0.7933 - acc: 0.853 - ETA: 3:05 - loss: 0.7905 - acc: 0.853 - ETA: 3:00 - loss: 0.7882 - acc: 0.853 - ETA: 2:54 - loss: 0.7863 - acc: 0.8538\b\b\b\b\b\b\b\b\b\b\b\b\b\b\b\b\b\b\b\b\b\b\b\b\b\b\b\b\b\b\b\b\b\b\b\b\b\b\b\b\b\b\b\b\b\b\b\b\b\b\b\b\b\b\b\b\b\b\b\b\b\b\b\b\b\b\b\b\b\b\b\b\b\b\b\b\b\b\b\b\b\b\b\b\b"
     ]
    },
    {
     "name": "stdout",
     "output_type": "stream",
     "text": [
      "29932/29932 [==============================] - ETA: 2:49 - loss: 0.7837 - acc: 0.854 - ETA: 2:43 - loss: 0.7812 - acc: 0.854 - ETA: 2:38 - loss: 0.7794 - acc: 0.854 - ETA: 2:32 - loss: 0.7770 - acc: 0.854 - ETA: 2:26 - loss: 0.7748 - acc: 0.854 - ETA: 2:21 - loss: 0.7726 - acc: 0.855 - ETA: 2:15 - loss: 0.7704 - acc: 0.855 - ETA: 2:10 - loss: 0.7677 - acc: 0.855 - ETA: 2:04 - loss: 0.7655 - acc: 0.855 - ETA: 1:58 - loss: 0.7635 - acc: 0.856 - ETA: 1:53 - loss: 0.7614 - acc: 0.856 - ETA: 1:47 - loss: 0.7591 - acc: 0.856 - ETA: 1:41 - loss: 0.7573 - acc: 0.856 - ETA: 1:36 - loss: 0.7550 - acc: 0.857 - ETA: 1:30 - loss: 0.7528 - acc: 0.857 - ETA: 1:24 - loss: 0.7504 - acc: 0.857 - ETA: 1:19 - loss: 0.7481 - acc: 0.857 - ETA: 1:13 - loss: 0.7459 - acc: 0.858 - ETA: 1:07 - loss: 0.7440 - acc: 0.858 - ETA: 1:02 - loss: 0.7423 - acc: 0.858 - ETA: 56s - loss: 0.7404 - acc: 0.858 - ETA: 50s - loss: 0.7383 - acc: 0.85 - ETA: 45s - loss: 0.7368 - acc: 0.85 - ETA: 39s - loss: 0.7349 - acc: 0.85 - ETA: 33s - loss: 0.7334 - acc: 0.85 - ETA: 27s - loss: 0.7318 - acc: 0.85 - ETA: 22s - loss: 0.7297 - acc: 0.85 - ETA: 16s - loss: 0.7279 - acc: 0.85 - ETA: 10s - loss: 0.7258 - acc: 0.85 - ETA: 4s - loss: 0.7239 - acc: 0.8597 - 1398s 47ms/step - loss: 0.7224 - acc: 0.8598 - val_loss: 0.3049 - val_acc: 0.8922\n",
      "Epoch 2/7\n"
     ]
    },
    {
     "name": "stdout",
     "output_type": "stream",
     "text": [
      "26112/29932 [=========================>....] - ETA: 24:22 - loss: 0.2314 - acc: 0.89 - ETA: 24:08 - loss: 0.2804 - acc: 0.88 - ETA: 24:08 - loss: 0.2727 - acc: 0.90 - ETA: 24:00 - loss: 0.2621 - acc: 0.91 - ETA: 24:06 - loss: 0.2600 - acc: 0.91 - ETA: 24:42 - loss: 0.2667 - acc: 0.91 - ETA: 24:34 - loss: 0.2657 - acc: 0.91 - ETA: 24:48 - loss: 0.2567 - acc: 0.91 - ETA: 24:39 - loss: 0.2567 - acc: 0.91 - ETA: 24:28 - loss: 0.2578 - acc: 0.91 - ETA: 24:23 - loss: 0.2566 - acc: 0.91 - ETA: 24:11 - loss: 0.2532 - acc: 0.91 - ETA: 24:01 - loss: 0.2618 - acc: 0.91 - ETA: 23:51 - loss: 0.2623 - acc: 0.91 - ETA: 23:41 - loss: 0.2604 - acc: 0.91 - ETA: 23:33 - loss: 0.2620 - acc: 0.91 - ETA: 23:33 - loss: 0.2605 - acc: 0.91 - ETA: 23:25 - loss: 0.2607 - acc: 0.91 - ETA: 23:18 - loss: 0.2607 - acc: 0.91 - ETA: 23:09 - loss: 0.2605 - acc: 0.91 - ETA: 22:59 - loss: 0.2587 - acc: 0.91 - ETA: 22:52 - loss: 0.2569 - acc: 0.91 - ETA: 22:44 - loss: 0.2616 - acc: 0.91 - ETA: 22:37 - loss: 0.2595 - acc: 0.91 - ETA: 22:29 - loss: 0.2587 - acc: 0.91 - ETA: 22:27 - loss: 0.2568 - acc: 0.91 - ETA: 22:21 - loss: 0.2581 - acc: 0.91 - ETA: 22:13 - loss: 0.2574 - acc: 0.91 - ETA: 22:06 - loss: 0.2593 - acc: 0.91 - ETA: 21:59 - loss: 0.2618 - acc: 0.91 - ETA: 21:51 - loss: 0.2624 - acc: 0.91 - ETA: 21:44 - loss: 0.2615 - acc: 0.91 - ETA: 21:37 - loss: 0.2612 - acc: 0.91 - ETA: 21:29 - loss: 0.2596 - acc: 0.91 - ETA: 21:22 - loss: 0.2591 - acc: 0.91 - ETA: 21:20 - loss: 0.2570 - acc: 0.91 - ETA: 21:13 - loss: 0.2558 - acc: 0.91 - ETA: 21:06 - loss: 0.2576 - acc: 0.91 - ETA: 20:59 - loss: 0.2583 - acc: 0.91 - ETA: 20:52 - loss: 0.2586 - acc: 0.91 - ETA: 20:46 - loss: 0.2591 - acc: 0.91 - ETA: 20:39 - loss: 0.2586 - acc: 0.91 - ETA: 20:32 - loss: 0.2568 - acc: 0.91 - ETA: 20:25 - loss: 0.2548 - acc: 0.91 - ETA: 20:21 - loss: 0.2537 - acc: 0.92 - ETA: 20:15 - loss: 0.2535 - acc: 0.92 - ETA: 20:08 - loss: 0.2527 - acc: 0.91 - ETA: 20:01 - loss: 0.2525 - acc: 0.91 - ETA: 19:54 - loss: 0.2526 - acc: 0.91 - ETA: 19:47 - loss: 0.2527 - acc: 0.91 - ETA: 19:40 - loss: 0.2529 - acc: 0.91 - ETA: 19:33 - loss: 0.2531 - acc: 0.91 - ETA: 19:26 - loss: 0.2532 - acc: 0.91 - ETA: 19:22 - loss: 0.2547 - acc: 0.91 - ETA: 19:15 - loss: 0.2551 - acc: 0.91 - ETA: 19:08 - loss: 0.2557 - acc: 0.91 - ETA: 19:02 - loss: 0.2567 - acc: 0.91 - ETA: 18:55 - loss: 0.2572 - acc: 0.91 - ETA: 18:48 - loss: 0.2577 - acc: 0.91 - ETA: 18:42 - loss: 0.2575 - acc: 0.91 - ETA: 18:35 - loss: 0.2570 - acc: 0.91 - ETA: 18:29 - loss: 0.2596 - acc: 0.91 - ETA: 18:22 - loss: 0.2602 - acc: 0.91 - ETA: 18:18 - loss: 0.2591 - acc: 0.91 - ETA: 18:11 - loss: 0.2620 - acc: 0.91 - ETA: 18:05 - loss: 0.2619 - acc: 0.91 - ETA: 17:59 - loss: 0.2633 - acc: 0.91 - ETA: 17:52 - loss: 0.2626 - acc: 0.91 - ETA: 17:45 - loss: 0.2626 - acc: 0.91 - ETA: 17:39 - loss: 0.2621 - acc: 0.91 - ETA: 17:32 - loss: 0.2628 - acc: 0.91 - ETA: 17:26 - loss: 0.2635 - acc: 0.91 - ETA: 17:20 - loss: 0.2628 - acc: 0.91 - ETA: 17:14 - loss: 0.2638 - acc: 0.91 - ETA: 17:08 - loss: 0.2644 - acc: 0.91 - ETA: 17:01 - loss: 0.2642 - acc: 0.91 - ETA: 16:55 - loss: 0.2635 - acc: 0.91 - ETA: 16:48 - loss: 0.2628 - acc: 0.91 - ETA: 16:41 - loss: 0.2641 - acc: 0.91 - ETA: 16:35 - loss: 0.2648 - acc: 0.91 - ETA: 16:28 - loss: 0.2639 - acc: 0.91 - ETA: 16:22 - loss: 0.2635 - acc: 0.91 - ETA: 16:16 - loss: 0.2640 - acc: 0.91 - ETA: 16:10 - loss: 0.2642 - acc: 0.91 - ETA: 16:03 - loss: 0.2645 - acc: 0.91 - ETA: 15:57 - loss: 0.2650 - acc: 0.91 - ETA: 15:50 - loss: 0.2650 - acc: 0.91 - ETA: 15:44 - loss: 0.2657 - acc: 0.91 - ETA: 15:37 - loss: 0.2653 - acc: 0.91 - ETA: 15:30 - loss: 0.2652 - acc: 0.91 - ETA: 15:25 - loss: 0.2652 - acc: 0.91 - ETA: 15:19 - loss: 0.2653 - acc: 0.91 - ETA: 15:12 - loss: 0.2658 - acc: 0.91 - ETA: 15:06 - loss: 0.2659 - acc: 0.91 - ETA: 14:59 - loss: 0.2655 - acc: 0.91 - ETA: 14:52 - loss: 0.2655 - acc: 0.91 - ETA: 14:46 - loss: 0.2654 - acc: 0.91 - ETA: 14:40 - loss: 0.2656 - acc: 0.91 - ETA: 14:33 - loss: 0.2658 - acc: 0.91 - ETA: 14:27 - loss: 0.2663 - acc: 0.91 - ETA: 14:21 - loss: 0.2663 - acc: 0.91 - ETA: 14:14 - loss: 0.2662 - acc: 0.91 - ETA: 14:08 - loss: 0.2654 - acc: 0.91 - ETA: 14:02 - loss: 0.2648 - acc: 0.91 - ETA: 13:55 - loss: 0.2651 - acc: 0.91 - ETA: 13:49 - loss: 0.2647 - acc: 0.91 - ETA: 13:42 - loss: 0.2642 - acc: 0.91 - ETA: 13:36 - loss: 0.2643 - acc: 0.91 - ETA: 13:29 - loss: 0.2639 - acc: 0.91 - ETA: 13:24 - loss: 0.2636 - acc: 0.91 - ETA: 13:17 - loss: 0.2637 - acc: 0.91 - ETA: 13:11 - loss: 0.2644 - acc: 0.91 - ETA: 13:04 - loss: 0.2647 - acc: 0.91 - ETA: 12:58 - loss: 0.2650 - acc: 0.91 - ETA: 12:52 - loss: 0.2648 - acc: 0.91 - ETA: 12:45 - loss: 0.2644 - acc: 0.91 - ETA: 12:39 - loss: 0.2643 - acc: 0.91 - ETA: 12:32 - loss: 0.2645 - acc: 0.91 - ETA: 12:28 - loss: 0.2641 - acc: 0.91 - ETA: 12:21 - loss: 0.2641 - acc: 0.91 - ETA: 12:15 - loss: 0.2644 - acc: 0.91 - ETA: 12:08 - loss: 0.2651 - acc: 0.91 - ETA: 12:02 - loss: 0.2651 - acc: 0.91 - ETA: 11:55 - loss: 0.2657 - acc: 0.91 - ETA: 11:49 - loss: 0.2656 - acc: 0.91 - ETA: 11:42 - loss: 0.2652 - acc: 0.91 - ETA: 11:36 - loss: 0.2652 - acc: 0.91 - ETA: 11:30 - loss: 0.2648 - acc: 0.91 - ETA: 11:23 - loss: 0.2647 - acc: 0.91 - ETA: 11:17 - loss: 0.2646 - acc: 0.91 - ETA: 11:10 - loss: 0.2644 - acc: 0.91 - ETA: 11:04 - loss: 0.2645 - acc: 0.91 - ETA: 10:57 - loss: 0.2655 - acc: 0.91 - ETA: 10:51 - loss: 0.2654 - acc: 0.91 - ETA: 10:44 - loss: 0.2652 - acc: 0.91 - ETA: 10:38 - loss: 0.2648 - acc: 0.91 - ETA: 10:32 - loss: 0.2653 - acc: 0.91 - ETA: 10:25 - loss: 0.2650 - acc: 0.91 - ETA: 10:19 - loss: 0.2648 - acc: 0.91 - ETA: 10:12 - loss: 0.2652 - acc: 0.91 - ETA: 10:06 - loss: 0.2649 - acc: 0.91 - ETA: 9:59 - loss: 0.2649 - acc: 0.9147 - ETA: 9:52 - loss: 0.2648 - acc: 0.914 - ETA: 9:46 - loss: 0.2647 - acc: 0.914 - ETA: 9:39 - loss: 0.2643 - acc: 0.915 - ETA: 9:34 - loss: 0.2644 - acc: 0.915 - ETA: 9:27 - loss: 0.2645 - acc: 0.915 - ETA: 9:21 - loss: 0.2646 - acc: 0.914 - ETA: 9:14 - loss: 0.2651 - acc: 0.914 - ETA: 9:08 - loss: 0.2649 - acc: 0.914 - ETA: 9:01 - loss: 0.2650 - acc: 0.914 - ETA: 8:55 - loss: 0.2647 - acc: 0.914 - ETA: 8:48 - loss: 0.2651 - acc: 0.914 - ETA: 8:42 - loss: 0.2647 - acc: 0.914 - ETA: 8:35 - loss: 0.2643 - acc: 0.914 - ETA: 8:29 - loss: 0.2640 - acc: 0.914 - ETA: 8:22 - loss: 0.2642 - acc: 0.914 - ETA: 8:16 - loss: 0.2645 - acc: 0.914 - ETA: 8:09 - loss: 0.2641 - acc: 0.914 - ETA: 8:03 - loss: 0.2640 - acc: 0.914 - ETA: 7:56 - loss: 0.2643 - acc: 0.914 - ETA: 7:50 - loss: 0.2642 - acc: 0.914 - ETA: 7:43 - loss: 0.2640 - acc: 0.914 - ETA: 7:38 - loss: 0.2641 - acc: 0.914 - ETA: 7:31 - loss: 0.2638 - acc: 0.914 - ETA: 7:24 - loss: 0.2636 - acc: 0.914 - ETA: 7:18 - loss: 0.2638 - acc: 0.914 - ETA: 7:11 - loss: 0.2641 - acc: 0.913 - ETA: 7:05 - loss: 0.2638 - acc: 0.913 - ETA: 6:58 - loss: 0.2631 - acc: 0.914 - ETA: 6:52 - loss: 0.2627 - acc: 0.914 - ETA: 6:45 - loss: 0.2626 - acc: 0.914 - ETA: 6:39 - loss: 0.2627 - acc: 0.914 - ETA: 6:33 - loss: 0.2625 - acc: 0.914 - ETA: 6:35 - loss: 0.2627 - acc: 0.913 - ETA: 6:36 - loss: 0.2626 - acc: 0.913 - ETA: 6:37 - loss: 0.2626 - acc: 0.913 - ETA: 6:38 - loss: 0.2624 - acc: 0.914 - ETA: 6:38 - loss: 0.2623 - acc: 0.914 - ETA: 6:38 - loss: 0.2619 - acc: 0.914 - ETA: 6:38 - loss: 0.2619 - acc: 0.914 - ETA: 6:37 - loss: 0.2617 - acc: 0.914 - ETA: 6:36 - loss: 0.2617 - acc: 0.914 - ETA: 6:34 - loss: 0.2618 - acc: 0.914 - ETA: 6:32 - loss: 0.2619 - acc: 0.914 - ETA: 6:29 - loss: 0.2615 - acc: 0.914 - ETA: 6:27 - loss: 0.2617 - acc: 0.914 - ETA: 6:24 - loss: 0.2620 - acc: 0.914 - ETA: 6:21 - loss: 0.2618 - acc: 0.914 - ETA: 6:17 - loss: 0.2619 - acc: 0.914 - ETA: 6:14 - loss: 0.2619 - acc: 0.914 - ETA: 6:10 - loss: 0.2618 - acc: 0.914 - ETA: 6:06 - loss: 0.2618 - acc: 0.914 - ETA: 6:02 - loss: 0.2617 - acc: 0.914 - ETA: 5:58 - loss: 0.2616 - acc: 0.914 - ETA: 5:53 - loss: 0.2613 - acc: 0.914 - ETA: 5:48 - loss: 0.2614 - acc: 0.914 - ETA: 5:42 - loss: 0.2612 - acc: 0.914 - ETA: 5:37 - loss: 0.2610 - acc: 0.914 - ETA: 5:31 - loss: 0.2607 - acc: 0.914 - ETA: 5:25 - loss: 0.2605 - acc: 0.914 - ETA: 5:19 - loss: 0.2610 - acc: 0.914 - ETA: 5:12 - loss: 0.2608 - acc: 0.914 - ETA: 5:05 - loss: 0.2607 - acc: 0.9145"
     ]
    },
    {
     "name": "stdout",
     "output_type": "stream",
     "text": [
      "29932/29932 [==============================] - ETA: 4:57 - loss: 0.2605 - acc: 0.914 - ETA: 4:50 - loss: 0.2605 - acc: 0.914 - ETA: 4:42 - loss: 0.2603 - acc: 0.914 - ETA: 4:35 - loss: 0.2604 - acc: 0.914 - ETA: 4:26 - loss: 0.2607 - acc: 0.914 - ETA: 4:18 - loss: 0.2605 - acc: 0.914 - ETA: 4:10 - loss: 0.2606 - acc: 0.914 - ETA: 4:01 - loss: 0.2606 - acc: 0.914 - ETA: 3:52 - loss: 0.2605 - acc: 0.914 - ETA: 3:43 - loss: 0.2603 - acc: 0.914 - ETA: 3:34 - loss: 0.2602 - acc: 0.914 - ETA: 3:24 - loss: 0.2604 - acc: 0.914 - ETA: 3:14 - loss: 0.2604 - acc: 0.914 - ETA: 3:04 - loss: 0.2602 - acc: 0.914 - ETA: 2:54 - loss: 0.2603 - acc: 0.914 - ETA: 2:43 - loss: 0.2600 - acc: 0.914 - ETA: 2:32 - loss: 0.2599 - acc: 0.914 - ETA: 2:22 - loss: 0.2596 - acc: 0.914 - ETA: 2:11 - loss: 0.2596 - acc: 0.914 - ETA: 1:59 - loss: 0.2595 - acc: 0.914 - ETA: 1:48 - loss: 0.2594 - acc: 0.914 - ETA: 1:36 - loss: 0.2592 - acc: 0.914 - ETA: 1:25 - loss: 0.2592 - acc: 0.914 - ETA: 1:13 - loss: 0.2597 - acc: 0.914 - ETA: 1:01 - loss: 0.2597 - acc: 0.914 - ETA: 48s - loss: 0.2594 - acc: 0.914 - ETA: 36s - loss: 0.2591 - acc: 0.91 - ETA: 23s - loss: 0.2589 - acc: 0.91 - ETA: 10s - loss: 0.2590 - acc: 0.91 - 3174s 106ms/step - loss: 0.2590 - acc: 0.9144 - val_loss: 0.2784 - val_acc: 0.9003\n",
      "Epoch 3/7\n"
     ]
    },
    {
     "name": "stdout",
     "output_type": "stream",
     "text": [
      "25344/29932 [========================>.....] - ETA: 2:05:36 - loss: 0.2004 - acc: 0.94 - ETA: 2:03:39 - loss: 0.2321 - acc: 0.93 - ETA: 2:03:10 - loss: 0.2119 - acc: 0.93 - ETA: 2:01:41 - loss: 0.2123 - acc: 0.93 - ETA: 2:01:02 - loss: 0.2173 - acc: 0.92 - ETA: 2:00:47 - loss: 0.2088 - acc: 0.93 - ETA: 2:00:26 - loss: 0.2111 - acc: 0.93 - ETA: 1:59:56 - loss: 0.2120 - acc: 0.92 - ETA: 1:59:26 - loss: 0.2114 - acc: 0.93 - ETA: 1:58:57 - loss: 0.2133 - acc: 0.93 - ETA: 1:58:37 - loss: 0.2066 - acc: 0.93 - ETA: 1:58:22 - loss: 0.2097 - acc: 0.93 - ETA: 1:58:02 - loss: 0.2099 - acc: 0.93 - ETA: 1:57:35 - loss: 0.2084 - acc: 0.93 - ETA: 1:57:18 - loss: 0.2064 - acc: 0.93 - ETA: 1:56:39 - loss: 0.2072 - acc: 0.93 - ETA: 1:56:18 - loss: 0.2073 - acc: 0.93 - ETA: 1:55:53 - loss: 0.2060 - acc: 0.93 - ETA: 1:55:24 - loss: 0.2042 - acc: 0.93 - ETA: 1:55:00 - loss: 0.2037 - acc: 0.93 - ETA: 1:54:32 - loss: 0.2024 - acc: 0.93 - ETA: 1:53:53 - loss: 0.2058 - acc: 0.93 - ETA: 1:53:19 - loss: 0.2107 - acc: 0.93 - ETA: 1:52:44 - loss: 0.2140 - acc: 0.93 - ETA: 1:52:19 - loss: 0.2142 - acc: 0.93 - ETA: 1:51:46 - loss: 0.2145 - acc: 0.93 - ETA: 1:51:17 - loss: 0.2136 - acc: 0.93 - ETA: 1:50:45 - loss: 0.2124 - acc: 0.93 - ETA: 1:50:15 - loss: 0.2131 - acc: 0.93 - ETA: 1:49:44 - loss: 0.2135 - acc: 0.93 - ETA: 1:49:17 - loss: 0.2145 - acc: 0.93 - ETA: 1:48:46 - loss: 0.2151 - acc: 0.93 - ETA: 1:48:18 - loss: 0.2179 - acc: 0.93 - ETA: 1:47:39 - loss: 0.2164 - acc: 0.93 - ETA: 1:47:04 - loss: 0.2157 - acc: 0.93 - ETA: 1:46:24 - loss: 0.2158 - acc: 0.93 - ETA: 1:45:50 - loss: 0.2194 - acc: 0.93 - ETA: 1:45:01 - loss: 0.2196 - acc: 0.93 - ETA: 1:44:31 - loss: 0.2184 - acc: 0.93 - ETA: 1:44:02 - loss: 0.2177 - acc: 0.93 - ETA: 1:43:33 - loss: 0.2160 - acc: 0.93 - ETA: 1:43:01 - loss: 0.2153 - acc: 0.93 - ETA: 1:42:34 - loss: 0.2156 - acc: 0.93 - ETA: 1:42:02 - loss: 0.2159 - acc: 0.93 - ETA: 1:41:34 - loss: 0.2171 - acc: 0.93 - ETA: 1:41:05 - loss: 0.2181 - acc: 0.93 - ETA: 1:40:34 - loss: 0.2180 - acc: 0.93 - ETA: 1:40:02 - loss: 0.2168 - acc: 0.93 - ETA: 1:39:26 - loss: 0.2169 - acc: 0.93 - ETA: 1:38:57 - loss: 0.2174 - acc: 0.93 - ETA: 1:38:25 - loss: 0.2171 - acc: 0.93 - ETA: 1:37:56 - loss: 0.2168 - acc: 0.93 - ETA: 1:37:24 - loss: 0.2164 - acc: 0.93 - ETA: 1:36:53 - loss: 0.2163 - acc: 0.93 - ETA: 1:36:19 - loss: 0.2173 - acc: 0.93 - ETA: 1:35:50 - loss: 0.2164 - acc: 0.93 - ETA: 1:35:18 - loss: 0.2167 - acc: 0.93 - ETA: 1:34:46 - loss: 0.2160 - acc: 0.93 - ETA: 1:34:14 - loss: 0.2159 - acc: 0.93 - ETA: 1:33:40 - loss: 0.2155 - acc: 0.93 - ETA: 1:33:07 - loss: 0.2150 - acc: 0.93 - ETA: 1:32:33 - loss: 0.2149 - acc: 0.93 - ETA: 1:32:02 - loss: 0.2156 - acc: 0.93 - ETA: 1:31:30 - loss: 0.2146 - acc: 0.93 - ETA: 1:31:01 - loss: 0.2146 - acc: 0.93 - ETA: 1:30:30 - loss: 0.2145 - acc: 0.93 - ETA: 1:29:59 - loss: 0.2150 - acc: 0.93 - ETA: 1:29:28 - loss: 0.2142 - acc: 0.93 - ETA: 1:28:56 - loss: 0.2137 - acc: 0.93 - ETA: 1:28:24 - loss: 0.2128 - acc: 0.93 - ETA: 1:27:53 - loss: 0.2129 - acc: 0.93 - ETA: 1:27:21 - loss: 0.2122 - acc: 0.93 - ETA: 1:26:46 - loss: 0.2121 - acc: 0.93 - ETA: 1:26:14 - loss: 0.2124 - acc: 0.93 - ETA: 1:25:42 - loss: 0.2130 - acc: 0.93 - ETA: 1:25:11 - loss: 0.2143 - acc: 0.93 - ETA: 1:24:40 - loss: 0.2158 - acc: 0.93 - ETA: 1:24:10 - loss: 0.2169 - acc: 0.93 - ETA: 1:23:37 - loss: 0.2181 - acc: 0.93 - ETA: 1:23:05 - loss: 0.2196 - acc: 0.93 - ETA: 1:22:35 - loss: 0.2194 - acc: 0.93 - ETA: 1:22:03 - loss: 0.2199 - acc: 0.93 - ETA: 1:21:30 - loss: 0.2198 - acc: 0.93 - ETA: 1:20:57 - loss: 0.2214 - acc: 0.92 - ETA: 1:20:24 - loss: 0.2228 - acc: 0.92 - ETA: 1:19:51 - loss: 0.2229 - acc: 0.92 - ETA: 1:19:18 - loss: 0.2247 - acc: 0.92 - ETA: 1:18:46 - loss: 0.2252 - acc: 0.92 - ETA: 1:18:15 - loss: 0.2261 - acc: 0.92 - ETA: 1:17:43 - loss: 0.2271 - acc: 0.92 - ETA: 1:17:12 - loss: 0.2273 - acc: 0.92 - ETA: 1:16:40 - loss: 0.2272 - acc: 0.92 - ETA: 1:16:08 - loss: 0.2275 - acc: 0.92 - ETA: 1:15:36 - loss: 0.2281 - acc: 0.92 - ETA: 1:15:02 - loss: 0.2292 - acc: 0.92 - ETA: 1:14:30 - loss: 0.2297 - acc: 0.92 - ETA: 1:13:54 - loss: 0.2298 - acc: 0.92 - ETA: 1:13:22 - loss: 0.2304 - acc: 0.92 - ETA: 1:12:50 - loss: 0.2310 - acc: 0.92 - ETA: 1:12:19 - loss: 0.2311 - acc: 0.92 - ETA: 1:11:47 - loss: 0.2315 - acc: 0.92 - ETA: 1:11:16 - loss: 0.2323 - acc: 0.92 - ETA: 1:10:44 - loss: 0.2327 - acc: 0.92 - ETA: 1:10:12 - loss: 0.2321 - acc: 0.92 - ETA: 1:09:40 - loss: 0.2324 - acc: 0.92 - ETA: 1:09:08 - loss: 0.2321 - acc: 0.92 - ETA: 1:08:36 - loss: 0.2331 - acc: 0.92 - ETA: 1:08:00 - loss: 0.2332 - acc: 0.92 - ETA: 1:07:29 - loss: 0.2337 - acc: 0.92 - ETA: 1:06:57 - loss: 0.2341 - acc: 0.92 - ETA: 1:06:25 - loss: 0.2343 - acc: 0.92 - ETA: 1:05:53 - loss: 0.2350 - acc: 0.92 - ETA: 1:05:22 - loss: 0.2353 - acc: 0.92 - ETA: 1:04:51 - loss: 0.2364 - acc: 0.92 - ETA: 1:04:20 - loss: 0.2372 - acc: 0.92 - ETA: 1:03:47 - loss: 0.2377 - acc: 0.92 - ETA: 1:03:14 - loss: 0.2383 - acc: 0.92 - ETA: 1:02:42 - loss: 0.2389 - acc: 0.92 - ETA: 1:02:07 - loss: 0.2393 - acc: 0.92 - ETA: 1:01:36 - loss: 0.2401 - acc: 0.92 - ETA: 1:01:02 - loss: 0.2408 - acc: 0.92 - ETA: 1:00:31 - loss: 0.2415 - acc: 0.92 - ETA: 59:59 - loss: 0.2423 - acc: 0.9216 - ETA: 59:28 - loss: 0.2421 - acc: 0.92 - ETA: 58:55 - loss: 0.2429 - acc: 0.92 - ETA: 58:24 - loss: 0.2430 - acc: 0.92 - ETA: 57:52 - loss: 0.2428 - acc: 0.92 - ETA: 57:20 - loss: 0.2429 - acc: 0.92 - ETA: 56:48 - loss: 0.2429 - acc: 0.92 - ETA: 56:13 - loss: 0.2432 - acc: 0.92 - ETA: 55:41 - loss: 0.2435 - acc: 0.92 - ETA: 55:09 - loss: 0.2444 - acc: 0.92 - ETA: 54:37 - loss: 0.2442 - acc: 0.92 - ETA: 54:04 - loss: 0.2439 - acc: 0.92 - ETA: 53:33 - loss: 0.2445 - acc: 0.92 - ETA: 53:00 - loss: 0.2439 - acc: 0.92 - ETA: 52:29 - loss: 0.2439 - acc: 0.92 - ETA: 51:57 - loss: 0.2441 - acc: 0.92 - ETA: 51:24 - loss: 0.2443 - acc: 0.92 - ETA: 50:52 - loss: 0.2444 - acc: 0.92 - ETA: 50:18 - loss: 0.2446 - acc: 0.92 - ETA: 49:46 - loss: 0.2446 - acc: 0.92 - ETA: 49:14 - loss: 0.2444 - acc: 0.92 - ETA: 48:43 - loss: 0.2445 - acc: 0.92 - ETA: 48:11 - loss: 0.2444 - acc: 0.92 - ETA: 47:39 - loss: 0.2446 - acc: 0.92 - ETA: 47:07 - loss: 0.2449 - acc: 0.91 - ETA: 46:34 - loss: 0.2451 - acc: 0.91 - ETA: 46:01 - loss: 0.2450 - acc: 0.91 - ETA: 45:28 - loss: 0.2448 - acc: 0.91 - ETA: 44:56 - loss: 0.2446 - acc: 0.91 - ETA: 44:25 - loss: 0.2445 - acc: 0.91 - ETA: 43:52 - loss: 0.2449 - acc: 0.91 - ETA: 43:20 - loss: 0.2450 - acc: 0.91 - ETA: 42:48 - loss: 0.2448 - acc: 0.91 - ETA: 42:16 - loss: 0.2446 - acc: 0.92 - ETA: 41:44 - loss: 0.2447 - acc: 0.91 - ETA: 41:12 - loss: 0.2444 - acc: 0.92 - ETA: 40:39 - loss: 0.2444 - acc: 0.92 - ETA: 40:07 - loss: 0.2446 - acc: 0.91 - ETA: 39:34 - loss: 0.2449 - acc: 0.91 - ETA: 39:02 - loss: 0.2446 - acc: 0.91 - ETA: 38:29 - loss: 0.2442 - acc: 0.92 - ETA: 37:57 - loss: 0.2436 - acc: 0.92 - ETA: 37:24 - loss: 0.2431 - acc: 0.92 - ETA: 36:52 - loss: 0.2426 - acc: 0.92 - ETA: 36:20 - loss: 0.2422 - acc: 0.92 - ETA: 35:48 - loss: 0.2421 - acc: 0.92 - ETA: 35:15 - loss: 0.2420 - acc: 0.92 - ETA: 34:43 - loss: 0.2417 - acc: 0.92 - ETA: 34:11 - loss: 0.2415 - acc: 0.92 - ETA: 33:38 - loss: 0.2416 - acc: 0.92 - ETA: 33:06 - loss: 0.2422 - acc: 0.92 - ETA: 32:33 - loss: 0.2420 - acc: 0.92 - ETA: 32:01 - loss: 0.2417 - acc: 0.92 - ETA: 31:28 - loss: 0.2419 - acc: 0.92 - ETA: 30:55 - loss: 0.2417 - acc: 0.92 - ETA: 30:23 - loss: 0.2418 - acc: 0.92 - ETA: 29:50 - loss: 0.2417 - acc: 0.92 - ETA: 29:17 - loss: 0.2417 - acc: 0.92 - ETA: 28:45 - loss: 0.2416 - acc: 0.92 - ETA: 28:12 - loss: 0.2418 - acc: 0.92 - ETA: 27:40 - loss: 0.2419 - acc: 0.92 - ETA: 27:07 - loss: 0.2419 - acc: 0.92 - ETA: 26:35 - loss: 0.2421 - acc: 0.92 - ETA: 26:03 - loss: 0.2419 - acc: 0.92 - ETA: 25:30 - loss: 0.2415 - acc: 0.92 - ETA: 24:57 - loss: 0.2410 - acc: 0.92 - ETA: 24:25 - loss: 0.2408 - acc: 0.92 - ETA: 23:53 - loss: 0.2409 - acc: 0.92 - ETA: 23:20 - loss: 0.2410 - acc: 0.92 - ETA: 22:47 - loss: 0.2409 - acc: 0.92 - ETA: 22:15 - loss: 0.2408 - acc: 0.92 - ETA: 21:42 - loss: 0.2406 - acc: 0.92 - ETA: 21:10 - loss: 0.2410 - acc: 0.92 - ETA: 20:37 - loss: 0.2407 - acc: 0.92 - ETA: 20:04 - loss: 0.2407 - acc: 0.92 - ETA: 19:32 - loss: 0.2408 - acc: 0.9213"
     ]
    },
    {
     "name": "stdout",
     "output_type": "stream",
     "text": [
      "29932/29932 [==============================] - ETA: 18:59 - loss: 0.2407 - acc: 0.92 - ETA: 18:26 - loss: 0.2405 - acc: 0.92 - ETA: 17:53 - loss: 0.2404 - acc: 0.92 - ETA: 17:21 - loss: 0.2404 - acc: 0.92 - ETA: 16:48 - loss: 0.2402 - acc: 0.92 - ETA: 16:16 - loss: 0.2400 - acc: 0.92 - ETA: 15:43 - loss: 0.2396 - acc: 0.92 - ETA: 15:11 - loss: 0.2392 - acc: 0.92 - ETA: 14:38 - loss: 0.2394 - acc: 0.92 - ETA: 14:05 - loss: 0.2393 - acc: 0.92 - ETA: 13:32 - loss: 0.2400 - acc: 0.92 - ETA: 12:59 - loss: 0.2398 - acc: 0.92 - ETA: 12:27 - loss: 0.2402 - acc: 0.92 - ETA: 11:54 - loss: 0.2400 - acc: 0.92 - ETA: 11:21 - loss: 0.2398 - acc: 0.92 - ETA: 10:49 - loss: 0.2400 - acc: 0.92 - ETA: 10:16 - loss: 0.2399 - acc: 0.92 - ETA: 9:43 - loss: 0.2399 - acc: 0.9214 - ETA: 9:11 - loss: 0.2397 - acc: 0.921 - ETA: 8:38 - loss: 0.2393 - acc: 0.921 - ETA: 8:05 - loss: 0.2395 - acc: 0.921 - ETA: 7:33 - loss: 0.2394 - acc: 0.921 - ETA: 7:00 - loss: 0.2397 - acc: 0.921 - ETA: 6:27 - loss: 0.2396 - acc: 0.921 - ETA: 5:55 - loss: 0.2395 - acc: 0.922 - ETA: 5:22 - loss: 0.2394 - acc: 0.922 - ETA: 4:49 - loss: 0.2396 - acc: 0.921 - ETA: 4:16 - loss: 0.2395 - acc: 0.922 - ETA: 3:44 - loss: 0.2395 - acc: 0.922 - ETA: 3:11 - loss: 0.2397 - acc: 0.922 - ETA: 2:38 - loss: 0.2397 - acc: 0.921 - ETA: 2:05 - loss: 0.2398 - acc: 0.921 - ETA: 1:33 - loss: 0.2397 - acc: 0.922 - ETA: 1:00 - loss: 0.2397 - acc: 0.922 - ETA: 27s - loss: 0.2395 - acc: 0.922 - 7795s 260ms/step - loss: 0.2396 - acc: 0.9221 - val_loss: 0.2856 - val_acc: 0.9024\n",
      "Epoch 00003: early stopping\n",
      "Accuracy: 90.24%\n"
     ]
    }
   ],
   "source": [
    "history = model_2.fit(X_train, Y_train, epochs = 7,verbose = 1, batch_size = 128,validation_data=(X_test, Y_test),callbacks = [es1])\n",
    "scores_2 = model_2.evaluate(X_test, Y_test, verbose = 0)\n",
    "print(\"Accuracy: %.2f%%\" % (scores_2[1]*100))"
   ]
  },
  {
   "cell_type": "code",
   "execution_count": 37,
   "metadata": {},
   "outputs": [
    {
     "data": {
      "image/png": "[encoded data removed]",
      "text/plain": [
       "<Figure size 432x288 with 1 Axes>"
      ]
     },
     "metadata": {
      "needs_background": "light"
     },
     "output_type": "display_data"
    }
   ],
   "source": [
    "# summarize history for accuracy\n",
    "plt.plot(history.history['acc'])\n",
    "plt.plot(history.history['val_acc'])\n",
    "plt.title('model accuracy')\n",
    "plt.ylabel('accuracy')\n",
    "plt.xlabel('epoch')\n",
    "plt.legend(['train', 'test'], loc='upper left')\n",
    "plt.show()"
   ]
  },
  {
   "cell_type": "code",
   "execution_count": 38,
   "metadata": {
    "scrolled": true
   },
   "outputs": [
    {
     "data": {
      "image/png": "[encoded data removed]",
      "text/plain": [
       "<Figure size 432x288 with 1 Axes>"
      ]
     },
     "metadata": {
      "needs_background": "light"
     },
     "output_type": "display_data"
    }
   ],
   "source": [
    "# summarize history for loss\n",
    "plt.plot(history.history['loss'])\n",
    "plt.plot(history.history['val_loss'])\n",
    "plt.title('model loss')\n",
    "plt.ylabel('loss')\n",
    "plt.xlabel('epoch')\n",
    "plt.legend(['train', 'test'], loc='upper left')\n",
    "plt.show()"
   ]
  },
  {
   "cell_type": "code",
   "execution_count": 39,
   "metadata": {},
   "outputs": [
    {
     "name": "stdout",
     "output_type": "stream",
     "text": [
      "Test score: 0.2856213359786246\n",
      "Test accuracy: 0.9024455432791164\n"
     ]
    }
   ],
   "source": [
    "print('Test score:', scores_2[0]) \n",
    "print('Test accuracy:', scores_2[1]) "
   ]
  },
  {
   "cell_type": "markdown",
   "metadata": {},
   "source": [
    "### Prettytable "
   ]
  },
  {
   "cell_type": "code",
   "execution_count": 42,
   "metadata": {},
   "outputs": [
    {
     "name": "stdout",
     "output_type": "stream",
     "text": [
      "+-------+---------+------------+---------------+\n",
      "| Index |  Model  | Test Score | Test Accuracy |\n",
      "+-------+---------+------------+---------------+\n",
      "|   1   | Model 1 |   0.2606   |     0.9069    |\n",
      "|   2   | Model 2 |   0.2856   |     0.9024    |\n",
      "+-------+---------+------------+---------------+\n"
     ]
    }
   ],
   "source": [
    "from prettytable import PrettyTable\n",
    "\n",
    "number= [1,2]  \n",
    "name= [\"Model 1\",\"Model 2\"]\n",
    "scr = [\"0.2606\", \"0.2856\"]\n",
    "acc= [\"0.9069\", \"0.9024\"]\n",
    "\n",
    "#Initialize Prettytable \n",
    "ptable = PrettyTable() \n",
    "ptable.add_column(\"Index\", number) \n",
    "ptable.add_column(\"Model\", name) \n",
    "ptable.add_column(\"Test Score\", scr)\n",
    "ptable.add_column(\"Test Accuracy\", acc)   \n",
    "print(ptable)"
   ]
  },
  {
   "cell_type": "markdown",
   "metadata": {},
   "source": [
    "### Conclusions "
   ]
  },
  {
   "cell_type": "markdown",
   "metadata": {},
   "source": [
    "1. We took 50k datapoints from amazon fine food reviews.\n",
    "2. We build two models to implement LSTM on Amazon fine food reviews.\n",
    "3. Model 1 includes one layer of LSTM after Embedding layer.\n",
    "4. Model 2 includes two layers of LSTM after Embedding layer.\n",
    "5. To reduce overfitting, we used different methods like added L2 regularization in layers(LSTM & Dense), added\n",
    "   Dropout layer before Dense layer, used earlystopping callback technique which monitors \"val_loss\".\n",
    "6. Since i ran models on CPU, it took me a very long time to fit the models.\n",
    "7. Batch_size for both models = 128"
   ]
  },
  {
   "cell_type": "code",
   "execution_count": null,
   "metadata": {},
   "outputs": [],
   "source": []
  }
 ],
 "metadata": {
  "kernelspec": {
   "display_name": "Python 3",
   "language": "python",
   "name": "python3"
  },
  "language_info": {
   "codemirror_mode": {
    "name": "ipython",
    "version": 3
   },
   "file_extension": ".py",
   "mimetype": "text/x-python",
   "name": "python",
   "nbconvert_exporter": "python",
   "pygments_lexer": "ipython3",
   "version": "3.7.4"
  }
 },
 "nbformat": 4,
 "nbformat_minor": 2
}
