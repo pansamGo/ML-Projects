{
 "cells": [
  {
   "cell_type": "markdown",
   "metadata": {},
   "source": [
    "# Musk Classification "
   ]
  },
  {
   "cell_type": "markdown",
   "metadata": {},
   "source": [
    "### About "
   ]
  },
  {
   "cell_type": "markdown",
   "metadata": {},
   "source": [
    "#### The given dataset contains details about organic chemical compounds including their chemical features, isomeric conformation, names and the classes in which they are classified. The compounds are classified as either ‘Musk’ or ‘Non-Musk’ compounds.\n",
    "### Your task is to build a classification model on the given data using any Deep Learning approach "
   ]
  },
  {
   "cell_type": "markdown",
   "metadata": {},
   "source": [
    "###  Attributes in musk_csv.csv"
   ]
  },
  {
   "cell_type": "markdown",
   "metadata": {},
   "source": [
    "1. molecule_name: Symbolic name of each molecule.\n",
    "2. conformation_name: Symbolic name of each conformation\n",
    "3. f1-f166: These are chemical features.\n",
    "4. class: 0 if compound is classified as non-musk, 1 if compound is classified as musk"
   ]
  },
  {
   "cell_type": "code",
   "execution_count": 1,
   "metadata": {},
   "outputs": [
    {
     "name": "stderr",
     "output_type": "stream",
     "text": [
      "Using TensorFlow backend.\n"
     ]
    }
   ],
   "source": [
    "import pandas as pd\n",
    "import numpy as np\n",
    "from sklearn import preprocessing\n",
    "import matplotlib.pyplot as plt\n",
    "import warnings\n",
    "warnings.filterwarnings('ignore')\n",
    "import seaborn as sns\n",
    "\n",
    "from sklearn import preprocessing \n",
    "from keras.models import Sequential\n",
    "from keras.layers import Dense,Activation, Dropout\n",
    "from imblearn.over_sampling import SMOTE\n",
    "\n",
    "from sklearn.metrics import accuracy_score \n",
    "from sklearn.metrics import precision_score \n",
    "from sklearn.metrics import f1_score \n",
    "from sklearn.metrics import recall_score "
   ]
  },
  {
   "cell_type": "markdown",
   "metadata": {},
   "source": [
    "### Exploratory Data Analysis "
   ]
  },
  {
   "cell_type": "code",
   "execution_count": 2,
   "metadata": {
    "scrolled": true
   },
   "outputs": [
    {
     "data": {
      "text/html": [
       "<div>\n",
       "<style scoped>\n",
       "    .dataframe tbody tr th:only-of-type {\n",
       "        vertical-align: middle;\n",
       "    }\n",
       "\n",
       "    .dataframe tbody tr th {\n",
       "        vertical-align: top;\n",
       "    }\n",
       "\n",
       "    .dataframe thead th {\n",
       "        text-align: right;\n",
       "    }\n",
       "</style>\n",
       "<table border=\"1\" class=\"dataframe\">\n",
       "  <thead>\n",
       "    <tr style=\"text-align: right;\">\n",
       "      <th></th>\n",
       "      <th>ID</th>\n",
       "      <th>molecule_name</th>\n",
       "      <th>conformation_name</th>\n",
       "      <th>f1</th>\n",
       "      <th>f2</th>\n",
       "      <th>f3</th>\n",
       "      <th>f4</th>\n",
       "      <th>f5</th>\n",
       "      <th>f6</th>\n",
       "      <th>f7</th>\n",
       "      <th>...</th>\n",
       "      <th>f158</th>\n",
       "      <th>f159</th>\n",
       "      <th>f160</th>\n",
       "      <th>f161</th>\n",
       "      <th>f162</th>\n",
       "      <th>f163</th>\n",
       "      <th>f164</th>\n",
       "      <th>f165</th>\n",
       "      <th>f166</th>\n",
       "      <th>class</th>\n",
       "    </tr>\n",
       "  </thead>\n",
       "  <tbody>\n",
       "    <tr>\n",
       "      <th>0</th>\n",
       "      <td>1</td>\n",
       "      <td>MUSK-211</td>\n",
       "      <td>211_1+1</td>\n",
       "      <td>46</td>\n",
       "      <td>-108</td>\n",
       "      <td>-60</td>\n",
       "      <td>-69</td>\n",
       "      <td>-117</td>\n",
       "      <td>49</td>\n",
       "      <td>38</td>\n",
       "      <td>...</td>\n",
       "      <td>-308</td>\n",
       "      <td>52</td>\n",
       "      <td>-7</td>\n",
       "      <td>39</td>\n",
       "      <td>126</td>\n",
       "      <td>156</td>\n",
       "      <td>-50</td>\n",
       "      <td>-112</td>\n",
       "      <td>96</td>\n",
       "      <td>1</td>\n",
       "    </tr>\n",
       "    <tr>\n",
       "      <th>1</th>\n",
       "      <td>2</td>\n",
       "      <td>MUSK-211</td>\n",
       "      <td>211_1+10</td>\n",
       "      <td>41</td>\n",
       "      <td>-188</td>\n",
       "      <td>-145</td>\n",
       "      <td>22</td>\n",
       "      <td>-117</td>\n",
       "      <td>-6</td>\n",
       "      <td>57</td>\n",
       "      <td>...</td>\n",
       "      <td>-59</td>\n",
       "      <td>-2</td>\n",
       "      <td>52</td>\n",
       "      <td>103</td>\n",
       "      <td>136</td>\n",
       "      <td>169</td>\n",
       "      <td>-61</td>\n",
       "      <td>-136</td>\n",
       "      <td>79</td>\n",
       "      <td>1</td>\n",
       "    </tr>\n",
       "    <tr>\n",
       "      <th>2</th>\n",
       "      <td>3</td>\n",
       "      <td>MUSK-211</td>\n",
       "      <td>211_1+11</td>\n",
       "      <td>46</td>\n",
       "      <td>-194</td>\n",
       "      <td>-145</td>\n",
       "      <td>28</td>\n",
       "      <td>-117</td>\n",
       "      <td>73</td>\n",
       "      <td>57</td>\n",
       "      <td>...</td>\n",
       "      <td>-134</td>\n",
       "      <td>-154</td>\n",
       "      <td>57</td>\n",
       "      <td>143</td>\n",
       "      <td>142</td>\n",
       "      <td>165</td>\n",
       "      <td>-67</td>\n",
       "      <td>-145</td>\n",
       "      <td>39</td>\n",
       "      <td>1</td>\n",
       "    </tr>\n",
       "    <tr>\n",
       "      <th>3</th>\n",
       "      <td>4</td>\n",
       "      <td>MUSK-211</td>\n",
       "      <td>211_1+12</td>\n",
       "      <td>41</td>\n",
       "      <td>-188</td>\n",
       "      <td>-145</td>\n",
       "      <td>22</td>\n",
       "      <td>-117</td>\n",
       "      <td>-7</td>\n",
       "      <td>57</td>\n",
       "      <td>...</td>\n",
       "      <td>-60</td>\n",
       "      <td>-4</td>\n",
       "      <td>52</td>\n",
       "      <td>104</td>\n",
       "      <td>136</td>\n",
       "      <td>168</td>\n",
       "      <td>-60</td>\n",
       "      <td>-135</td>\n",
       "      <td>80</td>\n",
       "      <td>1</td>\n",
       "    </tr>\n",
       "    <tr>\n",
       "      <th>4</th>\n",
       "      <td>5</td>\n",
       "      <td>MUSK-211</td>\n",
       "      <td>211_1+13</td>\n",
       "      <td>41</td>\n",
       "      <td>-188</td>\n",
       "      <td>-145</td>\n",
       "      <td>22</td>\n",
       "      <td>-117</td>\n",
       "      <td>-7</td>\n",
       "      <td>57</td>\n",
       "      <td>...</td>\n",
       "      <td>-60</td>\n",
       "      <td>-4</td>\n",
       "      <td>52</td>\n",
       "      <td>104</td>\n",
       "      <td>137</td>\n",
       "      <td>168</td>\n",
       "      <td>-60</td>\n",
       "      <td>-135</td>\n",
       "      <td>80</td>\n",
       "      <td>1</td>\n",
       "    </tr>\n",
       "  </tbody>\n",
       "</table>\n",
       "<p>5 rows × 170 columns</p>\n",
       "</div>"
      ],
      "text/plain": [
       "   ID molecule_name conformation_name  f1   f2   f3  f4   f5  f6  f7  ...    \\\n",
       "0   1      MUSK-211           211_1+1  46 -108  -60 -69 -117  49  38  ...     \n",
       "1   2      MUSK-211          211_1+10  41 -188 -145  22 -117  -6  57  ...     \n",
       "2   3      MUSK-211          211_1+11  46 -194 -145  28 -117  73  57  ...     \n",
       "3   4      MUSK-211          211_1+12  41 -188 -145  22 -117  -7  57  ...     \n",
       "4   5      MUSK-211          211_1+13  41 -188 -145  22 -117  -7  57  ...     \n",
       "\n",
       "   f158  f159  f160  f161  f162  f163  f164  f165  f166  class  \n",
       "0  -308    52    -7    39   126   156   -50  -112    96      1  \n",
       "1   -59    -2    52   103   136   169   -61  -136    79      1  \n",
       "2  -134  -154    57   143   142   165   -67  -145    39      1  \n",
       "3   -60    -4    52   104   136   168   -60  -135    80      1  \n",
       "4   -60    -4    52   104   137   168   -60  -135    80      1  \n",
       "\n",
       "[5 rows x 170 columns]"
      ]
     },
     "execution_count": 2,
     "metadata": {},
     "output_type": "execute_result"
    }
   ],
   "source": [
    "df=pd.read_csv(\"musk_csv.csv\")\n",
    "df.head()"
   ]
  },
  {
   "cell_type": "code",
   "execution_count": 3,
   "metadata": {},
   "outputs": [
    {
     "data": {
      "text/html": [
       "<div>\n",
       "<style scoped>\n",
       "    .dataframe tbody tr th:only-of-type {\n",
       "        vertical-align: middle;\n",
       "    }\n",
       "\n",
       "    .dataframe tbody tr th {\n",
       "        vertical-align: top;\n",
       "    }\n",
       "\n",
       "    .dataframe thead th {\n",
       "        text-align: right;\n",
       "    }\n",
       "</style>\n",
       "<table border=\"1\" class=\"dataframe\">\n",
       "  <thead>\n",
       "    <tr style=\"text-align: right;\">\n",
       "      <th></th>\n",
       "      <th>ID</th>\n",
       "      <th>molecule_name</th>\n",
       "      <th>conformation_name</th>\n",
       "      <th>f1</th>\n",
       "      <th>f2</th>\n",
       "      <th>f3</th>\n",
       "      <th>f4</th>\n",
       "      <th>f5</th>\n",
       "      <th>f6</th>\n",
       "      <th>f7</th>\n",
       "      <th>...</th>\n",
       "      <th>f158</th>\n",
       "      <th>f159</th>\n",
       "      <th>f160</th>\n",
       "      <th>f161</th>\n",
       "      <th>f162</th>\n",
       "      <th>f163</th>\n",
       "      <th>f164</th>\n",
       "      <th>f165</th>\n",
       "      <th>f166</th>\n",
       "      <th>class</th>\n",
       "    </tr>\n",
       "  </thead>\n",
       "  <tbody>\n",
       "    <tr>\n",
       "      <th>6593</th>\n",
       "      <td>6594</td>\n",
       "      <td>NON-MUSK-jp13</td>\n",
       "      <td>jp13_2+5</td>\n",
       "      <td>51</td>\n",
       "      <td>-123</td>\n",
       "      <td>-23</td>\n",
       "      <td>-108</td>\n",
       "      <td>-117</td>\n",
       "      <td>134</td>\n",
       "      <td>-160</td>\n",
       "      <td>...</td>\n",
       "      <td>-66</td>\n",
       "      <td>164</td>\n",
       "      <td>-14</td>\n",
       "      <td>-29</td>\n",
       "      <td>107</td>\n",
       "      <td>171</td>\n",
       "      <td>-44</td>\n",
       "      <td>-115</td>\n",
       "      <td>118</td>\n",
       "      <td>0</td>\n",
       "    </tr>\n",
       "    <tr>\n",
       "      <th>6594</th>\n",
       "      <td>6595</td>\n",
       "      <td>NON-MUSK-jp13</td>\n",
       "      <td>jp13_2+6</td>\n",
       "      <td>44</td>\n",
       "      <td>-104</td>\n",
       "      <td>-19</td>\n",
       "      <td>-105</td>\n",
       "      <td>-117</td>\n",
       "      <td>142</td>\n",
       "      <td>-165</td>\n",
       "      <td>...</td>\n",
       "      <td>-51</td>\n",
       "      <td>166</td>\n",
       "      <td>-9</td>\n",
       "      <td>150</td>\n",
       "      <td>129</td>\n",
       "      <td>158</td>\n",
       "      <td>-66</td>\n",
       "      <td>-144</td>\n",
       "      <td>-5</td>\n",
       "      <td>0</td>\n",
       "    </tr>\n",
       "    <tr>\n",
       "      <th>6595</th>\n",
       "      <td>6596</td>\n",
       "      <td>NON-MUSK-jp13</td>\n",
       "      <td>jp13_2+7</td>\n",
       "      <td>44</td>\n",
       "      <td>-102</td>\n",
       "      <td>-19</td>\n",
       "      <td>-104</td>\n",
       "      <td>-117</td>\n",
       "      <td>72</td>\n",
       "      <td>-165</td>\n",
       "      <td>...</td>\n",
       "      <td>90</td>\n",
       "      <td>117</td>\n",
       "      <td>-8</td>\n",
       "      <td>150</td>\n",
       "      <td>130</td>\n",
       "      <td>159</td>\n",
       "      <td>-66</td>\n",
       "      <td>-144</td>\n",
       "      <td>-6</td>\n",
       "      <td>0</td>\n",
       "    </tr>\n",
       "    <tr>\n",
       "      <th>6596</th>\n",
       "      <td>6597</td>\n",
       "      <td>NON-MUSK-jp13</td>\n",
       "      <td>jp13_2+8</td>\n",
       "      <td>51</td>\n",
       "      <td>-121</td>\n",
       "      <td>-23</td>\n",
       "      <td>-106</td>\n",
       "      <td>-117</td>\n",
       "      <td>63</td>\n",
       "      <td>-161</td>\n",
       "      <td>...</td>\n",
       "      <td>86</td>\n",
       "      <td>99</td>\n",
       "      <td>-14</td>\n",
       "      <td>-31</td>\n",
       "      <td>106</td>\n",
       "      <td>171</td>\n",
       "      <td>-44</td>\n",
       "      <td>-116</td>\n",
       "      <td>117</td>\n",
       "      <td>0</td>\n",
       "    </tr>\n",
       "    <tr>\n",
       "      <th>6597</th>\n",
       "      <td>6598</td>\n",
       "      <td>NON-MUSK-jp13</td>\n",
       "      <td>jp13_2+9</td>\n",
       "      <td>51</td>\n",
       "      <td>-122</td>\n",
       "      <td>-23</td>\n",
       "      <td>-106</td>\n",
       "      <td>-117</td>\n",
       "      <td>190</td>\n",
       "      <td>-161</td>\n",
       "      <td>...</td>\n",
       "      <td>40</td>\n",
       "      <td>124</td>\n",
       "      <td>-14</td>\n",
       "      <td>-30</td>\n",
       "      <td>107</td>\n",
       "      <td>171</td>\n",
       "      <td>-44</td>\n",
       "      <td>-115</td>\n",
       "      <td>118</td>\n",
       "      <td>0</td>\n",
       "    </tr>\n",
       "  </tbody>\n",
       "</table>\n",
       "<p>5 rows × 170 columns</p>\n",
       "</div>"
      ],
      "text/plain": [
       "        ID  molecule_name conformation_name  f1   f2  f3   f4   f5   f6   f7  \\\n",
       "6593  6594  NON-MUSK-jp13          jp13_2+5  51 -123 -23 -108 -117  134 -160   \n",
       "6594  6595  NON-MUSK-jp13          jp13_2+6  44 -104 -19 -105 -117  142 -165   \n",
       "6595  6596  NON-MUSK-jp13          jp13_2+7  44 -102 -19 -104 -117   72 -165   \n",
       "6596  6597  NON-MUSK-jp13          jp13_2+8  51 -121 -23 -106 -117   63 -161   \n",
       "6597  6598  NON-MUSK-jp13          jp13_2+9  51 -122 -23 -106 -117  190 -161   \n",
       "\n",
       "      ...    f158  f159  f160  f161  f162  f163  f164  f165  f166  class  \n",
       "6593  ...     -66   164   -14   -29   107   171   -44  -115   118      0  \n",
       "6594  ...     -51   166    -9   150   129   158   -66  -144    -5      0  \n",
       "6595  ...      90   117    -8   150   130   159   -66  -144    -6      0  \n",
       "6596  ...      86    99   -14   -31   106   171   -44  -116   117      0  \n",
       "6597  ...      40   124   -14   -30   107   171   -44  -115   118      0  \n",
       "\n",
       "[5 rows x 170 columns]"
      ]
     },
     "execution_count": 3,
     "metadata": {},
     "output_type": "execute_result"
    }
   ],
   "source": [
    "df.tail()"
   ]
  },
  {
   "cell_type": "code",
   "execution_count": 4,
   "metadata": {},
   "outputs": [
    {
     "data": {
      "text/plain": [
       "(6598, 170)"
      ]
     },
     "execution_count": 4,
     "metadata": {},
     "output_type": "execute_result"
    }
   ],
   "source": [
    "df.shape"
   ]
  },
  {
   "cell_type": "code",
   "execution_count": 5,
   "metadata": {
    "scrolled": true
   },
   "outputs": [
    {
     "data": {
      "text/plain": [
       "Index(['ID', 'molecule_name', 'conformation_name', 'f1', 'f2', 'f3', 'f4',\n",
       "       'f5', 'f6', 'f7',\n",
       "       ...\n",
       "       'f158', 'f159', 'f160', 'f161', 'f162', 'f163', 'f164', 'f165', 'f166',\n",
       "       'class'],\n",
       "      dtype='object', length=170)"
      ]
     },
     "execution_count": 5,
     "metadata": {},
     "output_type": "execute_result"
    }
   ],
   "source": [
    "df.columns"
   ]
  },
  {
   "cell_type": "markdown",
   "metadata": {},
   "source": [
    "### Checking for any null values "
   ]
  },
  {
   "cell_type": "code",
   "execution_count": 6,
   "metadata": {},
   "outputs": [
    {
     "data": {
      "text/plain": [
       "ID                   False\n",
       "molecule_name        False\n",
       "conformation_name    False\n",
       "f1                   False\n",
       "f2                   False\n",
       "f3                   False\n",
       "f4                   False\n",
       "f5                   False\n",
       "f6                   False\n",
       "f7                   False\n",
       "f8                   False\n",
       "f9                   False\n",
       "f10                  False\n",
       "f11                  False\n",
       "f12                  False\n",
       "f13                  False\n",
       "f14                  False\n",
       "f15                  False\n",
       "f16                  False\n",
       "f17                  False\n",
       "f18                  False\n",
       "f19                  False\n",
       "f20                  False\n",
       "f21                  False\n",
       "f22                  False\n",
       "f23                  False\n",
       "f24                  False\n",
       "f25                  False\n",
       "f26                  False\n",
       "f27                  False\n",
       "                     ...  \n",
       "f138                 False\n",
       "f139                 False\n",
       "f140                 False\n",
       "f141                 False\n",
       "f142                 False\n",
       "f143                 False\n",
       "f144                 False\n",
       "f145                 False\n",
       "f146                 False\n",
       "f147                 False\n",
       "f148                 False\n",
       "f149                 False\n",
       "f150                 False\n",
       "f151                 False\n",
       "f152                 False\n",
       "f153                 False\n",
       "f154                 False\n",
       "f155                 False\n",
       "f156                 False\n",
       "f157                 False\n",
       "f158                 False\n",
       "f159                 False\n",
       "f160                 False\n",
       "f161                 False\n",
       "f162                 False\n",
       "f163                 False\n",
       "f164                 False\n",
       "f165                 False\n",
       "f166                 False\n",
       "class                False\n",
       "Length: 170, dtype: bool"
      ]
     },
     "execution_count": 6,
     "metadata": {},
     "output_type": "execute_result"
    }
   ],
   "source": [
    "#Check for null values\n",
    "df.isnull().any()"
   ]
  },
  {
   "cell_type": "code",
   "execution_count": 7,
   "metadata": {},
   "outputs": [
    {
     "data": {
      "text/plain": [
       "0    5581\n",
       "1    1017\n",
       "Name: class, dtype: int64"
      ]
     },
     "execution_count": 7,
     "metadata": {},
     "output_type": "execute_result"
    }
   ],
   "source": [
    "df['class'].value_counts()"
   ]
  },
  {
   "cell_type": "code",
   "execution_count": 8,
   "metadata": {
    "scrolled": true
   },
   "outputs": [
    {
     "data": {
      "text/plain": [
       "<matplotlib.axes._subplots.AxesSubplot at 0x21ba285be08>"
      ]
     },
     "execution_count": 8,
     "metadata": {},
     "output_type": "execute_result"
    },
    {
     "data": {
      "image/png": "[encoded data removed]",
      "text/plain": [
       "<Figure size 360x360 with 1 Axes>"
      ]
     },
     "metadata": {},
     "output_type": "display_data"
    }
   ],
   "source": [
    "#plotting pie chart for class\n",
    "df['class'].value_counts().plot(kind='pie', figsize=(5,5))"
   ]
  },
  {
   "cell_type": "markdown",
   "metadata": {},
   "source": [
    "#### Observation : Class variable is imbalanced, will use SMOTE to balance the data"
   ]
  },
  {
   "cell_type": "code",
   "execution_count": 9,
   "metadata": {},
   "outputs": [],
   "source": [
    "# Dropping ID, molecule_name, Conformation_name features from dataframe\n",
    "df = df.drop(['ID'],axis=1)\n",
    "df = df.drop(['molecule_name'],axis=1)\n",
    "df = df.drop(['conformation_name'],axis=1)"
   ]
  },
  {
   "cell_type": "code",
   "execution_count": 10,
   "metadata": {
    "scrolled": true
   },
   "outputs": [
    {
     "data": {
      "text/plain": [
       "Index(['f1', 'f2', 'f3', 'f4', 'f5', 'f6', 'f7', 'f8', 'f9', 'f10',\n",
       "       ...\n",
       "       'f158', 'f159', 'f160', 'f161', 'f162', 'f163', 'f164', 'f165', 'f166',\n",
       "       'class'],\n",
       "      dtype='object', length=167)"
      ]
     },
     "execution_count": 10,
     "metadata": {},
     "output_type": "execute_result"
    }
   ],
   "source": [
    "df.columns"
   ]
  },
  {
   "cell_type": "markdown",
   "metadata": {},
   "source": [
    "### Splitting the data into 80:20 ratio "
   ]
  },
  {
   "cell_type": "code",
   "execution_count": 12,
   "metadata": {},
   "outputs": [],
   "source": [
    "y=df['class']\n",
    "X=df.drop('class',axis=1)"
   ]
  },
  {
   "cell_type": "code",
   "execution_count": 13,
   "metadata": {},
   "outputs": [],
   "source": [
    "#train test split\n",
    "from sklearn.model_selection import train_test_split\n",
    "X_train,X_test,y_train,y_test=train_test_split(X,y,test_size=0.2,random_state=42)"
   ]
  },
  {
   "cell_type": "code",
   "execution_count": 14,
   "metadata": {},
   "outputs": [],
   "source": [
    "scaler = preprocessing.StandardScaler() \n",
    "X_train = scaler.fit_transform(X_train) \n",
    "X_test = scaler.transform(X_test)"
   ]
  },
  {
   "cell_type": "markdown",
   "metadata": {},
   "source": [
    "### Resampling using SMOTE to balance data"
   ]
  },
  {
   "cell_type": "code",
   "execution_count": 15,
   "metadata": {},
   "outputs": [],
   "source": [
    "sm = SMOTE(random_state = 2)\n",
    "X_train_res, y_train_res = sm.fit_sample(X_train, y_train.ravel())"
   ]
  },
  {
   "cell_type": "code",
   "execution_count": 16,
   "metadata": {},
   "outputs": [
    {
     "name": "stdout",
     "output_type": "stream",
     "text": [
      "After OverSampling, counts of label '1': 4470\n",
      "After OverSampling, counts of label '0': 4470\n"
     ]
    }
   ],
   "source": [
    "print(\"After OverSampling, counts of label '1': {}\".format(sum(y_train_res == 1))) \n",
    "print(\"After OverSampling, counts of label '0': {}\".format(sum(y_train_res == 0))) "
   ]
  },
  {
   "cell_type": "markdown",
   "metadata": {},
   "source": [
    "### Model 1 "
   ]
  },
  {
   "cell_type": "code",
   "execution_count": 17,
   "metadata": {},
   "outputs": [
    {
     "name": "stderr",
     "output_type": "stream",
     "text": [
      "WARNING: Logging before flag parsing goes to stderr.\n",
      "W1215 14:19:50.698777  8876 deprecation_wrapper.py:119] From c:\\users\\acer\\appdata\\local\\programs\\python\\python37\\lib\\site-packages\\keras\\backend\\tensorflow_backend.py:74: The name tf.get_default_graph is deprecated. Please use tf.compat.v1.get_default_graph instead.\n",
      "\n",
      "W1215 14:19:50.730056  8876 deprecation_wrapper.py:119] From c:\\users\\acer\\appdata\\local\\programs\\python\\python37\\lib\\site-packages\\keras\\backend\\tensorflow_backend.py:517: The name tf.placeholder is deprecated. Please use tf.compat.v1.placeholder instead.\n",
      "\n",
      "W1215 14:19:50.745678  8876 deprecation_wrapper.py:119] From c:\\users\\acer\\appdata\\local\\programs\\python\\python37\\lib\\site-packages\\keras\\backend\\tensorflow_backend.py:4138: The name tf.random_uniform is deprecated. Please use tf.random.uniform instead.\n",
      "\n"
     ]
    }
   ],
   "source": [
    "model = Sequential()\n",
    "model.add(Dense(64,activation='relu', input_shape=(166,)))\n",
    "model.add(Dense(32,activation='relu'))\n",
    "model.add(Dense(1,activation='sigmoid'))"
   ]
  },
  {
   "cell_type": "code",
   "execution_count": 18,
   "metadata": {},
   "outputs": [
    {
     "name": "stdout",
     "output_type": "stream",
     "text": [
      "_________________________________________________________________\n",
      "Layer (type)                 Output Shape              Param #   \n",
      "=================================================================\n",
      "dense_1 (Dense)              (None, 64)                10688     \n",
      "_________________________________________________________________\n",
      "dense_2 (Dense)              (None, 32)                2080      \n",
      "_________________________________________________________________\n",
      "dense_3 (Dense)              (None, 1)                 33        \n",
      "=================================================================\n",
      "Total params: 12,801\n",
      "Trainable params: 12,801\n",
      "Non-trainable params: 0\n",
      "_________________________________________________________________\n"
     ]
    }
   ],
   "source": [
    "model.summary()"
   ]
  },
  {
   "cell_type": "code",
   "execution_count": 19,
   "metadata": {},
   "outputs": [
    {
     "name": "stderr",
     "output_type": "stream",
     "text": [
      "W1215 14:20:00.316965  8876 deprecation_wrapper.py:119] From c:\\users\\acer\\appdata\\local\\programs\\python\\python37\\lib\\site-packages\\keras\\optimizers.py:790: The name tf.train.Optimizer is deprecated. Please use tf.compat.v1.train.Optimizer instead.\n",
      "\n",
      "W1215 14:20:00.348249  8876 deprecation_wrapper.py:119] From c:\\users\\acer\\appdata\\local\\programs\\python\\python37\\lib\\site-packages\\keras\\backend\\tensorflow_backend.py:3376: The name tf.log is deprecated. Please use tf.math.log instead.\n",
      "\n",
      "W1215 14:20:00.363829  8876 deprecation.py:323] From c:\\users\\acer\\appdata\\local\\programs\\python\\python37\\lib\\site-packages\\tensorflow\\python\\ops\\nn_impl.py:180: add_dispatch_support.<locals>.wrapper (from tensorflow.python.ops.array_ops) is deprecated and will be removed in a future version.\n",
      "Instructions for updating:\n",
      "Use tf.where in 2.0, which has the same broadcast rule as np.where\n"
     ]
    }
   ],
   "source": [
    "model.compile(optimizer='adam',\n",
    "              loss='binary_crossentropy',\n",
    "              metrics=['accuracy'])"
   ]
  },
  {
   "cell_type": "code",
   "execution_count": 20,
   "metadata": {
    "scrolled": true
   },
   "outputs": [
    {
     "name": "stderr",
     "output_type": "stream",
     "text": [
      "W1215 14:20:48.797669  8876 deprecation_wrapper.py:119] From c:\\users\\acer\\appdata\\local\\programs\\python\\python37\\lib\\site-packages\\keras\\backend\\tensorflow_backend.py:986: The name tf.assign_add is deprecated. Please use tf.compat.v1.assign_add instead.\n",
      "\n"
     ]
    },
    {
     "name": "stdout",
     "output_type": "stream",
     "text": [
      "Train on 8940 samples, validate on 1320 samples\n",
      "Epoch 1/50\n",
      "8940/8940 [==============================] - 1s 79us/step - loss: 0.3586 - acc: 0.8451 - val_loss: 0.1907 - val_acc: 0.9265\n",
      "Epoch 2/50\n",
      "8940/8940 [==============================] - 0s 23us/step - loss: 0.1426 - acc: 0.9503 - val_loss: 0.1134 - val_acc: 0.9629\n",
      "Epoch 3/50\n",
      "8940/8940 [==============================] - 0s 24us/step - loss: 0.0850 - acc: 0.9729 - val_loss: 0.0891 - val_acc: 0.9705\n",
      "Epoch 4/50\n",
      "8940/8940 [==============================] - 0s 23us/step - loss: 0.0581 - acc: 0.9834 - val_loss: 0.0603 - val_acc: 0.9773\n",
      "Epoch 5/50\n",
      "8940/8940 [==============================] - 0s 23us/step - loss: 0.0400 - acc: 0.9890 - val_loss: 0.0502 - val_acc: 0.9856\n",
      "Epoch 6/50\n",
      "8940/8940 [==============================] - 0s 23us/step - loss: 0.0293 - acc: 0.9927 - val_loss: 0.0403 - val_acc: 0.9856\n",
      "Epoch 7/50\n",
      "8940/8940 [==============================] - 0s 23us/step - loss: 0.0213 - acc: 0.9957 - val_loss: 0.0357 - val_acc: 0.9871\n",
      "Epoch 8/50\n",
      "8940/8940 [==============================] - 0s 23us/step - loss: 0.0154 - acc: 0.9970 - val_loss: 0.0298 - val_acc: 0.9894\n",
      "Epoch 9/50\n",
      "8940/8940 [==============================] - 0s 23us/step - loss: 0.0126 - acc: 0.9981 - val_loss: 0.0253 - val_acc: 0.9917\n",
      "Epoch 10/50\n",
      "8940/8940 [==============================] - 0s 23us/step - loss: 0.0085 - acc: 0.9990 - val_loss: 0.0269 - val_acc: 0.9894\n",
      "Epoch 11/50\n",
      "8940/8940 [==============================] - 0s 21us/step - loss: 0.0067 - acc: 0.9996 - val_loss: 0.0206 - val_acc: 0.9917\n",
      "Epoch 12/50\n",
      "8940/8940 [==============================] - 0s 26us/step - loss: 0.0051 - acc: 0.9998 - val_loss: 0.0184 - val_acc: 0.9917\n",
      "Epoch 13/50\n",
      "8940/8940 [==============================] - 0s 26us/step - loss: 0.0043 - acc: 0.9997 - val_loss: 0.0164 - val_acc: 0.9939\n",
      "Epoch 14/50\n",
      "8940/8940 [==============================] - 0s 24us/step - loss: 0.0029 - acc: 1.0000 - val_loss: 0.0159 - val_acc: 0.9932\n",
      "Epoch 15/50\n",
      "8940/8940 [==============================] - 0s 23us/step - loss: 0.0023 - acc: 1.0000 - val_loss: 0.0140 - val_acc: 0.9955\n",
      "Epoch 16/50\n",
      "8940/8940 [==============================] - 0s 23us/step - loss: 0.0019 - acc: 1.0000 - val_loss: 0.0135 - val_acc: 0.9947\n",
      "Epoch 17/50\n",
      "8940/8940 [==============================] - 0s 26us/step - loss: 0.0017 - acc: 1.0000 - val_loss: 0.0144 - val_acc: 0.9947\n",
      "Epoch 18/50\n",
      "8940/8940 [==============================] - 0s 24us/step - loss: 0.0015 - acc: 1.0000 - val_loss: 0.0145 - val_acc: 0.9939\n",
      "Epoch 19/50\n",
      "8940/8940 [==============================] - 0s 24us/step - loss: 0.0012 - acc: 1.0000 - val_loss: 0.0135 - val_acc: 0.9939\n",
      "Epoch 20/50\n",
      "8940/8940 [==============================] - 0s 23us/step - loss: 0.0010 - acc: 1.0000 - val_loss: 0.0135 - val_acc: 0.9947\n",
      "Epoch 21/50\n",
      "8940/8940 [==============================] - 0s 24us/step - loss: 9.1424e-04 - acc: 1.0000 - val_loss: 0.0125 - val_acc: 0.9947\n",
      "Epoch 22/50\n",
      "8940/8940 [==============================] - 0s 28us/step - loss: 9.8869e-04 - acc: 1.0000 - val_loss: 0.0142 - val_acc: 0.9947\n",
      "Epoch 23/50\n",
      "8940/8940 [==============================] - 0s 26us/step - loss: 7.6004e-04 - acc: 1.0000 - val_loss: 0.0113 - val_acc: 0.9962\n",
      "Epoch 24/50\n",
      "8940/8940 [==============================] - 0s 28us/step - loss: 6.1254e-04 - acc: 1.0000 - val_loss: 0.0113 - val_acc: 0.9962\n",
      "Epoch 25/50\n",
      "8940/8940 [==============================] - 0s 24us/step - loss: 5.6481e-04 - acc: 1.0000 - val_loss: 0.0112 - val_acc: 0.9955\n",
      "Epoch 26/50\n",
      "8940/8940 [==============================] - 0s 26us/step - loss: 4.8307e-04 - acc: 1.0000 - val_loss: 0.0113 - val_acc: 0.9939\n",
      "Epoch 27/50\n",
      "8940/8940 [==============================] - 0s 26us/step - loss: 4.4662e-04 - acc: 1.0000 - val_loss: 0.0110 - val_acc: 0.9947\n",
      "Epoch 28/50\n",
      "8940/8940 [==============================] - 0s 28us/step - loss: 4.1043e-04 - acc: 1.0000 - val_loss: 0.0117 - val_acc: 0.9955\n",
      "Epoch 29/50\n",
      "8940/8940 [==============================] - 0s 24us/step - loss: 3.6552e-04 - acc: 1.0000 - val_loss: 0.0106 - val_acc: 0.9955\n",
      "Epoch 30/50\n",
      "8940/8940 [==============================] - 0s 26us/step - loss: 3.3483e-04 - acc: 1.0000 - val_loss: 0.0106 - val_acc: 0.9955\n",
      "Epoch 31/50\n",
      "8940/8940 [==============================] - 0s 26us/step - loss: 3.1827e-04 - acc: 1.0000 - val_loss: 0.0111 - val_acc: 0.9955\n",
      "Epoch 32/50\n",
      "8940/8940 [==============================] - 0s 24us/step - loss: 3.0255e-04 - acc: 1.0000 - val_loss: 0.0098 - val_acc: 0.9962\n",
      "Epoch 33/50\n",
      "8940/8940 [==============================] - 0s 24us/step - loss: 2.6181e-04 - acc: 1.0000 - val_loss: 0.0105 - val_acc: 0.9970\n",
      "Epoch 34/50\n",
      "8940/8940 [==============================] - 0s 26us/step - loss: 2.3607e-04 - acc: 1.0000 - val_loss: 0.0108 - val_acc: 0.9955\n",
      "Epoch 35/50\n",
      "8940/8940 [==============================] - 0s 28us/step - loss: 2.2556e-04 - acc: 1.0000 - val_loss: 0.0105 - val_acc: 0.9970\n",
      "Epoch 36/50\n",
      "8940/8940 [==============================] - 0s 26us/step - loss: 2.0181e-04 - acc: 1.0000 - val_loss: 0.0104 - val_acc: 0.9970\n",
      "Epoch 37/50\n",
      "8940/8940 [==============================] - 0s 26us/step - loss: 1.8711e-04 - acc: 1.0000 - val_loss: 0.0099 - val_acc: 0.9962\n",
      "Epoch 38/50\n",
      "8940/8940 [==============================] - 0s 24us/step - loss: 1.7457e-04 - acc: 1.0000 - val_loss: 0.0103 - val_acc: 0.9970\n",
      "Epoch 39/50\n",
      "8940/8940 [==============================] - 0s 26us/step - loss: 1.6303e-04 - acc: 1.0000 - val_loss: 0.0097 - val_acc: 0.9970\n",
      "Epoch 40/50\n",
      "8940/8940 [==============================] - 0s 26us/step - loss: 1.4977e-04 - acc: 1.0000 - val_loss: 0.0094 - val_acc: 0.9977\n",
      "Epoch 41/50\n",
      "8940/8940 [==============================] - 0s 28us/step - loss: 1.3900e-04 - acc: 1.0000 - val_loss: 0.0096 - val_acc: 0.9977\n",
      "Epoch 42/50\n",
      "8940/8940 [==============================] - 0s 28us/step - loss: 1.3054e-04 - acc: 1.0000 - val_loss: 0.0102 - val_acc: 0.9970\n",
      "Epoch 43/50\n",
      "8940/8940 [==============================] - 0s 24us/step - loss: 1.2652e-04 - acc: 1.0000 - val_loss: 0.0091 - val_acc: 0.9977\n",
      "Epoch 44/50\n",
      "8940/8940 [==============================] - 0s 24us/step - loss: 1.1603e-04 - acc: 1.0000 - val_loss: 0.0096 - val_acc: 0.9970\n",
      "Epoch 45/50\n",
      "8940/8940 [==============================] - 0s 28us/step - loss: 1.0964e-04 - acc: 1.0000 - val_loss: 0.0098 - val_acc: 0.9970\n",
      "Epoch 46/50\n",
      "8940/8940 [==============================] - 0s 26us/step - loss: 1.0248e-04 - acc: 1.0000 - val_loss: 0.0096 - val_acc: 0.9970\n",
      "Epoch 47/50\n",
      "8940/8940 [==============================] - 0s 26us/step - loss: 9.4372e-05 - acc: 1.0000 - val_loss: 0.0096 - val_acc: 0.9970\n",
      "Epoch 48/50\n",
      "8940/8940 [==============================] - 0s 26us/step - loss: 9.1304e-05 - acc: 1.0000 - val_loss: 0.0094 - val_acc: 0.9977\n",
      "Epoch 49/50\n",
      "8940/8940 [==============================] - 0s 26us/step - loss: 8.3438e-05 - acc: 1.0000 - val_loss: 0.0096 - val_acc: 0.9970\n",
      "Epoch 50/50\n",
      "8940/8940 [==============================] - 0s 24us/step - loss: 8.0339e-05 - acc: 1.0000 - val_loss: 0.0094 - val_acc: 0.9970\n"
     ]
    }
   ],
   "source": [
    "history = model.fit(X_train_res,y_train_res,epochs=50,batch_size=128,validation_data=(X_test,y_test))\n",
    "score = model.evaluate(X_test,y_test,verbose=0)"
   ]
  },
  {
   "cell_type": "code",
   "execution_count": 21,
   "metadata": {
    "scrolled": true
   },
   "outputs": [
    {
     "name": "stdout",
     "output_type": "stream",
     "text": [
      "Accuracy : 99.70%\n"
     ]
    }
   ],
   "source": [
    "print(\"Accuracy : %.2f%%\" % (score[1]*100))"
   ]
  },
  {
   "cell_type": "markdown",
   "metadata": {},
   "source": [
    "### Saving h5 model "
   ]
  },
  {
   "cell_type": "code",
   "execution_count": 50,
   "metadata": {},
   "outputs": [
    {
     "name": "stdout",
     "output_type": "stream",
     "text": [
      "Saved model to disk\n"
     ]
    }
   ],
   "source": [
    "# serialize model to JSON\n",
    "model_json = model.to_json()\n",
    "with open(\"model.json\", \"w\") as json_file:\n",
    "    json_file.write(model_json)\n",
    "# serialize weights to HDF5\n",
    "model.save_weights(\"model.h5\")\n",
    "print(\"Saved model to disk\")"
   ]
  },
  {
   "cell_type": "code",
   "execution_count": 22,
   "metadata": {},
   "outputs": [
    {
     "name": "stdout",
     "output_type": "stream",
     "text": [
      "dict_keys(['val_loss', 'val_acc', 'loss', 'acc'])\n"
     ]
    }
   ],
   "source": [
    "print(history.history.keys())"
   ]
  },
  {
   "cell_type": "code",
   "execution_count": 23,
   "metadata": {},
   "outputs": [
    {
     "data": {
      "image/png": "[encoded data removed]",
      "text/plain": [
       "<Figure size 432x288 with 1 Axes>"
      ]
     },
     "metadata": {
      "needs_background": "light"
     },
     "output_type": "display_data"
    }
   ],
   "source": [
    "# summarize history for accuracy \n",
    "plt.plot(history.history['acc']) \n",
    "plt.plot(history.history['val_acc']) \n",
    "plt.title('model accuracy') \n",
    "plt.ylabel('accuracy') \n",
    "plt.xlabel('epoch') \n",
    "plt.legend(['train', 'test'], loc='upper left') \n",
    "plt.show()"
   ]
  },
  {
   "cell_type": "code",
   "execution_count": 24,
   "metadata": {
    "scrolled": true
   },
   "outputs": [
    {
     "data": {
      "image/png": "[encoded data removed]",
      "text/plain": [
       "<Figure size 432x288 with 1 Axes>"
      ]
     },
     "metadata": {
      "needs_background": "light"
     },
     "output_type": "display_data"
    }
   ],
   "source": [
    "# summarize history for loss \n",
    "plt.plot(history.history['loss']) \n",
    "plt.plot(history.history['val_loss']) \n",
    "plt.title('model loss') \n",
    "plt.ylabel('loss') \n",
    "plt.xlabel('epoch') \n",
    "plt.legend(['train', 'test'], loc='upper left') \n",
    "plt.show()"
   ]
  },
  {
   "cell_type": "code",
   "execution_count": 25,
   "metadata": {},
   "outputs": [],
   "source": [
    "#Reference is taken from here : https://machinelearningmastery.com/how-to-calculate-precision-recall-f1-and-more-for-deep-learning-models/\n",
    "# predict probabilities for test set\n",
    "yhat_probs = model.predict(X_test, verbose=0)\n",
    "# predict crisp classes for test set\n",
    "yhat_classes = model.predict_classes(X_test, verbose=0)"
   ]
  },
  {
   "cell_type": "code",
   "execution_count": 26,
   "metadata": {},
   "outputs": [],
   "source": [
    "# reduce to 1d array\n",
    "yhat_probs = yhat_probs[:, 0]\n",
    "yhat_classes = yhat_classes[:, 0]"
   ]
  },
  {
   "cell_type": "code",
   "execution_count": 27,
   "metadata": {},
   "outputs": [
    {
     "name": "stdout",
     "output_type": "stream",
     "text": [
      "Accuracy: 0.996970\n",
      "Precision: 0.995169\n",
      "Recall: 0.985646\n",
      "F1 score: 0.990385\n"
     ]
    }
   ],
   "source": [
    "accuracy = accuracy_score(y_test, yhat_classes)\n",
    "print('Accuracy: %f' % accuracy)\n",
    "\n",
    "precision = precision_score(y_test, yhat_classes)\n",
    "print('Precision: %f' % precision)\n",
    "\n",
    "recall = recall_score(y_test, yhat_classes)\n",
    "print('Recall: %f' % recall)\n",
    "\n",
    "f1 = f1_score(y_test, yhat_classes)\n",
    "print('F1 score: %f' % f1)"
   ]
  },
  {
   "cell_type": "markdown",
   "metadata": {},
   "source": [
    "### Model 2 "
   ]
  },
  {
   "cell_type": "code",
   "execution_count": 28,
   "metadata": {},
   "outputs": [],
   "source": [
    "model_2 = Sequential()\n",
    "model_2.add(Dense(128,activation='relu', input_shape=(166,)))\n",
    "model_2.add(Dense(64,activation='relu'))\n",
    "model_2.add(Dense(64,activation='relu'))\n",
    "model_2.add(Dense(1,activation='sigmoid'))"
   ]
  },
  {
   "cell_type": "code",
   "execution_count": 29,
   "metadata": {},
   "outputs": [
    {
     "name": "stdout",
     "output_type": "stream",
     "text": [
      "_________________________________________________________________\n",
      "Layer (type)                 Output Shape              Param #   \n",
      "=================================================================\n",
      "dense_4 (Dense)              (None, 128)               21376     \n",
      "_________________________________________________________________\n",
      "dense_5 (Dense)              (None, 64)                8256      \n",
      "_________________________________________________________________\n",
      "dense_6 (Dense)              (None, 64)                4160      \n",
      "_________________________________________________________________\n",
      "dense_7 (Dense)              (None, 1)                 65        \n",
      "=================================================================\n",
      "Total params: 33,857\n",
      "Trainable params: 33,857\n",
      "Non-trainable params: 0\n",
      "_________________________________________________________________\n"
     ]
    }
   ],
   "source": [
    "model_2.summary()"
   ]
  },
  {
   "cell_type": "code",
   "execution_count": 30,
   "metadata": {},
   "outputs": [],
   "source": [
    "model_2.compile(optimizer='adam',\n",
    "              loss='binary_crossentropy',\n",
    "              metrics=['accuracy'])"
   ]
  },
  {
   "cell_type": "code",
   "execution_count": 31,
   "metadata": {
    "scrolled": true
   },
   "outputs": [
    {
     "name": "stdout",
     "output_type": "stream",
     "text": [
      "Train on 8940 samples, validate on 1320 samples\n",
      "Epoch 1/50\n",
      "8940/8940 [==============================] - 1s 104us/step - loss: 0.2601 - acc: 0.8909 - val_loss: 0.1067 - val_acc: 0.9561\n",
      "Epoch 2/50\n",
      "8940/8940 [==============================] - 0s 28us/step - loss: 0.0717 - acc: 0.9762 - val_loss: 0.0725 - val_acc: 0.9765\n",
      "Epoch 3/50\n",
      "8940/8940 [==============================] - 0s 28us/step - loss: 0.0312 - acc: 0.9930 - val_loss: 0.0388 - val_acc: 0.9871\n",
      "Epoch 4/50\n",
      "8940/8940 [==============================] - 0s 26us/step - loss: 0.0155 - acc: 0.9964 - val_loss: 0.0319 - val_acc: 0.9924\n",
      "Epoch 5/50\n",
      "8940/8940 [==============================] - 0s 28us/step - loss: 0.0087 - acc: 0.9980 - val_loss: 0.0281 - val_acc: 0.9864\n",
      "Epoch 6/50\n",
      "8940/8940 [==============================] - 0s 28us/step - loss: 0.0056 - acc: 0.9985 - val_loss: 0.0159 - val_acc: 0.9932\n",
      "Epoch 7/50\n",
      "8940/8940 [==============================] - 0s 28us/step - loss: 0.0030 - acc: 0.9993 - val_loss: 0.0101 - val_acc: 0.9962\n",
      "Epoch 8/50\n",
      "8940/8940 [==============================] - 0s 28us/step - loss: 0.0018 - acc: 0.9996 - val_loss: 0.0143 - val_acc: 0.9955\n",
      "Epoch 9/50\n",
      "8940/8940 [==============================] - 0s 26us/step - loss: 8.5646e-04 - acc: 0.9999 - val_loss: 0.0142 - val_acc: 0.9955\n",
      "Epoch 10/50\n",
      "8940/8940 [==============================] - 0s 28us/step - loss: 4.0184e-04 - acc: 1.0000 - val_loss: 0.0112 - val_acc: 0.9955\n",
      "Epoch 11/50\n",
      "8940/8940 [==============================] - 0s 31us/step - loss: 3.0641e-04 - acc: 1.0000 - val_loss: 0.0107 - val_acc: 0.9955\n",
      "Epoch 12/50\n",
      "8940/8940 [==============================] - 0s 28us/step - loss: 2.3993e-04 - acc: 1.0000 - val_loss: 0.0110 - val_acc: 0.9955\n",
      "Epoch 13/50\n",
      "8940/8940 [==============================] - 0s 26us/step - loss: 1.9769e-04 - acc: 1.0000 - val_loss: 0.0099 - val_acc: 0.9955\n",
      "Epoch 14/50\n",
      "8940/8940 [==============================] - 0s 28us/step - loss: 1.6999e-04 - acc: 1.0000 - val_loss: 0.0090 - val_acc: 0.9947\n",
      "Epoch 15/50\n",
      "8940/8940 [==============================] - 0s 31us/step - loss: 1.4570e-04 - acc: 1.0000 - val_loss: 0.0094 - val_acc: 0.9947\n",
      "Epoch 16/50\n",
      "8940/8940 [==============================] - 0s 31us/step - loss: 1.2591e-04 - acc: 1.0000 - val_loss: 0.0099 - val_acc: 0.9970\n",
      "Epoch 17/50\n",
      "8940/8940 [==============================] - 0s 30us/step - loss: 1.0882e-04 - acc: 1.0000 - val_loss: 0.0093 - val_acc: 0.9947\n",
      "Epoch 18/50\n",
      "8940/8940 [==============================] - 0s 28us/step - loss: 9.5328e-05 - acc: 1.0000 - val_loss: 0.0089 - val_acc: 0.9955\n",
      "Epoch 19/50\n",
      "8940/8940 [==============================] - 0s 30us/step - loss: 8.5975e-05 - acc: 1.0000 - val_loss: 0.0089 - val_acc: 0.9947\n",
      "Epoch 20/50\n",
      "8940/8940 [==============================] - 0s 30us/step - loss: 7.6997e-05 - acc: 1.0000 - val_loss: 0.0089 - val_acc: 0.9962\n",
      "Epoch 21/50\n",
      "8940/8940 [==============================] - 0s 26us/step - loss: 6.9161e-05 - acc: 1.0000 - val_loss: 0.0089 - val_acc: 0.9955\n",
      "Epoch 22/50\n",
      "8940/8940 [==============================] - 0s 28us/step - loss: 6.1239e-05 - acc: 1.0000 - val_loss: 0.0083 - val_acc: 0.9955\n",
      "Epoch 23/50\n",
      "8940/8940 [==============================] - 0s 30us/step - loss: 5.5789e-05 - acc: 1.0000 - val_loss: 0.0080 - val_acc: 0.9955\n",
      "Epoch 24/50\n",
      "8940/8940 [==============================] - 0s 28us/step - loss: 5.0465e-05 - acc: 1.0000 - val_loss: 0.0087 - val_acc: 0.9962\n",
      "Epoch 25/50\n",
      "8940/8940 [==============================] - 0s 28us/step - loss: 4.5418e-05 - acc: 1.0000 - val_loss: 0.0078 - val_acc: 0.9955\n",
      "Epoch 26/50\n",
      "8940/8940 [==============================] - 0s 30us/step - loss: 4.1619e-05 - acc: 1.0000 - val_loss: 0.0085 - val_acc: 0.9962\n",
      "Epoch 27/50\n",
      "8940/8940 [==============================] - 0s 33us/step - loss: 3.7573e-05 - acc: 1.0000 - val_loss: 0.0080 - val_acc: 0.9962\n",
      "Epoch 28/50\n",
      "8940/8940 [==============================] - 0s 28us/step - loss: 3.4856e-05 - acc: 1.0000 - val_loss: 0.0079 - val_acc: 0.9962\n",
      "Epoch 29/50\n",
      "8940/8940 [==============================] - 0s 28us/step - loss: 3.2247e-05 - acc: 1.0000 - val_loss: 0.0077 - val_acc: 0.9955\n",
      "Epoch 30/50\n",
      "8940/8940 [==============================] - 0s 30us/step - loss: 2.9669e-05 - acc: 1.0000 - val_loss: 0.0078 - val_acc: 0.9962\n",
      "Epoch 31/50\n",
      "8940/8940 [==============================] - 0s 31us/step - loss: 2.7471e-05 - acc: 1.0000 - val_loss: 0.0076 - val_acc: 0.9955\n",
      "Epoch 32/50\n",
      "8940/8940 [==============================] - 0s 31us/step - loss: 2.4946e-05 - acc: 1.0000 - val_loss: 0.0082 - val_acc: 0.9962\n",
      "Epoch 33/50\n",
      "8940/8940 [==============================] - 0s 31us/step - loss: 2.3264e-05 - acc: 1.0000 - val_loss: 0.0074 - val_acc: 0.9962\n",
      "Epoch 34/50\n",
      "8940/8940 [==============================] - 0s 28us/step - loss: 2.1972e-05 - acc: 1.0000 - val_loss: 0.0081 - val_acc: 0.9962\n",
      "Epoch 35/50\n",
      "8940/8940 [==============================] - 0s 30us/step - loss: 2.0005e-05 - acc: 1.0000 - val_loss: 0.0075 - val_acc: 0.9962\n",
      "Epoch 36/50\n",
      "8940/8940 [==============================] - 0s 30us/step - loss: 1.8838e-05 - acc: 1.0000 - val_loss: 0.0074 - val_acc: 0.9962\n",
      "Epoch 37/50\n",
      "8940/8940 [==============================] - 0s 30us/step - loss: 1.7737e-05 - acc: 1.0000 - val_loss: 0.0076 - val_acc: 0.9970\n",
      "Epoch 38/50\n",
      "8940/8940 [==============================] - 0s 31us/step - loss: 1.6489e-05 - acc: 1.0000 - val_loss: 0.0077 - val_acc: 0.9962\n",
      "Epoch 39/50\n",
      "8940/8940 [==============================] - 0s 31us/step - loss: 1.5102e-05 - acc: 1.0000 - val_loss: 0.0077 - val_acc: 0.9962\n",
      "Epoch 40/50\n",
      "8940/8940 [==============================] - 0s 30us/step - loss: 1.4171e-05 - acc: 1.0000 - val_loss: 0.0078 - val_acc: 0.9962\n",
      "Epoch 41/50\n",
      "8940/8940 [==============================] - 0s 33us/step - loss: 1.3309e-05 - acc: 1.0000 - val_loss: 0.0077 - val_acc: 0.9970\n",
      "Epoch 42/50\n",
      "8940/8940 [==============================] - 0s 30us/step - loss: 1.2470e-05 - acc: 1.0000 - val_loss: 0.0076 - val_acc: 0.9970\n",
      "Epoch 43/50\n",
      "8940/8940 [==============================] - 0s 30us/step - loss: 1.1589e-05 - acc: 1.0000 - val_loss: 0.0075 - val_acc: 0.9970\n",
      "Epoch 44/50\n",
      "8940/8940 [==============================] - 0s 31us/step - loss: 1.1036e-05 - acc: 1.0000 - val_loss: 0.0075 - val_acc: 0.9970\n",
      "Epoch 45/50\n",
      "8940/8940 [==============================] - 0s 33us/step - loss: 1.0188e-05 - acc: 1.0000 - val_loss: 0.0076 - val_acc: 0.9970\n",
      "Epoch 46/50\n",
      "8940/8940 [==============================] - 0s 30us/step - loss: 9.6192e-06 - acc: 1.0000 - val_loss: 0.0078 - val_acc: 0.9962\n",
      "Epoch 47/50\n",
      "8940/8940 [==============================] - 0s 28us/step - loss: 8.9732e-06 - acc: 1.0000 - val_loss: 0.0078 - val_acc: 0.9970\n",
      "Epoch 48/50\n",
      "8940/8940 [==============================] - 0s 31us/step - loss: 8.4417e-06 - acc: 1.0000 - val_loss: 0.0074 - val_acc: 0.9970\n",
      "Epoch 49/50\n",
      "8940/8940 [==============================] - 0s 30us/step - loss: 7.8780e-06 - acc: 1.0000 - val_loss: 0.0079 - val_acc: 0.9970\n",
      "Epoch 50/50\n",
      "8940/8940 [==============================] - 0s 28us/step - loss: 7.5853e-06 - acc: 1.0000 - val_loss: 0.0077 - val_acc: 0.9970\n"
     ]
    }
   ],
   "source": [
    "history = model_2.fit(X_train_res,y_train_res,epochs=50,batch_size=128,validation_data=(X_test,y_test))\n",
    "score1 = model_2.evaluate(X_test,y_test,verbose=0)"
   ]
  },
  {
   "cell_type": "code",
   "execution_count": 32,
   "metadata": {},
   "outputs": [
    {
     "name": "stdout",
     "output_type": "stream",
     "text": [
      "Accuracy : 99.70%\n"
     ]
    }
   ],
   "source": [
    "print(\"Accuracy : %.2f%%\" % (score1[1]*100))"
   ]
  },
  {
   "cell_type": "code",
   "execution_count": 34,
   "metadata": {},
   "outputs": [
    {
     "data": {
      "image/png": "[encoded data removed]",
      "text/plain": [
       "<Figure size 432x288 with 1 Axes>"
      ]
     },
     "metadata": {
      "needs_background": "light"
     },
     "output_type": "display_data"
    }
   ],
   "source": [
    "# summarize history for accuracy \n",
    "plt.plot(history.history['acc']) \n",
    "plt.plot(history.history['val_acc']) \n",
    "plt.title('model accuracy') \n",
    "plt.ylabel('accuracy') \n",
    "plt.xlabel('epoch') \n",
    "plt.legend(['train', 'test'], loc='upper left') \n",
    "plt.show()"
   ]
  },
  {
   "cell_type": "code",
   "execution_count": 35,
   "metadata": {},
   "outputs": [
    {
     "data": {
      "image/png": "[encoded data removed]",
      "text/plain": [
       "<Figure size 432x288 with 1 Axes>"
      ]
     },
     "metadata": {
      "needs_background": "light"
     },
     "output_type": "display_data"
    }
   ],
   "source": [
    "# summarize history for loss \n",
    "plt.plot(history.history['loss']) \n",
    "plt.plot(history.history['val_loss']) \n",
    "plt.title('model loss') \n",
    "plt.ylabel('loss') \n",
    "plt.xlabel('epoch') \n",
    "plt.legend(['train', 'test'], loc='upper left') \n",
    "plt.show()"
   ]
  },
  {
   "cell_type": "code",
   "execution_count": 36,
   "metadata": {},
   "outputs": [],
   "source": [
    "# predict probabilities for test set\n",
    "yhat_probs = model_2.predict(X_test, verbose=0)\n",
    "# predict crisp classes for test set\n",
    "yhat_classes = model_2.predict_classes(X_test, verbose=0)"
   ]
  },
  {
   "cell_type": "code",
   "execution_count": 37,
   "metadata": {},
   "outputs": [],
   "source": [
    "# reduce to 1d array\n",
    "yhat_probs = yhat_probs[:, 0]\n",
    "yhat_classes = yhat_classes[:, 0]"
   ]
  },
  {
   "cell_type": "code",
   "execution_count": 38,
   "metadata": {},
   "outputs": [
    {
     "name": "stdout",
     "output_type": "stream",
     "text": [
      "Accuracy: 0.996970\n",
      "Precision: 0.995169\n",
      "Recall: 0.985646\n",
      "F1 score: 0.990385\n"
     ]
    }
   ],
   "source": [
    "accuracy = accuracy_score(y_test, yhat_classes)\n",
    "print('Accuracy: %f' % accuracy)\n",
    "\n",
    "precision = precision_score(y_test, yhat_classes)\n",
    "print('Precision: %f' % precision)\n",
    "\n",
    "recall = recall_score(y_test, yhat_classes)\n",
    "print('Recall: %f' % recall)\n",
    "\n",
    "f1 = f1_score(y_test, yhat_classes)\n",
    "print('F1 score: %f' % f1)"
   ]
  },
  {
   "cell_type": "markdown",
   "metadata": {},
   "source": [
    "### Model 3 "
   ]
  },
  {
   "cell_type": "code",
   "execution_count": 39,
   "metadata": {},
   "outputs": [],
   "source": [
    "model_3 = Sequential()\n",
    "model_3.add(Dense(264,activation='relu', input_shape=(166,)))\n",
    "model_3.add(Dense(128,activation='relu'))\n",
    "model_3.add(Dense(128,activation='relu'))\n",
    "model_3.add(Dense(64,activation='relu'))\n",
    "model_3.add(Dense(1,activation='sigmoid'))"
   ]
  },
  {
   "cell_type": "code",
   "execution_count": 40,
   "metadata": {},
   "outputs": [
    {
     "name": "stdout",
     "output_type": "stream",
     "text": [
      "_________________________________________________________________\n",
      "Layer (type)                 Output Shape              Param #   \n",
      "=================================================================\n",
      "dense_8 (Dense)              (None, 264)               44088     \n",
      "_________________________________________________________________\n",
      "dense_9 (Dense)              (None, 128)               33920     \n",
      "_________________________________________________________________\n",
      "dense_10 (Dense)             (None, 128)               16512     \n",
      "_________________________________________________________________\n",
      "dense_11 (Dense)             (None, 64)                8256      \n",
      "_________________________________________________________________\n",
      "dense_12 (Dense)             (None, 1)                 65        \n",
      "=================================================================\n",
      "Total params: 102,841\n",
      "Trainable params: 102,841\n",
      "Non-trainable params: 0\n",
      "_________________________________________________________________\n"
     ]
    }
   ],
   "source": [
    "model_3.summary()"
   ]
  },
  {
   "cell_type": "code",
   "execution_count": 41,
   "metadata": {},
   "outputs": [],
   "source": [
    "model_3.compile(optimizer='adam',\n",
    "              loss='binary_crossentropy',\n",
    "              metrics=['accuracy'])"
   ]
  },
  {
   "cell_type": "code",
   "execution_count": 42,
   "metadata": {
    "scrolled": true
   },
   "outputs": [
    {
     "name": "stdout",
     "output_type": "stream",
     "text": [
      "Train on 8940 samples, validate on 1320 samples\n",
      "Epoch 1/50\n",
      "8940/8940 [==============================] - 1s 132us/step - loss: 0.2194 - acc: 0.9030 - val_loss: 0.0942 - val_acc: 0.9591\n",
      "Epoch 2/50\n",
      "8940/8940 [==============================] - 0s 38us/step - loss: 0.0544 - acc: 0.9776 - val_loss: 0.0514 - val_acc: 0.9795\n",
      "Epoch 3/50\n",
      "8940/8940 [==============================] - 0s 40us/step - loss: 0.0289 - acc: 0.9896 - val_loss: 0.0354 - val_acc: 0.9833\n",
      "Epoch 4/50\n",
      "8940/8940 [==============================] - 0s 40us/step - loss: 0.0099 - acc: 0.9969 - val_loss: 0.0192 - val_acc: 0.9947\n",
      "Epoch 5/50\n",
      "8940/8940 [==============================] - 0s 40us/step - loss: 0.0056 - acc: 0.9984 - val_loss: 0.0183 - val_acc: 0.9924\n",
      "Epoch 6/50\n",
      "8940/8940 [==============================] - 0s 42us/step - loss: 0.0054 - acc: 0.9983 - val_loss: 0.0110 - val_acc: 0.9947\n",
      "Epoch 7/50\n",
      "8940/8940 [==============================] - 0s 38us/step - loss: 0.0024 - acc: 0.9992 - val_loss: 0.0248 - val_acc: 0.9939\n",
      "Epoch 8/50\n",
      "8940/8940 [==============================] - 0s 40us/step - loss: 0.0196 - acc: 0.9932 - val_loss: 0.0153 - val_acc: 0.9924\n",
      "Epoch 9/50\n",
      "8940/8940 [==============================] - 0s 40us/step - loss: 0.0024 - acc: 0.9992 - val_loss: 0.0103 - val_acc: 0.9962\n",
      "Epoch 10/50\n",
      "8940/8940 [==============================] - 0s 42us/step - loss: 0.0019 - acc: 0.9993 - val_loss: 0.0113 - val_acc: 0.9977\n",
      "Epoch 11/50\n",
      "8940/8940 [==============================] - 0s 42us/step - loss: 0.0014 - acc: 0.9996 - val_loss: 0.0085 - val_acc: 0.9962\n",
      "Epoch 12/50\n",
      "8940/8940 [==============================] - 0s 42us/step - loss: 0.0044 - acc: 0.9984 - val_loss: 0.0124 - val_acc: 0.9962\n",
      "Epoch 13/50\n",
      "8940/8940 [==============================] - 0s 42us/step - loss: 0.0076 - acc: 0.9985 - val_loss: 0.9087 - val_acc: 0.9000\n",
      "Epoch 14/50\n",
      "8940/8940 [==============================] - 0s 44us/step - loss: 0.0688 - acc: 0.9885 - val_loss: 0.0149 - val_acc: 0.9939\n",
      "Epoch 15/50\n",
      "8940/8940 [==============================] - 0s 42us/step - loss: 0.0094 - acc: 0.9969 - val_loss: 0.0176 - val_acc: 0.9932\n",
      "Epoch 16/50\n",
      "8940/8940 [==============================] - 0s 44us/step - loss: 0.0022 - acc: 0.9996 - val_loss: 0.0073 - val_acc: 0.9970\n",
      "Epoch 17/50\n",
      "8940/8940 [==============================] - 0s 44us/step - loss: 4.6419e-04 - acc: 1.0000 - val_loss: 0.0068 - val_acc: 0.9962\n",
      "Epoch 18/50\n",
      "8940/8940 [==============================] - 0s 45us/step - loss: 8.2755e-05 - acc: 1.0000 - val_loss: 0.0076 - val_acc: 0.9970\n",
      "Epoch 19/50\n",
      "8940/8940 [==============================] - 0s 40us/step - loss: 4.5203e-05 - acc: 1.0000 - val_loss: 0.0083 - val_acc: 0.9970\n",
      "Epoch 20/50\n",
      "8940/8940 [==============================] - 0s 42us/step - loss: 2.8175e-05 - acc: 1.0000 - val_loss: 0.0082 - val_acc: 0.9962\n",
      "Epoch 21/50\n",
      "8940/8940 [==============================] - 0s 47us/step - loss: 2.0245e-05 - acc: 1.0000 - val_loss: 0.0079 - val_acc: 0.9962\n",
      "Epoch 22/50\n",
      "8940/8940 [==============================] - 0s 44us/step - loss: 1.5590e-05 - acc: 1.0000 - val_loss: 0.0082 - val_acc: 0.9962\n",
      "Epoch 23/50\n",
      "8940/8940 [==============================] - 0s 42us/step - loss: 1.2363e-05 - acc: 1.0000 - val_loss: 0.0082 - val_acc: 0.9962\n",
      "Epoch 24/50\n",
      "8940/8940 [==============================] - 0s 45us/step - loss: 1.0076e-05 - acc: 1.0000 - val_loss: 0.0083 - val_acc: 0.9962\n",
      "Epoch 25/50\n",
      "8940/8940 [==============================] - 0s 47us/step - loss: 8.4602e-06 - acc: 1.0000 - val_loss: 0.0084 - val_acc: 0.9962\n",
      "Epoch 26/50\n",
      "8940/8940 [==============================] - 0s 42us/step - loss: 7.1334e-06 - acc: 1.0000 - val_loss: 0.0085 - val_acc: 0.9962\n",
      "Epoch 27/50\n",
      "8940/8940 [==============================] - 0s 47us/step - loss: 6.1366e-06 - acc: 1.0000 - val_loss: 0.0084 - val_acc: 0.9962\n",
      "Epoch 28/50\n",
      "8940/8940 [==============================] - 0s 44us/step - loss: 5.3270e-06 - acc: 1.0000 - val_loss: 0.0085 - val_acc: 0.9962\n",
      "Epoch 29/50\n",
      "8940/8940 [==============================] - 0s 45us/step - loss: 4.6611e-06 - acc: 1.0000 - val_loss: 0.0084 - val_acc: 0.9962\n",
      "Epoch 30/50\n",
      "8940/8940 [==============================] - 0s 45us/step - loss: 4.1148e-06 - acc: 1.0000 - val_loss: 0.0084 - val_acc: 0.9962\n",
      "Epoch 31/50\n",
      "8940/8940 [==============================] - 0s 44us/step - loss: 3.6581e-06 - acc: 1.0000 - val_loss: 0.0083 - val_acc: 0.9962\n",
      "Epoch 32/50\n",
      "8940/8940 [==============================] - 0s 45us/step - loss: 3.2791e-06 - acc: 1.0000 - val_loss: 0.0083 - val_acc: 0.9962\n",
      "Epoch 33/50\n",
      "8940/8940 [==============================] - 0s 44us/step - loss: 2.9431e-06 - acc: 1.0000 - val_loss: 0.0084 - val_acc: 0.9962\n",
      "Epoch 34/50\n",
      "8940/8940 [==============================] - 0s 42us/step - loss: 2.6647e-06 - acc: 1.0000 - val_loss: 0.0084 - val_acc: 0.9962\n",
      "Epoch 35/50\n",
      "8940/8940 [==============================] - 0s 47us/step - loss: 2.4210e-06 - acc: 1.0000 - val_loss: 0.0083 - val_acc: 0.9962\n",
      "Epoch 36/50\n",
      "8940/8940 [==============================] - 0s 44us/step - loss: 2.2049e-06 - acc: 1.0000 - val_loss: 0.0083 - val_acc: 0.9962\n",
      "Epoch 37/50\n",
      "8940/8940 [==============================] - 0s 51us/step - loss: 2.0265e-06 - acc: 1.0000 - val_loss: 0.0084 - val_acc: 0.9962\n",
      "Epoch 38/50\n",
      "8940/8940 [==============================] - 0s 42us/step - loss: 1.8555e-06 - acc: 1.0000 - val_loss: 0.0085 - val_acc: 0.9962\n",
      "Epoch 39/50\n",
      "8940/8940 [==============================] - 0s 45us/step - loss: 1.7182e-06 - acc: 1.0000 - val_loss: 0.0084 - val_acc: 0.9962\n",
      "Epoch 40/50\n",
      "8940/8940 [==============================] - 0s 49us/step - loss: 1.5795e-06 - acc: 1.0000 - val_loss: 0.0084 - val_acc: 0.9962\n",
      "Epoch 41/50\n",
      "8940/8940 [==============================] - 0s 40us/step - loss: 1.4694e-06 - acc: 1.0000 - val_loss: 0.0086 - val_acc: 0.9962\n",
      "Epoch 42/50\n",
      "8940/8940 [==============================] - 0s 44us/step - loss: 1.3660e-06 - acc: 1.0000 - val_loss: 0.0085 - val_acc: 0.9962\n",
      "Epoch 43/50\n",
      "8940/8940 [==============================] - 0s 44us/step - loss: 1.2678e-06 - acc: 1.0000 - val_loss: 0.0086 - val_acc: 0.9962\n",
      "Epoch 44/50\n",
      "8940/8940 [==============================] - 0s 44us/step - loss: 1.1855e-06 - acc: 1.0000 - val_loss: 0.0086 - val_acc: 0.9962\n",
      "Epoch 45/50\n",
      "8940/8940 [==============================] - 0s 47us/step - loss: 1.1080e-06 - acc: 1.0000 - val_loss: 0.0086 - val_acc: 0.9962\n",
      "Epoch 46/50\n",
      "8940/8940 [==============================] - 0s 44us/step - loss: 1.0376e-06 - acc: 1.0000 - val_loss: 0.0086 - val_acc: 0.9962\n",
      "Epoch 47/50\n",
      "8940/8940 [==============================] - 0s 45us/step - loss: 9.7341e-07 - acc: 1.0000 - val_loss: 0.0086 - val_acc: 0.9962\n",
      "Epoch 48/50\n",
      "8940/8940 [==============================] - 0s 42us/step - loss: 9.1459e-07 - acc: 1.0000 - val_loss: 0.0087 - val_acc: 0.9962\n",
      "Epoch 49/50\n",
      "8940/8940 [==============================] - 0s 44us/step - loss: 8.6291e-07 - acc: 1.0000 - val_loss: 0.0088 - val_acc: 0.9962\n",
      "Epoch 50/50\n",
      "8940/8940 [==============================] - 0s 44us/step - loss: 8.1299e-07 - acc: 1.0000 - val_loss: 0.0087 - val_acc: 0.9962\n"
     ]
    }
   ],
   "source": [
    "history = model_3.fit(X_train_res,y_train_res,epochs=50,batch_size=128,validation_data=(X_test,y_test))\n",
    "score3 = model_3.evaluate(X_test,y_test,verbose=0)"
   ]
  },
  {
   "cell_type": "code",
   "execution_count": 43,
   "metadata": {},
   "outputs": [
    {
     "name": "stdout",
     "output_type": "stream",
     "text": [
      "Accuracy : 99.62%\n"
     ]
    }
   ],
   "source": [
    "print(\"Accuracy : %.2f%%\" % (score3[1]*100))"
   ]
  },
  {
   "cell_type": "code",
   "execution_count": 44,
   "metadata": {},
   "outputs": [
    {
     "data": {
      "image/png": "[encoded data removed]",
      "text/plain": [
       "<Figure size 432x288 with 1 Axes>"
      ]
     },
     "metadata": {
      "needs_background": "light"
     },
     "output_type": "display_data"
    }
   ],
   "source": [
    "# summarize history for accuracy \n",
    "plt.plot(history.history['acc']) \n",
    "plt.plot(history.history['val_acc']) \n",
    "plt.title('model accuracy') \n",
    "plt.ylabel('accuracy') \n",
    "plt.xlabel('epoch') \n",
    "plt.legend(['train', 'test'], loc='upper left') \n",
    "plt.show()"
   ]
  },
  {
   "cell_type": "code",
   "execution_count": 45,
   "metadata": {},
   "outputs": [
    {
     "data": {
      "image/png": "[encoded data removed]",
      "text/plain": [
       "<Figure size 432x288 with 1 Axes>"
      ]
     },
     "metadata": {
      "needs_background": "light"
     },
     "output_type": "display_data"
    }
   ],
   "source": [
    "# summarize history for loss \n",
    "plt.plot(history.history['loss']) \n",
    "plt.plot(history.history['val_loss']) \n",
    "plt.title('model loss') \n",
    "plt.ylabel('loss') \n",
    "plt.xlabel('epoch') \n",
    "plt.legend(['train', 'test'], loc='upper left') \n",
    "plt.show()"
   ]
  },
  {
   "cell_type": "code",
   "execution_count": 46,
   "metadata": {},
   "outputs": [],
   "source": [
    "# predict probabilities for test set\n",
    "yhat_probs = model_3.predict(X_test, verbose=0)\n",
    "# predict crisp classes for test set\n",
    "yhat_classes = model_3.predict_classes(X_test, verbose=0)"
   ]
  },
  {
   "cell_type": "code",
   "execution_count": 47,
   "metadata": {},
   "outputs": [],
   "source": [
    "# reduce to 1d array\n",
    "yhat_probs = yhat_probs[:, 0]\n",
    "yhat_classes = yhat_classes[:, 0]"
   ]
  },
  {
   "cell_type": "code",
   "execution_count": 48,
   "metadata": {
    "scrolled": true
   },
   "outputs": [
    {
     "name": "stdout",
     "output_type": "stream",
     "text": [
      "Accuracy: 0.996212\n",
      "Precision: 0.990385\n",
      "Recall: 0.985646\n",
      "F1 score: 0.988010\n"
     ]
    }
   ],
   "source": [
    "accuracy = accuracy_score(y_test, yhat_classes)\n",
    "print('Accuracy: %f' % accuracy)\n",
    "\n",
    "precision = precision_score(y_test, yhat_classes)\n",
    "print('Precision: %f' % precision)\n",
    "\n",
    "recall = recall_score(y_test, yhat_classes)\n",
    "print('Recall: %f' % recall)\n",
    "\n",
    "f1 = f1_score(y_test, yhat_classes)\n",
    "print('F1 score: %f' % f1)"
   ]
  },
  {
   "cell_type": "markdown",
   "metadata": {},
   "source": [
    "### Prettytable "
   ]
  },
  {
   "cell_type": "code",
   "execution_count": 49,
   "metadata": {},
   "outputs": [
    {
     "name": "stdout",
     "output_type": "stream",
     "text": [
      "Machine Learning Models\n",
      "+---------+----------+-----------+----------+----------+\n",
      "|  Model  | Accuracy | Precision |  Recall  | F1-Score |\n",
      "+---------+----------+-----------+----------+----------+\n",
      "| Model 1 | 0.99697  |  0.995169 | 0.985646 | 0.990385 |\n",
      "| Model 2 | 0.99697  |  0.995169 | 0.985646 | 0.990385 |\n",
      "| Model 3 | 0.996212 |  0.990385 | 0.985646 | 0.98801  |\n",
      "+---------+----------+-----------+----------+----------+\n"
     ]
    }
   ],
   "source": [
    "from prettytable import PrettyTable\n",
    "x=PrettyTable()\n",
    "print(\"Machine Learning Models\")\n",
    "x.field_names=['Model','Accuracy','Precision','Recall','F1-Score']\n",
    "x.add_row(['Model 1',0.996970,0.995169,0.985646,0.990385])\n",
    "x.add_row(['Model 2',0.996970,0.995169,0.985646,0.990385])\n",
    "x.add_row(['Model 3',0.996212,0.990385,0.985646,0.988010])\n",
    "print(x)"
   ]
  },
  {
   "cell_type": "markdown",
   "metadata": {},
   "source": [
    "### Conclusions "
   ]
  },
  {
   "cell_type": "markdown",
   "metadata": {},
   "source": [
    "1. This problem is a binary class classification problem and we have to predict class for organic chemical compounds.\n",
    "2. Total features in the dataset are 170 which includes target feature class.\n",
    "3. molecule_name, conformation_name and ID are not important features for prediction so we drop them.\n",
    "4. We have build three models. Each model is a Multi Layered Perceptron model. MLPs are suitable for classification prediction problems where inputs are assigned a class or label\n",
    "5. Each model is sequential model which is a linear stack of Layers.\n",
    "6. We have plotted Accuracy and Loss graphs for each model.\n",
    "7. Also calculated Acccuracy, Precision, Recall and F1-score values for each model.\n",
    "8. Class feature of Dataset was imbalanced which effects the model. We used SMOTE technique to balance the dataset so that model does not do predictions on the basis of majority class.\n",
    "9. For preprocessing we did Data Standardization to scale the data.\n",
    "10. There were no null values in the data.\n",
    "11. Also size of the dataset is small. That's why accuracy of model is almost 100%. We should have more data for model to perform better.\n",
    "12. Model 1 and 2 have less layers than Model 3 and recall value is same for all models.\n",
    "13. I have used Model 1 for predictions."
   ]
  },
  {
   "cell_type": "code",
   "execution_count": null,
   "metadata": {},
   "outputs": [],
   "source": []
  }
 ],
 "metadata": {
  "kernelspec": {
   "display_name": "Python 3",
   "language": "python",
   "name": "python3"
  },
  "language_info": {
   "codemirror_mode": {
    "name": "ipython",
    "version": 3
   },
   "file_extension": ".py",
   "mimetype": "text/x-python",
   "name": "python",
   "nbconvert_exporter": "python",
   "pygments_lexer": "ipython3",
   "version": "3.7.4"
  }
 },
 "nbformat": 4,
 "nbformat_minor": 2
}
