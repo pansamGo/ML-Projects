{
 "cells": [
  {
   "cell_type": "markdown",
   "metadata": {
    "colab_type": "text",
    "id": "naWvqMEMHglO"
   },
   "source": [
    "<p style=\"font-size:32px;text-align:center\"> <b>Social network Graph Link Prediction - Facebook Challenge</b> </p>"
   ]
  },
  {
   "cell_type": "code",
   "execution_count": 1,
   "metadata": {
    "colab": {},
    "colab_type": "code",
    "id": "9wb9N5RzHglP"
   },
   "outputs": [],
   "source": [
    "#Importing Libraries\n",
    "# please do go through this python notebook: \n",
    "import warnings\n",
    "warnings.filterwarnings(\"ignore\")\n",
    "\n",
    "import csv\n",
    "import pandas as pd#pandas to create small dataframes \n",
    "import datetime #Convert to unix time\n",
    "import time #Convert to unix time\n",
    "# if numpy is not installed already : pip3 install numpy\n",
    "import numpy as np#Do aritmetic operations on arrays\n",
    "# matplotlib: used to plot graphs\n",
    "import matplotlib\n",
    "import matplotlib.pylab as plt\n",
    "import seaborn as sns#Plots\n",
    "from matplotlib import rcParams#Size of plots  \n",
    "from sklearn.cluster import MiniBatchKMeans, KMeans#Clustering\n",
    "import math\n",
    "import pickle\n",
    "import os\n",
    "# to install xgboost: pip3 install xgboost\n",
    "import xgboost as xgb\n",
    "\n",
    "import warnings\n",
    "import networkx as nx\n",
    "import pdb\n",
    "import pickle\n",
    "from pandas import HDFStore,DataFrame\n",
    "from pandas import read_hdf\n",
    "from scipy.sparse.linalg import svds, eigs\n",
    "import gc\n",
    "from tqdm import tqdm\n",
    "from sklearn.ensemble import RandomForestClassifier\n",
    "from sklearn.metrics import f1_score"
   ]
  },
  {
   "cell_type": "code",
   "execution_count": 2,
   "metadata": {
    "colab": {},
    "colab_type": "code",
    "id": "XC4OJFKkHglU"
   },
   "outputs": [],
   "source": [
    "#reading\n",
    "from pandas import read_hdf\n",
    "df_final_train = read_hdf('storage_sample_stage4.h5', 'train_df',mode='r')\n",
    "df_final_test = read_hdf('storage_sample_stage4.h5', 'test_df',mode='r')"
   ]
  },
  {
   "cell_type": "code",
   "execution_count": 4,
   "metadata": {
    "colab": {},
    "colab_type": "code",
    "id": "5Gm-BHRkHglW",
    "outputId": "d2c2294c-113e-4fdb-d3e5-dc167dcf5fbc",
    "scrolled": true
   },
   "outputs": [
    {
     "data": {
      "text/plain": [
       "Index(['source_node', 'destination_node', 'indicator_link',\n",
       "       'jaccard_followers', 'jaccard_followees', 'cosine_followers',\n",
       "       'cosine_followees', 'num_followers_s', 'num_followers_d',\n",
       "       'num_followees_s', 'num_followees_d', 'inter_followers',\n",
       "       'inter_followees', 'adar_index', 'follows_back', 'same_comp',\n",
       "       'shortest_path', 'weight_in', 'weight_out', 'weight_f1', 'weight_f2',\n",
       "       'weight_f3', 'weight_f4', 'page_rank_s', 'page_rank_d', 'katz_s',\n",
       "       'katz_d', 'hubs_s', 'hubs_d', 'authorities_s', 'authorities_d',\n",
       "       'svd_u_s_1', 'svd_u_s_2', 'svd_u_s_3', 'svd_u_s_4', 'svd_u_s_5',\n",
       "       'svd_u_s_6', 'svd_u_d_1', 'svd_u_d_2', 'svd_u_d_3', 'svd_u_d_4',\n",
       "       'svd_u_d_5', 'svd_u_d_6', 'svd_v_s_1', 'svd_v_s_2', 'svd_v_s_3',\n",
       "       'svd_v_s_4', 'svd_v_s_5', 'svd_v_s_6', 'svd_v_d_1', 'svd_v_d_2',\n",
       "       'svd_v_d_3', 'svd_v_d_4', 'svd_v_d_5', 'svd_v_d_6'],\n",
       "      dtype='object')"
      ]
     },
     "execution_count": 4,
     "metadata": {},
     "output_type": "execute_result"
    }
   ],
   "source": [
    "df_final_train.columns"
   ]
  },
  {
   "cell_type": "markdown",
   "metadata": {},
   "source": [
    "## Preferential_attachment Feature for followers"
   ]
  },
  {
   "cell_type": "code",
   "execution_count": 5,
   "metadata": {
    "scrolled": true
   },
   "outputs": [
    {
     "data": {
      "text/html": [
       "<div>\n",
       "<style scoped>\n",
       "    .dataframe tbody tr th:only-of-type {\n",
       "        vertical-align: middle;\n",
       "    }\n",
       "\n",
       "    .dataframe tbody tr th {\n",
       "        vertical-align: top;\n",
       "    }\n",
       "\n",
       "    .dataframe thead th {\n",
       "        text-align: right;\n",
       "    }\n",
       "</style>\n",
       "<table border=\"1\" class=\"dataframe\">\n",
       "  <thead>\n",
       "    <tr style=\"text-align: right;\">\n",
       "      <th></th>\n",
       "      <th>source_node</th>\n",
       "      <th>destination_node</th>\n",
       "      <th>indicator_link</th>\n",
       "      <th>jaccard_followers</th>\n",
       "      <th>jaccard_followees</th>\n",
       "      <th>cosine_followers</th>\n",
       "      <th>cosine_followees</th>\n",
       "      <th>num_followers_s</th>\n",
       "      <th>num_followers_d</th>\n",
       "      <th>num_followees_s</th>\n",
       "      <th>...</th>\n",
       "      <th>svd_v_s_4</th>\n",
       "      <th>svd_v_s_5</th>\n",
       "      <th>svd_v_s_6</th>\n",
       "      <th>svd_v_d_1</th>\n",
       "      <th>svd_v_d_2</th>\n",
       "      <th>svd_v_d_3</th>\n",
       "      <th>svd_v_d_4</th>\n",
       "      <th>svd_v_d_5</th>\n",
       "      <th>svd_v_d_6</th>\n",
       "      <th>prefer_Attach_followers</th>\n",
       "    </tr>\n",
       "  </thead>\n",
       "  <tbody>\n",
       "    <tr>\n",
       "      <th>0</th>\n",
       "      <td>273084</td>\n",
       "      <td>1505602</td>\n",
       "      <td>1</td>\n",
       "      <td>0</td>\n",
       "      <td>0.000000</td>\n",
       "      <td>0.000000</td>\n",
       "      <td>0.000000</td>\n",
       "      <td>11</td>\n",
       "      <td>6</td>\n",
       "      <td>15</td>\n",
       "      <td>...</td>\n",
       "      <td>1.545059e-13</td>\n",
       "      <td>8.108366e-13</td>\n",
       "      <td>1.719700e-14</td>\n",
       "      <td>-1.355367e-12</td>\n",
       "      <td>4.675312e-13</td>\n",
       "      <td>1.128588e-06</td>\n",
       "      <td>6.616447e-14</td>\n",
       "      <td>9.771077e-13</td>\n",
       "      <td>4.159880e-14</td>\n",
       "      <td>66</td>\n",
       "    </tr>\n",
       "    <tr>\n",
       "      <th>1</th>\n",
       "      <td>628879</td>\n",
       "      <td>858706</td>\n",
       "      <td>1</td>\n",
       "      <td>0</td>\n",
       "      <td>0.000000</td>\n",
       "      <td>0.000000</td>\n",
       "      <td>0.000000</td>\n",
       "      <td>2</td>\n",
       "      <td>5</td>\n",
       "      <td>4</td>\n",
       "      <td>...</td>\n",
       "      <td>6.785700e-14</td>\n",
       "      <td>2.732176e-10</td>\n",
       "      <td>1.490197e-16</td>\n",
       "      <td>-3.388579e-16</td>\n",
       "      <td>5.614526e-13</td>\n",
       "      <td>5.465588e-13</td>\n",
       "      <td>3.031059e-15</td>\n",
       "      <td>1.805674e-13</td>\n",
       "      <td>3.030794e-18</td>\n",
       "      <td>10</td>\n",
       "    </tr>\n",
       "    <tr>\n",
       "      <th>2</th>\n",
       "      <td>231222</td>\n",
       "      <td>270635</td>\n",
       "      <td>1</td>\n",
       "      <td>0</td>\n",
       "      <td>0.000000</td>\n",
       "      <td>0.000000</td>\n",
       "      <td>0.000000</td>\n",
       "      <td>88</td>\n",
       "      <td>9</td>\n",
       "      <td>88</td>\n",
       "      <td>...</td>\n",
       "      <td>2.276401e-11</td>\n",
       "      <td>2.735460e-11</td>\n",
       "      <td>1.051733e-12</td>\n",
       "      <td>-1.909268e-12</td>\n",
       "      <td>7.536575e-13</td>\n",
       "      <td>6.586794e-07</td>\n",
       "      <td>2.142341e-13</td>\n",
       "      <td>1.299106e-12</td>\n",
       "      <td>2.537238e-14</td>\n",
       "      <td>792</td>\n",
       "    </tr>\n",
       "    <tr>\n",
       "      <th>3</th>\n",
       "      <td>1445857</td>\n",
       "      <td>1277246</td>\n",
       "      <td>1</td>\n",
       "      <td>0</td>\n",
       "      <td>0.142857</td>\n",
       "      <td>0.094491</td>\n",
       "      <td>0.320256</td>\n",
       "      <td>7</td>\n",
       "      <td>4</td>\n",
       "      <td>13</td>\n",
       "      <td>...</td>\n",
       "      <td>8.442373e-14</td>\n",
       "      <td>1.054643e-13</td>\n",
       "      <td>2.223069e-16</td>\n",
       "      <td>-3.979668e-15</td>\n",
       "      <td>5.955492e-13</td>\n",
       "      <td>3.342248e-13</td>\n",
       "      <td>7.308505e-14</td>\n",
       "      <td>3.043095e-13</td>\n",
       "      <td>3.050684e-17</td>\n",
       "      <td>28</td>\n",
       "    </tr>\n",
       "    <tr>\n",
       "      <th>4</th>\n",
       "      <td>640756</td>\n",
       "      <td>1813874</td>\n",
       "      <td>1</td>\n",
       "      <td>0</td>\n",
       "      <td>0.000000</td>\n",
       "      <td>0.002170</td>\n",
       "      <td>0.000000</td>\n",
       "      <td>12</td>\n",
       "      <td>133</td>\n",
       "      <td>95</td>\n",
       "      <td>...</td>\n",
       "      <td>2.001860e-11</td>\n",
       "      <td>5.592675e-10</td>\n",
       "      <td>2.956967e-12</td>\n",
       "      <td>1.243486e-09</td>\n",
       "      <td>-8.690436e-10</td>\n",
       "      <td>8.054809e-02</td>\n",
       "      <td>3.345821e-10</td>\n",
       "      <td>6.887865e-10</td>\n",
       "      <td>4.183836e-11</td>\n",
       "      <td>1596</td>\n",
       "    </tr>\n",
       "  </tbody>\n",
       "</table>\n",
       "<p>5 rows × 56 columns</p>\n",
       "</div>"
      ],
      "text/plain": [
       "   source_node  destination_node  indicator_link  jaccard_followers  \\\n",
       "0       273084           1505602               1                  0   \n",
       "1       628879            858706               1                  0   \n",
       "2       231222            270635               1                  0   \n",
       "3      1445857           1277246               1                  0   \n",
       "4       640756           1813874               1                  0   \n",
       "\n",
       "   jaccard_followees  cosine_followers  cosine_followees  num_followers_s  \\\n",
       "0           0.000000          0.000000          0.000000               11   \n",
       "1           0.000000          0.000000          0.000000                2   \n",
       "2           0.000000          0.000000          0.000000               88   \n",
       "3           0.142857          0.094491          0.320256                7   \n",
       "4           0.000000          0.002170          0.000000               12   \n",
       "\n",
       "   num_followers_d  num_followees_s  ...     svd_v_s_4     svd_v_s_5  \\\n",
       "0                6               15  ...  1.545059e-13  8.108366e-13   \n",
       "1                5                4  ...  6.785700e-14  2.732176e-10   \n",
       "2                9               88  ...  2.276401e-11  2.735460e-11   \n",
       "3                4               13  ...  8.442373e-14  1.054643e-13   \n",
       "4              133               95  ...  2.001860e-11  5.592675e-10   \n",
       "\n",
       "      svd_v_s_6     svd_v_d_1     svd_v_d_2     svd_v_d_3     svd_v_d_4  \\\n",
       "0  1.719700e-14 -1.355367e-12  4.675312e-13  1.128588e-06  6.616447e-14   \n",
       "1  1.490197e-16 -3.388579e-16  5.614526e-13  5.465588e-13  3.031059e-15   \n",
       "2  1.051733e-12 -1.909268e-12  7.536575e-13  6.586794e-07  2.142341e-13   \n",
       "3  2.223069e-16 -3.979668e-15  5.955492e-13  3.342248e-13  7.308505e-14   \n",
       "4  2.956967e-12  1.243486e-09 -8.690436e-10  8.054809e-02  3.345821e-10   \n",
       "\n",
       "      svd_v_d_5     svd_v_d_6  prefer_Attach_followers  \n",
       "0  9.771077e-13  4.159880e-14                       66  \n",
       "1  1.805674e-13  3.030794e-18                       10  \n",
       "2  1.299106e-12  2.537238e-14                      792  \n",
       "3  3.043095e-13  3.050684e-17                       28  \n",
       "4  6.887865e-10  4.183836e-11                     1596  \n",
       "\n",
       "[5 rows x 56 columns]"
      ]
     },
     "execution_count": 5,
     "metadata": {},
     "output_type": "execute_result"
    }
   ],
   "source": [
    "#for train dataset\n",
    "nfs=np.array(df_final_train['num_followers_s'])\n",
    "nfd=np.array(df_final_train['num_followers_d'])\n",
    "preferential_followers=[]\n",
    "for i in range(len(nfs)):\n",
    "    preferential_followers.append(nfd[i]*nfs[i])\n",
    "df_final_train['prefer_Attach_followers']= preferential_followers\n",
    "df_final_train.head()"
   ]
  },
  {
   "cell_type": "code",
   "execution_count": 6,
   "metadata": {
    "scrolled": true
   },
   "outputs": [
    {
     "data": {
      "text/html": [
       "<div>\n",
       "<style scoped>\n",
       "    .dataframe tbody tr th:only-of-type {\n",
       "        vertical-align: middle;\n",
       "    }\n",
       "\n",
       "    .dataframe tbody tr th {\n",
       "        vertical-align: top;\n",
       "    }\n",
       "\n",
       "    .dataframe thead th {\n",
       "        text-align: right;\n",
       "    }\n",
       "</style>\n",
       "<table border=\"1\" class=\"dataframe\">\n",
       "  <thead>\n",
       "    <tr style=\"text-align: right;\">\n",
       "      <th></th>\n",
       "      <th>source_node</th>\n",
       "      <th>destination_node</th>\n",
       "      <th>indicator_link</th>\n",
       "      <th>jaccard_followers</th>\n",
       "      <th>jaccard_followees</th>\n",
       "      <th>cosine_followers</th>\n",
       "      <th>cosine_followees</th>\n",
       "      <th>num_followers_s</th>\n",
       "      <th>num_followers_d</th>\n",
       "      <th>num_followees_s</th>\n",
       "      <th>...</th>\n",
       "      <th>svd_v_s_4</th>\n",
       "      <th>svd_v_s_5</th>\n",
       "      <th>svd_v_s_6</th>\n",
       "      <th>svd_v_d_1</th>\n",
       "      <th>svd_v_d_2</th>\n",
       "      <th>svd_v_d_3</th>\n",
       "      <th>svd_v_d_4</th>\n",
       "      <th>svd_v_d_5</th>\n",
       "      <th>svd_v_d_6</th>\n",
       "      <th>prefer_Attach_followers</th>\n",
       "    </tr>\n",
       "  </thead>\n",
       "  <tbody>\n",
       "    <tr>\n",
       "      <th>0</th>\n",
       "      <td>848424</td>\n",
       "      <td>784690</td>\n",
       "      <td>1</td>\n",
       "      <td>0</td>\n",
       "      <td>0.000000</td>\n",
       "      <td>0.029161</td>\n",
       "      <td>0.000000</td>\n",
       "      <td>6</td>\n",
       "      <td>14</td>\n",
       "      <td>6</td>\n",
       "      <td>...</td>\n",
       "      <td>2.701537e-12</td>\n",
       "      <td>4.341619e-13</td>\n",
       "      <td>5.535494e-14</td>\n",
       "      <td>-9.994076e-10</td>\n",
       "      <td>5.791913e-10</td>\n",
       "      <td>3.512357e-07</td>\n",
       "      <td>2.486658e-09</td>\n",
       "      <td>2.771145e-09</td>\n",
       "      <td>1.727564e-12</td>\n",
       "      <td>84</td>\n",
       "    </tr>\n",
       "    <tr>\n",
       "      <th>1</th>\n",
       "      <td>819119</td>\n",
       "      <td>1437161</td>\n",
       "      <td>1</td>\n",
       "      <td>0</td>\n",
       "      <td>0.034483</td>\n",
       "      <td>0.051110</td>\n",
       "      <td>0.098058</td>\n",
       "      <td>5</td>\n",
       "      <td>35</td>\n",
       "      <td>4</td>\n",
       "      <td>...</td>\n",
       "      <td>1.532069e-09</td>\n",
       "      <td>6.315502e-12</td>\n",
       "      <td>8.646475e-11</td>\n",
       "      <td>-1.176043e-11</td>\n",
       "      <td>5.985308e-11</td>\n",
       "      <td>5.767287e-10</td>\n",
       "      <td>2.145986e-08</td>\n",
       "      <td>6.276104e-10</td>\n",
       "      <td>1.064631e-10</td>\n",
       "      <td>175</td>\n",
       "    </tr>\n",
       "    <tr>\n",
       "      <th>2</th>\n",
       "      <td>1593038</td>\n",
       "      <td>1192744</td>\n",
       "      <td>1</td>\n",
       "      <td>0</td>\n",
       "      <td>0.269231</td>\n",
       "      <td>0.124784</td>\n",
       "      <td>0.449977</td>\n",
       "      <td>18</td>\n",
       "      <td>17</td>\n",
       "      <td>11</td>\n",
       "      <td>...</td>\n",
       "      <td>4.758619e-13</td>\n",
       "      <td>3.306008e-12</td>\n",
       "      <td>3.072286e-13</td>\n",
       "      <td>-8.276594e-13</td>\n",
       "      <td>3.945479e-13</td>\n",
       "      <td>4.041333e-07</td>\n",
       "      <td>1.031985e-13</td>\n",
       "      <td>6.014756e-13</td>\n",
       "      <td>3.508375e-14</td>\n",
       "      <td>306</td>\n",
       "    </tr>\n",
       "    <tr>\n",
       "      <th>3</th>\n",
       "      <td>1180660</td>\n",
       "      <td>713175</td>\n",
       "      <td>1</td>\n",
       "      <td>0</td>\n",
       "      <td>0.006452</td>\n",
       "      <td>0.000000</td>\n",
       "      <td>0.024056</td>\n",
       "      <td>20</td>\n",
       "      <td>5</td>\n",
       "      <td>144</td>\n",
       "      <td>...</td>\n",
       "      <td>1.338966e-12</td>\n",
       "      <td>1.974747e-09</td>\n",
       "      <td>3.523818e-14</td>\n",
       "      <td>-1.079379e-13</td>\n",
       "      <td>4.482477e-13</td>\n",
       "      <td>5.477914e-13</td>\n",
       "      <td>7.930355e-15</td>\n",
       "      <td>3.025824e-11</td>\n",
       "      <td>1.855408e-16</td>\n",
       "      <td>100</td>\n",
       "    </tr>\n",
       "    <tr>\n",
       "      <th>4</th>\n",
       "      <td>1350443</td>\n",
       "      <td>1172562</td>\n",
       "      <td>1</td>\n",
       "      <td>0</td>\n",
       "      <td>0.000000</td>\n",
       "      <td>0.000000</td>\n",
       "      <td>0.000000</td>\n",
       "      <td>3</td>\n",
       "      <td>3</td>\n",
       "      <td>2</td>\n",
       "      <td>...</td>\n",
       "      <td>3.541797e-16</td>\n",
       "      <td>1.088530e-15</td>\n",
       "      <td>4.423468e-18</td>\n",
       "      <td>-9.049237e-17</td>\n",
       "      <td>1.289442e-13</td>\n",
       "      <td>5.286703e-15</td>\n",
       "      <td>4.544559e-18</td>\n",
       "      <td>1.731492e-17</td>\n",
       "      <td>6.274625e-20</td>\n",
       "      <td>9</td>\n",
       "    </tr>\n",
       "  </tbody>\n",
       "</table>\n",
       "<p>5 rows × 56 columns</p>\n",
       "</div>"
      ],
      "text/plain": [
       "   source_node  destination_node  indicator_link  jaccard_followers  \\\n",
       "0       848424            784690               1                  0   \n",
       "1       819119           1437161               1                  0   \n",
       "2      1593038           1192744               1                  0   \n",
       "3      1180660            713175               1                  0   \n",
       "4      1350443           1172562               1                  0   \n",
       "\n",
       "   jaccard_followees  cosine_followers  cosine_followees  num_followers_s  \\\n",
       "0           0.000000          0.029161          0.000000                6   \n",
       "1           0.034483          0.051110          0.098058                5   \n",
       "2           0.269231          0.124784          0.449977               18   \n",
       "3           0.006452          0.000000          0.024056               20   \n",
       "4           0.000000          0.000000          0.000000                3   \n",
       "\n",
       "   num_followers_d  num_followees_s  ...     svd_v_s_4     svd_v_s_5  \\\n",
       "0               14                6  ...  2.701537e-12  4.341619e-13   \n",
       "1               35                4  ...  1.532069e-09  6.315502e-12   \n",
       "2               17               11  ...  4.758619e-13  3.306008e-12   \n",
       "3                5              144  ...  1.338966e-12  1.974747e-09   \n",
       "4                3                2  ...  3.541797e-16  1.088530e-15   \n",
       "\n",
       "      svd_v_s_6     svd_v_d_1     svd_v_d_2     svd_v_d_3     svd_v_d_4  \\\n",
       "0  5.535494e-14 -9.994076e-10  5.791913e-10  3.512357e-07  2.486658e-09   \n",
       "1  8.646475e-11 -1.176043e-11  5.985308e-11  5.767287e-10  2.145986e-08   \n",
       "2  3.072286e-13 -8.276594e-13  3.945479e-13  4.041333e-07  1.031985e-13   \n",
       "3  3.523818e-14 -1.079379e-13  4.482477e-13  5.477914e-13  7.930355e-15   \n",
       "4  4.423468e-18 -9.049237e-17  1.289442e-13  5.286703e-15  4.544559e-18   \n",
       "\n",
       "      svd_v_d_5     svd_v_d_6  prefer_Attach_followers  \n",
       "0  2.771145e-09  1.727564e-12                       84  \n",
       "1  6.276104e-10  1.064631e-10                      175  \n",
       "2  6.014756e-13  3.508375e-14                      306  \n",
       "3  3.025824e-11  1.855408e-16                      100  \n",
       "4  1.731492e-17  6.274625e-20                        9  \n",
       "\n",
       "[5 rows x 56 columns]"
      ]
     },
     "execution_count": 6,
     "metadata": {},
     "output_type": "execute_result"
    }
   ],
   "source": [
    "#for test dataset\n",
    "nfs=np.array(df_final_test['num_followers_s'])\n",
    "nfd=np.array(df_final_test['num_followers_d'])\n",
    "preferential_followers=[]\n",
    "for i in range(len(nfs)):\n",
    "    preferential_followers.append(nfd[i]*nfs[i])\n",
    "df_final_test['prefer_Attach_followers']= preferential_followers\n",
    "df_final_test.head()"
   ]
  },
  {
   "cell_type": "markdown",
   "metadata": {},
   "source": [
    "## Preferential_attachment Feature for followees"
   ]
  },
  {
   "cell_type": "code",
   "execution_count": 7,
   "metadata": {},
   "outputs": [
    {
     "data": {
      "text/html": [
       "<div>\n",
       "<style scoped>\n",
       "    .dataframe tbody tr th:only-of-type {\n",
       "        vertical-align: middle;\n",
       "    }\n",
       "\n",
       "    .dataframe tbody tr th {\n",
       "        vertical-align: top;\n",
       "    }\n",
       "\n",
       "    .dataframe thead th {\n",
       "        text-align: right;\n",
       "    }\n",
       "</style>\n",
       "<table border=\"1\" class=\"dataframe\">\n",
       "  <thead>\n",
       "    <tr style=\"text-align: right;\">\n",
       "      <th></th>\n",
       "      <th>source_node</th>\n",
       "      <th>destination_node</th>\n",
       "      <th>indicator_link</th>\n",
       "      <th>jaccard_followers</th>\n",
       "      <th>jaccard_followees</th>\n",
       "      <th>cosine_followers</th>\n",
       "      <th>cosine_followees</th>\n",
       "      <th>num_followers_s</th>\n",
       "      <th>num_followers_d</th>\n",
       "      <th>num_followees_s</th>\n",
       "      <th>...</th>\n",
       "      <th>svd_v_s_5</th>\n",
       "      <th>svd_v_s_6</th>\n",
       "      <th>svd_v_d_1</th>\n",
       "      <th>svd_v_d_2</th>\n",
       "      <th>svd_v_d_3</th>\n",
       "      <th>svd_v_d_4</th>\n",
       "      <th>svd_v_d_5</th>\n",
       "      <th>svd_v_d_6</th>\n",
       "      <th>prefer_Attach_followers</th>\n",
       "      <th>prefer_Attach_followees</th>\n",
       "    </tr>\n",
       "  </thead>\n",
       "  <tbody>\n",
       "    <tr>\n",
       "      <th>0</th>\n",
       "      <td>273084</td>\n",
       "      <td>1505602</td>\n",
       "      <td>1</td>\n",
       "      <td>0</td>\n",
       "      <td>0.000000</td>\n",
       "      <td>0.000000</td>\n",
       "      <td>0.000000</td>\n",
       "      <td>11</td>\n",
       "      <td>6</td>\n",
       "      <td>15</td>\n",
       "      <td>...</td>\n",
       "      <td>8.108366e-13</td>\n",
       "      <td>1.719700e-14</td>\n",
       "      <td>-1.355367e-12</td>\n",
       "      <td>4.675312e-13</td>\n",
       "      <td>1.128588e-06</td>\n",
       "      <td>6.616447e-14</td>\n",
       "      <td>9.771077e-13</td>\n",
       "      <td>4.159880e-14</td>\n",
       "      <td>66</td>\n",
       "      <td>120</td>\n",
       "    </tr>\n",
       "    <tr>\n",
       "      <th>1</th>\n",
       "      <td>628879</td>\n",
       "      <td>858706</td>\n",
       "      <td>1</td>\n",
       "      <td>0</td>\n",
       "      <td>0.000000</td>\n",
       "      <td>0.000000</td>\n",
       "      <td>0.000000</td>\n",
       "      <td>2</td>\n",
       "      <td>5</td>\n",
       "      <td>4</td>\n",
       "      <td>...</td>\n",
       "      <td>2.732176e-10</td>\n",
       "      <td>1.490197e-16</td>\n",
       "      <td>-3.388579e-16</td>\n",
       "      <td>5.614526e-13</td>\n",
       "      <td>5.465588e-13</td>\n",
       "      <td>3.031059e-15</td>\n",
       "      <td>1.805674e-13</td>\n",
       "      <td>3.030794e-18</td>\n",
       "      <td>10</td>\n",
       "      <td>8</td>\n",
       "    </tr>\n",
       "    <tr>\n",
       "      <th>2</th>\n",
       "      <td>231222</td>\n",
       "      <td>270635</td>\n",
       "      <td>1</td>\n",
       "      <td>0</td>\n",
       "      <td>0.000000</td>\n",
       "      <td>0.000000</td>\n",
       "      <td>0.000000</td>\n",
       "      <td>88</td>\n",
       "      <td>9</td>\n",
       "      <td>88</td>\n",
       "      <td>...</td>\n",
       "      <td>2.735460e-11</td>\n",
       "      <td>1.051733e-12</td>\n",
       "      <td>-1.909268e-12</td>\n",
       "      <td>7.536575e-13</td>\n",
       "      <td>6.586794e-07</td>\n",
       "      <td>2.142341e-13</td>\n",
       "      <td>1.299106e-12</td>\n",
       "      <td>2.537238e-14</td>\n",
       "      <td>792</td>\n",
       "      <td>792</td>\n",
       "    </tr>\n",
       "    <tr>\n",
       "      <th>3</th>\n",
       "      <td>1445857</td>\n",
       "      <td>1277246</td>\n",
       "      <td>1</td>\n",
       "      <td>0</td>\n",
       "      <td>0.142857</td>\n",
       "      <td>0.094491</td>\n",
       "      <td>0.320256</td>\n",
       "      <td>7</td>\n",
       "      <td>4</td>\n",
       "      <td>13</td>\n",
       "      <td>...</td>\n",
       "      <td>1.054643e-13</td>\n",
       "      <td>2.223069e-16</td>\n",
       "      <td>-3.979668e-15</td>\n",
       "      <td>5.955492e-13</td>\n",
       "      <td>3.342248e-13</td>\n",
       "      <td>7.308505e-14</td>\n",
       "      <td>3.043095e-13</td>\n",
       "      <td>3.050684e-17</td>\n",
       "      <td>28</td>\n",
       "      <td>39</td>\n",
       "    </tr>\n",
       "    <tr>\n",
       "      <th>4</th>\n",
       "      <td>640756</td>\n",
       "      <td>1813874</td>\n",
       "      <td>1</td>\n",
       "      <td>0</td>\n",
       "      <td>0.000000</td>\n",
       "      <td>0.002170</td>\n",
       "      <td>0.000000</td>\n",
       "      <td>12</td>\n",
       "      <td>133</td>\n",
       "      <td>95</td>\n",
       "      <td>...</td>\n",
       "      <td>5.592675e-10</td>\n",
       "      <td>2.956967e-12</td>\n",
       "      <td>1.243486e-09</td>\n",
       "      <td>-8.690436e-10</td>\n",
       "      <td>8.054809e-02</td>\n",
       "      <td>3.345821e-10</td>\n",
       "      <td>6.887865e-10</td>\n",
       "      <td>4.183836e-11</td>\n",
       "      <td>1596</td>\n",
       "      <td>285</td>\n",
       "    </tr>\n",
       "  </tbody>\n",
       "</table>\n",
       "<p>5 rows × 57 columns</p>\n",
       "</div>"
      ],
      "text/plain": [
       "   source_node  destination_node  indicator_link  jaccard_followers  \\\n",
       "0       273084           1505602               1                  0   \n",
       "1       628879            858706               1                  0   \n",
       "2       231222            270635               1                  0   \n",
       "3      1445857           1277246               1                  0   \n",
       "4       640756           1813874               1                  0   \n",
       "\n",
       "   jaccard_followees  cosine_followers  cosine_followees  num_followers_s  \\\n",
       "0           0.000000          0.000000          0.000000               11   \n",
       "1           0.000000          0.000000          0.000000                2   \n",
       "2           0.000000          0.000000          0.000000               88   \n",
       "3           0.142857          0.094491          0.320256                7   \n",
       "4           0.000000          0.002170          0.000000               12   \n",
       "\n",
       "   num_followers_d  num_followees_s  ...     svd_v_s_5     svd_v_s_6  \\\n",
       "0                6               15  ...  8.108366e-13  1.719700e-14   \n",
       "1                5                4  ...  2.732176e-10  1.490197e-16   \n",
       "2                9               88  ...  2.735460e-11  1.051733e-12   \n",
       "3                4               13  ...  1.054643e-13  2.223069e-16   \n",
       "4              133               95  ...  5.592675e-10  2.956967e-12   \n",
       "\n",
       "      svd_v_d_1     svd_v_d_2     svd_v_d_3     svd_v_d_4     svd_v_d_5  \\\n",
       "0 -1.355367e-12  4.675312e-13  1.128588e-06  6.616447e-14  9.771077e-13   \n",
       "1 -3.388579e-16  5.614526e-13  5.465588e-13  3.031059e-15  1.805674e-13   \n",
       "2 -1.909268e-12  7.536575e-13  6.586794e-07  2.142341e-13  1.299106e-12   \n",
       "3 -3.979668e-15  5.955492e-13  3.342248e-13  7.308505e-14  3.043095e-13   \n",
       "4  1.243486e-09 -8.690436e-10  8.054809e-02  3.345821e-10  6.887865e-10   \n",
       "\n",
       "      svd_v_d_6  prefer_Attach_followers  prefer_Attach_followees  \n",
       "0  4.159880e-14                       66                      120  \n",
       "1  3.030794e-18                       10                        8  \n",
       "2  2.537238e-14                      792                      792  \n",
       "3  3.050684e-17                       28                       39  \n",
       "4  4.183836e-11                     1596                      285  \n",
       "\n",
       "[5 rows x 57 columns]"
      ]
     },
     "execution_count": 7,
     "metadata": {},
     "output_type": "execute_result"
    }
   ],
   "source": [
    "#for train dataset\n",
    "nfs=np.array(df_final_train['num_followees_s'])\n",
    "nfd=np.array(df_final_train['num_followees_d'])\n",
    "preferential_followees=[]\n",
    "for i in range(len(nfs)):\n",
    "    preferential_followees.append(nfd[i]*nfs[i])\n",
    "df_final_train['prefer_Attach_followees']= preferential_followees\n",
    "df_final_train.head()"
   ]
  },
  {
   "cell_type": "code",
   "execution_count": 8,
   "metadata": {
    "scrolled": true
   },
   "outputs": [
    {
     "data": {
      "text/html": [
       "<div>\n",
       "<style scoped>\n",
       "    .dataframe tbody tr th:only-of-type {\n",
       "        vertical-align: middle;\n",
       "    }\n",
       "\n",
       "    .dataframe tbody tr th {\n",
       "        vertical-align: top;\n",
       "    }\n",
       "\n",
       "    .dataframe thead th {\n",
       "        text-align: right;\n",
       "    }\n",
       "</style>\n",
       "<table border=\"1\" class=\"dataframe\">\n",
       "  <thead>\n",
       "    <tr style=\"text-align: right;\">\n",
       "      <th></th>\n",
       "      <th>source_node</th>\n",
       "      <th>destination_node</th>\n",
       "      <th>indicator_link</th>\n",
       "      <th>jaccard_followers</th>\n",
       "      <th>jaccard_followees</th>\n",
       "      <th>cosine_followers</th>\n",
       "      <th>cosine_followees</th>\n",
       "      <th>num_followers_s</th>\n",
       "      <th>num_followers_d</th>\n",
       "      <th>num_followees_s</th>\n",
       "      <th>...</th>\n",
       "      <th>svd_v_s_5</th>\n",
       "      <th>svd_v_s_6</th>\n",
       "      <th>svd_v_d_1</th>\n",
       "      <th>svd_v_d_2</th>\n",
       "      <th>svd_v_d_3</th>\n",
       "      <th>svd_v_d_4</th>\n",
       "      <th>svd_v_d_5</th>\n",
       "      <th>svd_v_d_6</th>\n",
       "      <th>prefer_Attach_followers</th>\n",
       "      <th>prefer_Attach_followees</th>\n",
       "    </tr>\n",
       "  </thead>\n",
       "  <tbody>\n",
       "    <tr>\n",
       "      <th>0</th>\n",
       "      <td>848424</td>\n",
       "      <td>784690</td>\n",
       "      <td>1</td>\n",
       "      <td>0</td>\n",
       "      <td>0.000000</td>\n",
       "      <td>0.029161</td>\n",
       "      <td>0.000000</td>\n",
       "      <td>6</td>\n",
       "      <td>14</td>\n",
       "      <td>6</td>\n",
       "      <td>...</td>\n",
       "      <td>4.341619e-13</td>\n",
       "      <td>5.535494e-14</td>\n",
       "      <td>-9.994076e-10</td>\n",
       "      <td>5.791913e-10</td>\n",
       "      <td>3.512357e-07</td>\n",
       "      <td>2.486658e-09</td>\n",
       "      <td>2.771145e-09</td>\n",
       "      <td>1.727564e-12</td>\n",
       "      <td>84</td>\n",
       "      <td>54</td>\n",
       "    </tr>\n",
       "    <tr>\n",
       "      <th>1</th>\n",
       "      <td>819119</td>\n",
       "      <td>1437161</td>\n",
       "      <td>1</td>\n",
       "      <td>0</td>\n",
       "      <td>0.034483</td>\n",
       "      <td>0.051110</td>\n",
       "      <td>0.098058</td>\n",
       "      <td>5</td>\n",
       "      <td>35</td>\n",
       "      <td>4</td>\n",
       "      <td>...</td>\n",
       "      <td>6.315502e-12</td>\n",
       "      <td>8.646475e-11</td>\n",
       "      <td>-1.176043e-11</td>\n",
       "      <td>5.985308e-11</td>\n",
       "      <td>5.767287e-10</td>\n",
       "      <td>2.145986e-08</td>\n",
       "      <td>6.276104e-10</td>\n",
       "      <td>1.064631e-10</td>\n",
       "      <td>175</td>\n",
       "      <td>104</td>\n",
       "    </tr>\n",
       "    <tr>\n",
       "      <th>2</th>\n",
       "      <td>1593038</td>\n",
       "      <td>1192744</td>\n",
       "      <td>1</td>\n",
       "      <td>0</td>\n",
       "      <td>0.269231</td>\n",
       "      <td>0.124784</td>\n",
       "      <td>0.449977</td>\n",
       "      <td>18</td>\n",
       "      <td>17</td>\n",
       "      <td>11</td>\n",
       "      <td>...</td>\n",
       "      <td>3.306008e-12</td>\n",
       "      <td>3.072286e-13</td>\n",
       "      <td>-8.276594e-13</td>\n",
       "      <td>3.945479e-13</td>\n",
       "      <td>4.041333e-07</td>\n",
       "      <td>1.031985e-13</td>\n",
       "      <td>6.014756e-13</td>\n",
       "      <td>3.508375e-14</td>\n",
       "      <td>306</td>\n",
       "      <td>242</td>\n",
       "    </tr>\n",
       "    <tr>\n",
       "      <th>3</th>\n",
       "      <td>1180660</td>\n",
       "      <td>713175</td>\n",
       "      <td>1</td>\n",
       "      <td>0</td>\n",
       "      <td>0.006452</td>\n",
       "      <td>0.000000</td>\n",
       "      <td>0.024056</td>\n",
       "      <td>20</td>\n",
       "      <td>5</td>\n",
       "      <td>144</td>\n",
       "      <td>...</td>\n",
       "      <td>1.974747e-09</td>\n",
       "      <td>3.523818e-14</td>\n",
       "      <td>-1.079379e-13</td>\n",
       "      <td>4.482477e-13</td>\n",
       "      <td>5.477914e-13</td>\n",
       "      <td>7.930355e-15</td>\n",
       "      <td>3.025824e-11</td>\n",
       "      <td>1.855408e-16</td>\n",
       "      <td>100</td>\n",
       "      <td>1728</td>\n",
       "    </tr>\n",
       "    <tr>\n",
       "      <th>4</th>\n",
       "      <td>1350443</td>\n",
       "      <td>1172562</td>\n",
       "      <td>1</td>\n",
       "      <td>0</td>\n",
       "      <td>0.000000</td>\n",
       "      <td>0.000000</td>\n",
       "      <td>0.000000</td>\n",
       "      <td>3</td>\n",
       "      <td>3</td>\n",
       "      <td>2</td>\n",
       "      <td>...</td>\n",
       "      <td>1.088530e-15</td>\n",
       "      <td>4.423468e-18</td>\n",
       "      <td>-9.049237e-17</td>\n",
       "      <td>1.289442e-13</td>\n",
       "      <td>5.286703e-15</td>\n",
       "      <td>4.544559e-18</td>\n",
       "      <td>1.731492e-17</td>\n",
       "      <td>6.274625e-20</td>\n",
       "      <td>9</td>\n",
       "      <td>10</td>\n",
       "    </tr>\n",
       "  </tbody>\n",
       "</table>\n",
       "<p>5 rows × 57 columns</p>\n",
       "</div>"
      ],
      "text/plain": [
       "   source_node  destination_node  indicator_link  jaccard_followers  \\\n",
       "0       848424            784690               1                  0   \n",
       "1       819119           1437161               1                  0   \n",
       "2      1593038           1192744               1                  0   \n",
       "3      1180660            713175               1                  0   \n",
       "4      1350443           1172562               1                  0   \n",
       "\n",
       "   jaccard_followees  cosine_followers  cosine_followees  num_followers_s  \\\n",
       "0           0.000000          0.029161          0.000000                6   \n",
       "1           0.034483          0.051110          0.098058                5   \n",
       "2           0.269231          0.124784          0.449977               18   \n",
       "3           0.006452          0.000000          0.024056               20   \n",
       "4           0.000000          0.000000          0.000000                3   \n",
       "\n",
       "   num_followers_d  num_followees_s  ...     svd_v_s_5     svd_v_s_6  \\\n",
       "0               14                6  ...  4.341619e-13  5.535494e-14   \n",
       "1               35                4  ...  6.315502e-12  8.646475e-11   \n",
       "2               17               11  ...  3.306008e-12  3.072286e-13   \n",
       "3                5              144  ...  1.974747e-09  3.523818e-14   \n",
       "4                3                2  ...  1.088530e-15  4.423468e-18   \n",
       "\n",
       "      svd_v_d_1     svd_v_d_2     svd_v_d_3     svd_v_d_4     svd_v_d_5  \\\n",
       "0 -9.994076e-10  5.791913e-10  3.512357e-07  2.486658e-09  2.771145e-09   \n",
       "1 -1.176043e-11  5.985308e-11  5.767287e-10  2.145986e-08  6.276104e-10   \n",
       "2 -8.276594e-13  3.945479e-13  4.041333e-07  1.031985e-13  6.014756e-13   \n",
       "3 -1.079379e-13  4.482477e-13  5.477914e-13  7.930355e-15  3.025824e-11   \n",
       "4 -9.049237e-17  1.289442e-13  5.286703e-15  4.544559e-18  1.731492e-17   \n",
       "\n",
       "      svd_v_d_6  prefer_Attach_followers  prefer_Attach_followees  \n",
       "0  1.727564e-12                       84                       54  \n",
       "1  1.064631e-10                      175                      104  \n",
       "2  3.508375e-14                      306                      242  \n",
       "3  1.855408e-16                      100                     1728  \n",
       "4  6.274625e-20                        9                       10  \n",
       "\n",
       "[5 rows x 57 columns]"
      ]
     },
     "execution_count": 8,
     "metadata": {},
     "output_type": "execute_result"
    }
   ],
   "source": [
    "#for test dataset\n",
    "nfs=np.array(df_final_test['num_followees_s'])\n",
    "nfd=np.array(df_final_test['num_followees_d'])\n",
    "preferential_followees=[]\n",
    "for i in range(len(nfs)):\n",
    "    preferential_followees.append(nfd[i]*nfs[i])\n",
    "df_final_test['prefer_Attach_followees']= preferential_followees\n",
    "df_final_test.head()"
   ]
  },
  {
   "cell_type": "code",
   "execution_count": 10,
   "metadata": {},
   "outputs": [],
   "source": [
    "if not os.path.isfile('storage_sample_stage5.h5'):\n",
    "    hdf = HDFStore('storage_sample_stage5.h5')\n",
    "    hdf.put('train_df',df_final_train, format='table', data_columns=True)\n",
    "    hdf.put('test_df',df_final_test, format='table', data_columns=True)\n",
    "    hdf.close()\n",
    "else:\n",
    "    df_final_train = read_hdf('storage_sample_stage5.h5', 'train_df',mode='r')\n",
    "    df_final_test = read_hdf('storage_sample_stage5.h5', 'test_df',mode='r')"
   ]
  },
  {
   "cell_type": "code",
   "execution_count": 12,
   "metadata": {},
   "outputs": [
    {
     "name": "stdout",
     "output_type": "stream",
     "text": [
      "Index(['source_node', 'destination_node', 'indicator_link',\n",
      "       'jaccard_followers', 'jaccard_followees', 'cosine_followers',\n",
      "       'cosine_followees', 'num_followers_s', 'num_followers_d',\n",
      "       'num_followees_s', 'num_followees_d', 'inter_followers',\n",
      "       'inter_followees', 'adar_index', 'follows_back', 'same_comp',\n",
      "       'shortest_path', 'weight_in', 'weight_out', 'weight_f1', 'weight_f2',\n",
      "       'weight_f3', 'weight_f4', 'page_rank_s', 'page_rank_d', 'katz_s',\n",
      "       'katz_d', 'hubs_s', 'hubs_d', 'authorities_s', 'authorities_d',\n",
      "       'svd_u_s_1', 'svd_u_s_2', 'svd_u_s_3', 'svd_u_s_4', 'svd_u_s_5',\n",
      "       'svd_u_s_6', 'svd_u_d_1', 'svd_u_d_2', 'svd_u_d_3', 'svd_u_d_4',\n",
      "       'svd_u_d_5', 'svd_u_d_6', 'svd_v_s_1', 'svd_v_s_2', 'svd_v_s_3',\n",
      "       'svd_v_s_4', 'svd_v_s_5', 'svd_v_s_6', 'svd_v_d_1', 'svd_v_d_2',\n",
      "       'svd_v_d_3', 'svd_v_d_4', 'svd_v_d_5', 'svd_v_d_6',\n",
      "       'prefer_Attach_followers', 'prefer_Attach_followees'],\n",
      "      dtype='object')\n",
      "57\n"
     ]
    }
   ],
   "source": [
    "print(df_final_train.columns)\n",
    "print(len(df_final_train.columns))"
   ]
  },
  {
   "cell_type": "markdown",
   "metadata": {},
   "source": [
    "## svd_dot Feature \n",
    "#### svd_dot is Dot product between sourse node svd and destination node svd features"
   ]
  },
  {
   "cell_type": "code",
   "execution_count": 13,
   "metadata": {},
   "outputs": [],
   "source": [
    "#for train datasets\n",
    "s1,s2,s3,s4,s5,s6=df_final_train['svd_u_s_1'],df_final_train['svd_u_s_2'],df_final_train['svd_u_s_3'],df_final_train['svd_u_s_4'],df_final_train['svd_u_s_5'],df_final_train['svd_u_s_6']\n",
    "s7,s8,s9,s10,s11,s12=df_final_train['svd_v_s_1'],df_final_train['svd_v_s_2'],df_final_train['svd_v_s_3'],df_final_train['svd_v_s_4'],df_final_train['svd_v_s_5'],df_final_train['svd_v_s_6']\n",
    "\n",
    "d1,d2,d3,d4,d5,d6=df_final_train['svd_u_d_1'],df_final_train['svd_u_d_2'],df_final_train['svd_u_d_3'],df_final_train['svd_u_d_4'],df_final_train['svd_u_d_5'],df_final_train['svd_u_d_6']\n",
    "d7,d8,d9,d10,d11,d12=df_final_train['svd_v_d_1'],df_final_train['svd_v_d_2'],df_final_train['svd_v_d_3'],df_final_train['svd_v_d_4'],df_final_train['svd_v_d_5'],df_final_train['svd_v_d_6']"
   ]
  },
  {
   "cell_type": "code",
   "execution_count": 14,
   "metadata": {},
   "outputs": [],
   "source": [
    "svd_dot_u=[]\n",
    "for i in range(len(np.array(s1))):\n",
    "    a=[]\n",
    "    b=[]\n",
    "\n",
    "    a.append(np.array(s1[i]))\n",
    "    a.append(np.array(s2[i]))\n",
    "    a.append(np.array(s3[i]))\n",
    "    a.append(np.array(s4[i]))\n",
    "    a.append(np.array(s5[i]))\n",
    "    a.append(np.array(s6[i]))\n",
    "    \n",
    "    b.append(np.array(d1[i]))\n",
    "    b.append(np.array(d2[i]))\n",
    "    b.append(np.array(d3[i]))\n",
    "    b.append(np.array(d4[i]))\n",
    "    b.append(np.array(d5[i]))\n",
    "    b.append(np.array(d6[i]))\n",
    "    \n",
    "    svd_dot_u.append(np.dot(a,b))\n",
    "df_final_train['svd_dot_u']=svd_dot_u"
   ]
  },
  {
   "cell_type": "code",
   "execution_count": 15,
   "metadata": {},
   "outputs": [],
   "source": [
    "svd_dot_v=[]\n",
    "for i in range(len(np.array(s7))):\n",
    "    c=[]\n",
    "    d=[]\n",
    "    \n",
    "    c.append(np.array(s7[i]))\n",
    "    c.append(np.array(s8[i]))\n",
    "    c.append(np.array(s9[i]))\n",
    "    c.append(np.array(s10[i]))\n",
    "    c.append(np.array(s11[i]))\n",
    "    c.append(np.array(s12[i]))\n",
    "   \n",
    "    d.append(np.array(d7[i]))\n",
    "    d.append(np.array(d8[i]))\n",
    "    d.append(np.array(d9[i]))\n",
    "    d.append(np.array(d10[i]))\n",
    "    d.append(np.array(d11[i]))\n",
    "    d.append(np.array(d12[i]))\n",
    "    \n",
    "    svd_dot_v.append(np.dot(c,d))    \n",
    "df_final_train['svd_dot_v']=svd_dot_v"
   ]
  },
  {
   "cell_type": "code",
   "execution_count": 17,
   "metadata": {},
   "outputs": [
    {
     "data": {
      "text/html": [
       "<div>\n",
       "<style scoped>\n",
       "    .dataframe tbody tr th:only-of-type {\n",
       "        vertical-align: middle;\n",
       "    }\n",
       "\n",
       "    .dataframe tbody tr th {\n",
       "        vertical-align: top;\n",
       "    }\n",
       "\n",
       "    .dataframe thead th {\n",
       "        text-align: right;\n",
       "    }\n",
       "</style>\n",
       "<table border=\"1\" class=\"dataframe\">\n",
       "  <thead>\n",
       "    <tr style=\"text-align: right;\">\n",
       "      <th></th>\n",
       "      <th>source_node</th>\n",
       "      <th>destination_node</th>\n",
       "      <th>indicator_link</th>\n",
       "      <th>jaccard_followers</th>\n",
       "      <th>jaccard_followees</th>\n",
       "      <th>cosine_followers</th>\n",
       "      <th>cosine_followees</th>\n",
       "      <th>num_followers_s</th>\n",
       "      <th>num_followers_d</th>\n",
       "      <th>num_followees_s</th>\n",
       "      <th>...</th>\n",
       "      <th>svd_v_d_1</th>\n",
       "      <th>svd_v_d_2</th>\n",
       "      <th>svd_v_d_3</th>\n",
       "      <th>svd_v_d_4</th>\n",
       "      <th>svd_v_d_5</th>\n",
       "      <th>svd_v_d_6</th>\n",
       "      <th>prefer_Attach_followers</th>\n",
       "      <th>prefer_Attach_followees</th>\n",
       "      <th>svd_dot_u</th>\n",
       "      <th>svd_dot_v</th>\n",
       "    </tr>\n",
       "  </thead>\n",
       "  <tbody>\n",
       "    <tr>\n",
       "      <th>0</th>\n",
       "      <td>273084</td>\n",
       "      <td>1505602</td>\n",
       "      <td>1</td>\n",
       "      <td>0</td>\n",
       "      <td>0.000000</td>\n",
       "      <td>0.000000</td>\n",
       "      <td>0.000000</td>\n",
       "      <td>11</td>\n",
       "      <td>6</td>\n",
       "      <td>15</td>\n",
       "      <td>...</td>\n",
       "      <td>-1.355367e-12</td>\n",
       "      <td>4.675312e-13</td>\n",
       "      <td>1.128588e-06</td>\n",
       "      <td>6.616447e-14</td>\n",
       "      <td>9.771077e-13</td>\n",
       "      <td>4.159880e-14</td>\n",
       "      <td>66</td>\n",
       "      <td>120</td>\n",
       "      <td>1.114954e-11</td>\n",
       "      <td>2.238781e-12</td>\n",
       "    </tr>\n",
       "    <tr>\n",
       "      <th>1</th>\n",
       "      <td>628879</td>\n",
       "      <td>858706</td>\n",
       "      <td>1</td>\n",
       "      <td>0</td>\n",
       "      <td>0.000000</td>\n",
       "      <td>0.000000</td>\n",
       "      <td>0.000000</td>\n",
       "      <td>2</td>\n",
       "      <td>5</td>\n",
       "      <td>4</td>\n",
       "      <td>...</td>\n",
       "      <td>-3.388579e-16</td>\n",
       "      <td>5.614526e-13</td>\n",
       "      <td>5.465588e-13</td>\n",
       "      <td>3.031059e-15</td>\n",
       "      <td>1.805674e-13</td>\n",
       "      <td>3.030794e-18</td>\n",
       "      <td>10</td>\n",
       "      <td>8</td>\n",
       "      <td>5.598729e-26</td>\n",
       "      <td>4.975653e-23</td>\n",
       "    </tr>\n",
       "    <tr>\n",
       "      <th>2</th>\n",
       "      <td>231222</td>\n",
       "      <td>270635</td>\n",
       "      <td>1</td>\n",
       "      <td>0</td>\n",
       "      <td>0.000000</td>\n",
       "      <td>0.000000</td>\n",
       "      <td>0.000000</td>\n",
       "      <td>88</td>\n",
       "      <td>9</td>\n",
       "      <td>88</td>\n",
       "      <td>...</td>\n",
       "      <td>-1.909268e-12</td>\n",
       "      <td>7.536575e-13</td>\n",
       "      <td>6.586794e-07</td>\n",
       "      <td>2.142341e-13</td>\n",
       "      <td>1.299106e-12</td>\n",
       "      <td>2.537238e-14</td>\n",
       "      <td>792</td>\n",
       "      <td>792</td>\n",
       "      <td>1.009219e-11</td>\n",
       "      <td>2.026743e-11</td>\n",
       "    </tr>\n",
       "    <tr>\n",
       "      <th>3</th>\n",
       "      <td>1445857</td>\n",
       "      <td>1277246</td>\n",
       "      <td>1</td>\n",
       "      <td>0</td>\n",
       "      <td>0.142857</td>\n",
       "      <td>0.094491</td>\n",
       "      <td>0.320256</td>\n",
       "      <td>7</td>\n",
       "      <td>4</td>\n",
       "      <td>13</td>\n",
       "      <td>...</td>\n",
       "      <td>-3.979668e-15</td>\n",
       "      <td>5.955492e-13</td>\n",
       "      <td>3.342248e-13</td>\n",
       "      <td>7.308505e-14</td>\n",
       "      <td>3.043095e-13</td>\n",
       "      <td>3.050684e-17</td>\n",
       "      <td>28</td>\n",
       "      <td>39</td>\n",
       "      <td>1.435855e-24</td>\n",
       "      <td>2.266845e-24</td>\n",
       "    </tr>\n",
       "    <tr>\n",
       "      <th>4</th>\n",
       "      <td>640756</td>\n",
       "      <td>1813874</td>\n",
       "      <td>1</td>\n",
       "      <td>0</td>\n",
       "      <td>0.000000</td>\n",
       "      <td>0.002170</td>\n",
       "      <td>0.000000</td>\n",
       "      <td>12</td>\n",
       "      <td>133</td>\n",
       "      <td>95</td>\n",
       "      <td>...</td>\n",
       "      <td>1.243486e-09</td>\n",
       "      <td>-8.690436e-10</td>\n",
       "      <td>8.054809e-02</td>\n",
       "      <td>3.345821e-10</td>\n",
       "      <td>6.887865e-10</td>\n",
       "      <td>4.183836e-11</td>\n",
       "      <td>1596</td>\n",
       "      <td>285</td>\n",
       "      <td>3.662365e-07</td>\n",
       "      <td>3.153360e-04</td>\n",
       "    </tr>\n",
       "  </tbody>\n",
       "</table>\n",
       "<p>5 rows × 59 columns</p>\n",
       "</div>"
      ],
      "text/plain": [
       "   source_node  destination_node  indicator_link  jaccard_followers  \\\n",
       "0       273084           1505602               1                  0   \n",
       "1       628879            858706               1                  0   \n",
       "2       231222            270635               1                  0   \n",
       "3      1445857           1277246               1                  0   \n",
       "4       640756           1813874               1                  0   \n",
       "\n",
       "   jaccard_followees  cosine_followers  cosine_followees  num_followers_s  \\\n",
       "0           0.000000          0.000000          0.000000               11   \n",
       "1           0.000000          0.000000          0.000000                2   \n",
       "2           0.000000          0.000000          0.000000               88   \n",
       "3           0.142857          0.094491          0.320256                7   \n",
       "4           0.000000          0.002170          0.000000               12   \n",
       "\n",
       "   num_followers_d  num_followees_s  ...     svd_v_d_1     svd_v_d_2  \\\n",
       "0                6               15  ... -1.355367e-12  4.675312e-13   \n",
       "1                5                4  ... -3.388579e-16  5.614526e-13   \n",
       "2                9               88  ... -1.909268e-12  7.536575e-13   \n",
       "3                4               13  ... -3.979668e-15  5.955492e-13   \n",
       "4              133               95  ...  1.243486e-09 -8.690436e-10   \n",
       "\n",
       "      svd_v_d_3     svd_v_d_4     svd_v_d_5     svd_v_d_6  \\\n",
       "0  1.128588e-06  6.616447e-14  9.771077e-13  4.159880e-14   \n",
       "1  5.465588e-13  3.031059e-15  1.805674e-13  3.030794e-18   \n",
       "2  6.586794e-07  2.142341e-13  1.299106e-12  2.537238e-14   \n",
       "3  3.342248e-13  7.308505e-14  3.043095e-13  3.050684e-17   \n",
       "4  8.054809e-02  3.345821e-10  6.887865e-10  4.183836e-11   \n",
       "\n",
       "   prefer_Attach_followers  prefer_Attach_followees     svd_dot_u  \\\n",
       "0                       66                      120  1.114954e-11   \n",
       "1                       10                        8  5.598729e-26   \n",
       "2                      792                      792  1.009219e-11   \n",
       "3                       28                       39  1.435855e-24   \n",
       "4                     1596                      285  3.662365e-07   \n",
       "\n",
       "      svd_dot_v  \n",
       "0  2.238781e-12  \n",
       "1  4.975653e-23  \n",
       "2  2.026743e-11  \n",
       "3  2.266845e-24  \n",
       "4  3.153360e-04  \n",
       "\n",
       "[5 rows x 59 columns]"
      ]
     },
     "execution_count": 17,
     "metadata": {},
     "output_type": "execute_result"
    }
   ],
   "source": [
    "df_final_train.head()"
   ]
  },
  {
   "cell_type": "code",
   "execution_count": 16,
   "metadata": {},
   "outputs": [],
   "source": [
    "#for test dataset\n",
    "s1,s2,s3,s4,s5,s6=df_final_test['svd_u_s_1'],df_final_test['svd_u_s_2'],df_final_test['svd_u_s_3'],df_final_test['svd_u_s_4'],df_final_test['svd_u_s_5'],df_final_test['svd_u_s_6']\n",
    "s7,s8,s9,s10,s11,s12=df_final_test['svd_v_s_1'],df_final_test['svd_v_s_2'],df_final_test['svd_v_s_3'],df_final_test['svd_v_s_4'],df_final_test['svd_v_s_5'],df_final_test['svd_v_s_6']\n",
    "\n",
    "d1,d2,d3,d4,d5,d6=df_final_test['svd_u_d_1'],df_final_test['svd_u_d_2'],df_final_test['svd_u_d_3'],df_final_test['svd_u_d_4'],df_final_test['svd_u_d_5'],df_final_test['svd_u_d_6']\n",
    "d7,d8,d9,d10,d11,d12=df_final_test['svd_v_d_1'],df_final_test['svd_v_d_2'],df_final_test['svd_v_d_3'],df_final_test['svd_v_d_4'],df_final_test['svd_v_d_5'],df_final_test['svd_v_d_6']"
   ]
  },
  {
   "cell_type": "code",
   "execution_count": 18,
   "metadata": {},
   "outputs": [],
   "source": [
    "svd_dot_u=[]\n",
    "for i in range(len(np.array(s1))):\n",
    "    a=[]\n",
    "    b=[]\n",
    "\n",
    "    a.append(np.array(s1[i]))\n",
    "    a.append(np.array(s2[i]))\n",
    "    a.append(np.array(s3[i]))\n",
    "    a.append(np.array(s4[i]))\n",
    "    a.append(np.array(s5[i]))\n",
    "    a.append(np.array(s6[i]))\n",
    "    \n",
    "    b.append(np.array(d1[i]))\n",
    "    b.append(np.array(d2[i]))\n",
    "    b.append(np.array(d3[i]))\n",
    "    b.append(np.array(d4[i]))\n",
    "    b.append(np.array(d5[i]))\n",
    "    b.append(np.array(d6[i]))\n",
    "    \n",
    "    svd_dot_u.append(np.dot(a,b))\n",
    "df_final_test['svd_dot_u']=svd_dot_u"
   ]
  },
  {
   "cell_type": "code",
   "execution_count": 19,
   "metadata": {},
   "outputs": [],
   "source": [
    "svd_dot_v=[]\n",
    "for i in range(len(np.array(s7))):\n",
    "    c=[]\n",
    "    d=[]\n",
    "    \n",
    "    c.append(np.array(s7[i]))\n",
    "    c.append(np.array(s8[i]))\n",
    "    c.append(np.array(s9[i]))\n",
    "    c.append(np.array(s10[i]))\n",
    "    c.append(np.array(s11[i]))\n",
    "    c.append(np.array(s12[i]))\n",
    "   \n",
    "    d.append(np.array(d7[i]))\n",
    "    d.append(np.array(d8[i]))\n",
    "    d.append(np.array(d9[i]))\n",
    "    d.append(np.array(d10[i]))\n",
    "    d.append(np.array(d11[i]))\n",
    "    d.append(np.array(d12[i]))\n",
    "    svd_dot_v.append(np.dot(c,d))\n",
    "    \n",
    "df_final_test['svd_dot_v']=svd_dot_v"
   ]
  },
  {
   "cell_type": "code",
   "execution_count": 20,
   "metadata": {},
   "outputs": [
    {
     "data": {
      "text/html": [
       "<div>\n",
       "<style scoped>\n",
       "    .dataframe tbody tr th:only-of-type {\n",
       "        vertical-align: middle;\n",
       "    }\n",
       "\n",
       "    .dataframe tbody tr th {\n",
       "        vertical-align: top;\n",
       "    }\n",
       "\n",
       "    .dataframe thead th {\n",
       "        text-align: right;\n",
       "    }\n",
       "</style>\n",
       "<table border=\"1\" class=\"dataframe\">\n",
       "  <thead>\n",
       "    <tr style=\"text-align: right;\">\n",
       "      <th></th>\n",
       "      <th>source_node</th>\n",
       "      <th>destination_node</th>\n",
       "      <th>indicator_link</th>\n",
       "      <th>jaccard_followers</th>\n",
       "      <th>jaccard_followees</th>\n",
       "      <th>cosine_followers</th>\n",
       "      <th>cosine_followees</th>\n",
       "      <th>num_followers_s</th>\n",
       "      <th>num_followers_d</th>\n",
       "      <th>num_followees_s</th>\n",
       "      <th>...</th>\n",
       "      <th>svd_v_d_1</th>\n",
       "      <th>svd_v_d_2</th>\n",
       "      <th>svd_v_d_3</th>\n",
       "      <th>svd_v_d_4</th>\n",
       "      <th>svd_v_d_5</th>\n",
       "      <th>svd_v_d_6</th>\n",
       "      <th>prefer_Attach_followers</th>\n",
       "      <th>prefer_Attach_followees</th>\n",
       "      <th>svd_dot_u</th>\n",
       "      <th>svd_dot_v</th>\n",
       "    </tr>\n",
       "  </thead>\n",
       "  <tbody>\n",
       "    <tr>\n",
       "      <th>0</th>\n",
       "      <td>848424</td>\n",
       "      <td>784690</td>\n",
       "      <td>1</td>\n",
       "      <td>0</td>\n",
       "      <td>0.000000</td>\n",
       "      <td>0.029161</td>\n",
       "      <td>0.000000</td>\n",
       "      <td>6</td>\n",
       "      <td>14</td>\n",
       "      <td>6</td>\n",
       "      <td>...</td>\n",
       "      <td>-9.994076e-10</td>\n",
       "      <td>5.791913e-10</td>\n",
       "      <td>3.512357e-07</td>\n",
       "      <td>2.486658e-09</td>\n",
       "      <td>2.771145e-09</td>\n",
       "      <td>1.727564e-12</td>\n",
       "      <td>84</td>\n",
       "      <td>54</td>\n",
       "      <td>8.425199e-20</td>\n",
       "      <td>2.074810e-17</td>\n",
       "    </tr>\n",
       "    <tr>\n",
       "      <th>1</th>\n",
       "      <td>819119</td>\n",
       "      <td>1437161</td>\n",
       "      <td>1</td>\n",
       "      <td>0</td>\n",
       "      <td>0.034483</td>\n",
       "      <td>0.051110</td>\n",
       "      <td>0.098058</td>\n",
       "      <td>5</td>\n",
       "      <td>35</td>\n",
       "      <td>4</td>\n",
       "      <td>...</td>\n",
       "      <td>-1.176043e-11</td>\n",
       "      <td>5.985308e-11</td>\n",
       "      <td>5.767287e-10</td>\n",
       "      <td>2.145986e-08</td>\n",
       "      <td>6.276104e-10</td>\n",
       "      <td>1.064631e-10</td>\n",
       "      <td>175</td>\n",
       "      <td>104</td>\n",
       "      <td>1.162202e-18</td>\n",
       "      <td>3.295557e-17</td>\n",
       "    </tr>\n",
       "    <tr>\n",
       "      <th>2</th>\n",
       "      <td>1593038</td>\n",
       "      <td>1192744</td>\n",
       "      <td>1</td>\n",
       "      <td>0</td>\n",
       "      <td>0.269231</td>\n",
       "      <td>0.124784</td>\n",
       "      <td>0.449977</td>\n",
       "      <td>18</td>\n",
       "      <td>17</td>\n",
       "      <td>11</td>\n",
       "      <td>...</td>\n",
       "      <td>-8.276594e-13</td>\n",
       "      <td>3.945479e-13</td>\n",
       "      <td>4.041333e-07</td>\n",
       "      <td>1.031985e-13</td>\n",
       "      <td>6.014756e-13</td>\n",
       "      <td>3.508375e-14</td>\n",
       "      <td>306</td>\n",
       "      <td>242</td>\n",
       "      <td>2.214241e-13</td>\n",
       "      <td>9.063845e-13</td>\n",
       "    </tr>\n",
       "    <tr>\n",
       "      <th>3</th>\n",
       "      <td>1180660</td>\n",
       "      <td>713175</td>\n",
       "      <td>1</td>\n",
       "      <td>0</td>\n",
       "      <td>0.006452</td>\n",
       "      <td>0.000000</td>\n",
       "      <td>0.024056</td>\n",
       "      <td>20</td>\n",
       "      <td>5</td>\n",
       "      <td>144</td>\n",
       "      <td>...</td>\n",
       "      <td>-1.079379e-13</td>\n",
       "      <td>4.482477e-13</td>\n",
       "      <td>5.477914e-13</td>\n",
       "      <td>7.930355e-15</td>\n",
       "      <td>3.025824e-11</td>\n",
       "      <td>1.855408e-16</td>\n",
       "      <td>100</td>\n",
       "      <td>1728</td>\n",
       "      <td>8.907890e-15</td>\n",
       "      <td>6.059990e-20</td>\n",
       "    </tr>\n",
       "    <tr>\n",
       "      <th>4</th>\n",
       "      <td>1350443</td>\n",
       "      <td>1172562</td>\n",
       "      <td>1</td>\n",
       "      <td>0</td>\n",
       "      <td>0.000000</td>\n",
       "      <td>0.000000</td>\n",
       "      <td>0.000000</td>\n",
       "      <td>3</td>\n",
       "      <td>3</td>\n",
       "      <td>2</td>\n",
       "      <td>...</td>\n",
       "      <td>-9.049237e-17</td>\n",
       "      <td>1.289442e-13</td>\n",
       "      <td>5.286703e-15</td>\n",
       "      <td>4.544559e-18</td>\n",
       "      <td>1.731492e-17</td>\n",
       "      <td>6.274625e-20</td>\n",
       "      <td>9</td>\n",
       "      <td>10</td>\n",
       "      <td>1.602594e-27</td>\n",
       "      <td>3.396059e-26</td>\n",
       "    </tr>\n",
       "  </tbody>\n",
       "</table>\n",
       "<p>5 rows × 59 columns</p>\n",
       "</div>"
      ],
      "text/plain": [
       "   source_node  destination_node  indicator_link  jaccard_followers  \\\n",
       "0       848424            784690               1                  0   \n",
       "1       819119           1437161               1                  0   \n",
       "2      1593038           1192744               1                  0   \n",
       "3      1180660            713175               1                  0   \n",
       "4      1350443           1172562               1                  0   \n",
       "\n",
       "   jaccard_followees  cosine_followers  cosine_followees  num_followers_s  \\\n",
       "0           0.000000          0.029161          0.000000                6   \n",
       "1           0.034483          0.051110          0.098058                5   \n",
       "2           0.269231          0.124784          0.449977               18   \n",
       "3           0.006452          0.000000          0.024056               20   \n",
       "4           0.000000          0.000000          0.000000                3   \n",
       "\n",
       "   num_followers_d  num_followees_s  ...     svd_v_d_1     svd_v_d_2  \\\n",
       "0               14                6  ... -9.994076e-10  5.791913e-10   \n",
       "1               35                4  ... -1.176043e-11  5.985308e-11   \n",
       "2               17               11  ... -8.276594e-13  3.945479e-13   \n",
       "3                5              144  ... -1.079379e-13  4.482477e-13   \n",
       "4                3                2  ... -9.049237e-17  1.289442e-13   \n",
       "\n",
       "      svd_v_d_3     svd_v_d_4     svd_v_d_5     svd_v_d_6  \\\n",
       "0  3.512357e-07  2.486658e-09  2.771145e-09  1.727564e-12   \n",
       "1  5.767287e-10  2.145986e-08  6.276104e-10  1.064631e-10   \n",
       "2  4.041333e-07  1.031985e-13  6.014756e-13  3.508375e-14   \n",
       "3  5.477914e-13  7.930355e-15  3.025824e-11  1.855408e-16   \n",
       "4  5.286703e-15  4.544559e-18  1.731492e-17  6.274625e-20   \n",
       "\n",
       "   prefer_Attach_followers  prefer_Attach_followees     svd_dot_u  \\\n",
       "0                       84                       54  8.425199e-20   \n",
       "1                      175                      104  1.162202e-18   \n",
       "2                      306                      242  2.214241e-13   \n",
       "3                      100                     1728  8.907890e-15   \n",
       "4                        9                       10  1.602594e-27   \n",
       "\n",
       "      svd_dot_v  \n",
       "0  2.074810e-17  \n",
       "1  3.295557e-17  \n",
       "2  9.063845e-13  \n",
       "3  6.059990e-20  \n",
       "4  3.396059e-26  \n",
       "\n",
       "[5 rows x 59 columns]"
      ]
     },
     "execution_count": 20,
     "metadata": {},
     "output_type": "execute_result"
    }
   ],
   "source": [
    "df_final_test.head()"
   ]
  },
  {
   "cell_type": "code",
   "execution_count": 22,
   "metadata": {},
   "outputs": [],
   "source": [
    "hdf = HDFStore('storage_sample_stage6.h5')\n",
    "hdf.put('train_df',df_final_train, format='table', data_columns=True)\n",
    "hdf.put('test_df',df_final_test, format='table', data_columns=True)\n",
    "hdf.close()"
   ]
  },
  {
   "cell_type": "markdown",
   "metadata": {},
   "source": [
    "## Modeling "
   ]
  },
  {
   "cell_type": "code",
   "execution_count": 24,
   "metadata": {},
   "outputs": [
    {
     "name": "stdout",
     "output_type": "stream",
     "text": [
      "(100001, 59)\n",
      "(50001, 59)\n",
      "Index(['source_node', 'destination_node', 'indicator_link',\n",
      "       'jaccard_followers', 'jaccard_followees', 'cosine_followers',\n",
      "       'cosine_followees', 'num_followers_s', 'num_followers_d',\n",
      "       'num_followees_s', 'num_followees_d', 'inter_followers',\n",
      "       'inter_followees', 'adar_index', 'follows_back', 'same_comp',\n",
      "       'shortest_path', 'weight_in', 'weight_out', 'weight_f1', 'weight_f2',\n",
      "       'weight_f3', 'weight_f4', 'page_rank_s', 'page_rank_d', 'katz_s',\n",
      "       'katz_d', 'hubs_s', 'hubs_d', 'authorities_s', 'authorities_d',\n",
      "       'svd_u_s_1', 'svd_u_s_2', 'svd_u_s_3', 'svd_u_s_4', 'svd_u_s_5',\n",
      "       'svd_u_s_6', 'svd_u_d_1', 'svd_u_d_2', 'svd_u_d_3', 'svd_u_d_4',\n",
      "       'svd_u_d_5', 'svd_u_d_6', 'svd_v_s_1', 'svd_v_s_2', 'svd_v_s_3',\n",
      "       'svd_v_s_4', 'svd_v_s_5', 'svd_v_s_6', 'svd_v_d_1', 'svd_v_d_2',\n",
      "       'svd_v_d_3', 'svd_v_d_4', 'svd_v_d_5', 'svd_v_d_6',\n",
      "       'prefer_Attach_followers', 'prefer_Attach_followees', 'svd_dot_u',\n",
      "       'svd_dot_v'],\n",
      "      dtype='object')\n"
     ]
    }
   ],
   "source": [
    "print(df_final_train.shape)\n",
    "print(df_final_test.shape)\n",
    "print(df_final_test.columns)"
   ]
  },
  {
   "cell_type": "code",
   "execution_count": 25,
   "metadata": {
    "colab": {},
    "colab_type": "code",
    "id": "XRW7VZ4AHglc"
   },
   "outputs": [],
   "source": [
    "y_train = df_final_train.indicator_link\n",
    "y_test = df_final_test.indicator_link"
   ]
  },
  {
   "cell_type": "code",
   "execution_count": 26,
   "metadata": {
    "colab": {},
    "colab_type": "code",
    "id": "4lj9M_qtHglf"
   },
   "outputs": [],
   "source": [
    "df_final_train.drop(['source_node', 'destination_node','indicator_link'],axis=1,inplace=True)\n",
    "df_final_test.drop(['source_node', 'destination_node','indicator_link'],axis=1,inplace=True)"
   ]
  },
  {
   "cell_type": "code",
   "execution_count": 27,
   "metadata": {
    "scrolled": true
   },
   "outputs": [
    {
     "name": "stdout",
     "output_type": "stream",
     "text": [
      "(100001, 56)\n",
      "(50001, 56)\n"
     ]
    }
   ],
   "source": [
    "print(df_final_train.shape)\n",
    "print(df_final_test.shape)"
   ]
  },
  {
   "cell_type": "markdown",
   "metadata": {},
   "source": [
    "### Random Forest Model "
   ]
  },
  {
   "cell_type": "code",
   "execution_count": 61,
   "metadata": {
    "colab": {},
    "colab_type": "code",
    "id": "lIEc91uVHgli",
    "outputId": "31f04b72-ebe5-4b13-ccca-a5ae3bc4f09c"
   },
   "outputs": [
    {
     "name": "stdout",
     "output_type": "stream",
     "text": [
      "Estimators =  10 Train Score 0.9125671635550167 test Score 0.8856584204709683\n",
      "Estimators =  50 Train Score 0.9201432520733853 test Score 0.9016778452489262\n",
      "Estimators =  100 Train Score 0.9221473001934034 test Score 0.9105257634589149\n",
      "Estimators =  250 Train Score 0.9217145548751765 test Score 0.9117850771329625\n",
      "Estimators =  450 Train Score 0.9222911804414489 test Score 0.9123646436665828\n"
     ]
    },
    {
     "data": {
      "text/plain": [
       "Text(0.5, 1.0, 'Estimators vs score at depth of 5')"
      ]
     },
     "execution_count": 61,
     "metadata": {},
     "output_type": "execute_result"
    },
    {
     "data": {
      "image/png": "[encoded data removed]",
      "text/plain": [
       "<Figure size 432x288 with 1 Axes>"
      ]
     },
     "metadata": {
      "needs_background": "light"
     },
     "output_type": "display_data"
    }
   ],
   "source": [
    "estimators = [10,50,100,250,450]\n",
    "train_scores = []\n",
    "test_scores = []\n",
    "for i in estimators:\n",
    "    clf = RandomForestClassifier(bootstrap=True, class_weight=None, criterion='gini',\n",
    "            max_depth=5, max_features='auto', max_leaf_nodes=None,\n",
    "            min_impurity_decrease=0.0, min_impurity_split=None,\n",
    "            min_samples_leaf=52, min_samples_split=120,\n",
    "            min_weight_fraction_leaf=0.0, n_estimators=i, n_jobs=-1,random_state=25,verbose=0,warm_start=False)\n",
    "    clf.fit(df_final_train,y_train)\n",
    "    train_sc = f1_score(y_train,clf.predict(df_final_train))\n",
    "    test_sc = f1_score(y_test,clf.predict(df_final_test))\n",
    "    test_scores.append(test_sc)\n",
    "    train_scores.append(train_sc)\n",
    "    print('Estimators = ',i,'Train Score',train_sc,'test Score',test_sc)\n",
    "plt.plot(estimators,train_scores,label='Train Score')\n",
    "plt.plot(estimators,test_scores,label='Test Score')\n",
    "plt.xlabel('Estimators')\n",
    "plt.ylabel('Score')\n",
    "plt.title('Estimators vs score at depth of 5')"
   ]
  },
  {
   "cell_type": "code",
   "execution_count": 62,
   "metadata": {
    "colab": {},
    "colab_type": "code",
    "id": "nZxhrTdQHglm",
    "outputId": "53382b8e-148d-4c22-8066-d9807fb27012"
   },
   "outputs": [
    {
     "name": "stdout",
     "output_type": "stream",
     "text": [
      "depth =  3 Train Score 0.8956640555735191 test Score 0.8658235394311019\n",
      "depth =  9 Train Score 0.9572044901547836 test Score 0.9178085083922727\n",
      "depth =  11 Train Score 0.961705503626026 test Score 0.9240737246021261\n",
      "depth =  15 Train Score 0.9643801081608587 test Score 0.9249653783205338\n",
      "depth =  20 Train Score 0.9638750216058483 test Score 0.9241431451612904\n",
      "depth =  35 Train Score 0.9640862905440454 test Score 0.9244050494654372\n",
      "depth =  50 Train Score 0.9640862905440454 test Score 0.9244050494654372\n",
      "depth =  70 Train Score 0.9640862905440454 test Score 0.9244050494654372\n",
      "depth =  130 Train Score 0.9640862905440454 test Score 0.9244050494654372\n"
     ]
    },
    {
     "data": {
      "image/png": "[encoded data removed]",
      "text/plain": [
       "<Figure size 432x288 with 1 Axes>"
      ]
     },
     "metadata": {
      "needs_background": "light"
     },
     "output_type": "display_data"
    }
   ],
   "source": [
    "depths = [3,9,11,15,20,35,50,70,130]\n",
    "train_scores = []\n",
    "test_scores = []\n",
    "for i in depths:\n",
    "    clf = RandomForestClassifier(bootstrap=True, class_weight=None, criterion='gini',\n",
    "            max_depth=i, max_features='auto', max_leaf_nodes=None,\n",
    "            min_impurity_decrease=0.0, min_impurity_split=None,\n",
    "            min_samples_leaf=52, min_samples_split=120,\n",
    "            min_weight_fraction_leaf=0.0, n_estimators=100, n_jobs=-1,random_state=25,verbose=0,warm_start=False)\n",
    "    clf.fit(df_final_train,y_train)\n",
    "    train_sc = f1_score(y_train,clf.predict(df_final_train))\n",
    "    test_sc = f1_score(y_test,clf.predict(df_final_test))\n",
    "    test_scores.append(test_sc)\n",
    "    train_scores.append(train_sc)\n",
    "    print('depth = ',i,'Train Score',train_sc,'test Score',test_sc)\n",
    "plt.plot(depths,train_scores,label='Train Score')\n",
    "plt.plot(depths,test_scores,label='Test Score')\n",
    "plt.xlabel('Depth')\n",
    "plt.ylabel('Score')\n",
    "plt.title('Depth vs score at depth of 5 at estimators = 115')\n",
    "plt.show()"
   ]
  },
  {
   "cell_type": "code",
   "execution_count": 63,
   "metadata": {
    "colab": {},
    "colab_type": "code",
    "id": "MrG1Lfl3Hglq",
    "outputId": "7b6e3c97-8d66-455d-cd79-213f824719cc"
   },
   "outputs": [
    {
     "name": "stdout",
     "output_type": "stream",
     "text": [
      "mean test scores [0.93778768 0.9591602  0.9604556  0.95973976 0.93946592]\n",
      "mean train scores [0.93800534 0.95987683 0.96157692 0.96027162 0.93975931]\n"
     ]
    }
   ],
   "source": [
    "from sklearn.metrics import f1_score\n",
    "from sklearn.ensemble import RandomForestClassifier\n",
    "from sklearn.metrics import f1_score\n",
    "from sklearn.model_selection import RandomizedSearchCV\n",
    "from scipy.stats import randint as sp_randint\n",
    "from scipy.stats import uniform\n",
    "\n",
    "param_dist = {\"n_estimators\":sp_randint(70,125),\n",
    "              \"max_depth\": sp_randint(3,18),\n",
    "              \"min_samples_split\": sp_randint(110,190),\n",
    "              \"min_samples_leaf\": sp_randint(25,65)}\n",
    "\n",
    "clf = RandomForestClassifier(random_state=25,n_jobs=-1)\n",
    "\n",
    "rf_random = RandomizedSearchCV(clf, param_distributions=param_dist,\n",
    "                                   n_iter=5,cv=10,scoring='f1',random_state=25,return_train_score=True)\n",
    "\n",
    "rf_random.fit(df_final_train,y_train)\n",
    "print('mean test scores',rf_random.cv_results_['mean_test_score'])\n",
    "print('mean train scores',rf_random.cv_results_['mean_train_score'])"
   ]
  },
  {
   "cell_type": "code",
   "execution_count": 64,
   "metadata": {
    "colab": {},
    "colab_type": "code",
    "id": "hme3j_diHglu",
    "outputId": "581ccc02-7770-4a94-d003-257af4e81570"
   },
   "outputs": [
    {
     "name": "stdout",
     "output_type": "stream",
     "text": [
      "RandomForestClassifier(bootstrap=True, class_weight=None, criterion='gini',\n",
      "                       max_depth=12, max_features='auto', max_leaf_nodes=None,\n",
      "                       min_impurity_decrease=0.0, min_impurity_split=None,\n",
      "                       min_samples_leaf=56, min_samples_split=179,\n",
      "                       min_weight_fraction_leaf=0.0, n_estimators=71, n_jobs=-1,\n",
      "                       oob_score=False, random_state=25, verbose=0,\n",
      "                       warm_start=False)\n"
     ]
    }
   ],
   "source": [
    "print(rf_random.best_estimator_)"
   ]
  },
  {
   "cell_type": "code",
   "execution_count": 69,
   "metadata": {
    "colab": {},
    "colab_type": "code",
    "id": "qu4KIEweHglx"
   },
   "outputs": [],
   "source": [
    "clf = RandomForestClassifier(bootstrap=True, class_weight=None, criterion='gini',\n",
    "            max_depth=12, max_features='auto', max_leaf_nodes=None,\n",
    "            min_impurity_decrease=0.0, min_impurity_split=None,\n",
    "            min_samples_leaf=28, min_samples_split=111,\n",
    "            min_weight_fraction_leaf=0.0, n_estimators=71, n_jobs=-1,\n",
    "            oob_score=False, random_state=25, verbose=0, warm_start=False)"
   ]
  },
  {
   "cell_type": "code",
   "execution_count": 70,
   "metadata": {
    "colab": {},
    "colab_type": "code",
    "id": "Dax83GfLHgl1"
   },
   "outputs": [],
   "source": [
    "clf.fit(df_final_train,y_train)\n",
    "y_train_pred = clf.predict(df_final_train)\n",
    "y_test_pred = clf.predict(df_final_test)"
   ]
  },
  {
   "cell_type": "code",
   "execution_count": 71,
   "metadata": {
    "colab": {},
    "colab_type": "code",
    "id": "PTtAp1iTHgl4",
    "outputId": "e2e3d725-3c4d-4374-d303-8f294b570977"
   },
   "outputs": [
    {
     "name": "stdout",
     "output_type": "stream",
     "text": [
      "Train f1 score 0.9643406117982389\n",
      "Test f1 score 0.9188184084858217\n"
     ]
    }
   ],
   "source": [
    "from sklearn.metrics import f1_score\n",
    "print('Train f1 score',f1_score(y_train,y_train_pred))\n",
    "print('Test f1 score',f1_score(y_test,y_test_pred))"
   ]
  },
  {
   "cell_type": "code",
   "execution_count": 68,
   "metadata": {
    "colab": {},
    "colab_type": "code",
    "id": "5XfUkZYQHgl7"
   },
   "outputs": [],
   "source": [
    "from sklearn.metrics import confusion_matrix\n",
    "def plot_confusion_matrix(test_y, predict_y):\n",
    "    C = confusion_matrix(test_y, predict_y)\n",
    "    \n",
    "    A =(((C.T)/(C.sum(axis=1))).T)\n",
    "    \n",
    "    B =(C/C.sum(axis=0))\n",
    "    plt.figure(figsize=(20,4))\n",
    "    \n",
    "    labels = [0,1]\n",
    "    # representing A in heatmap format\n",
    "    cmap=sns.light_palette(\"blue\")\n",
    "    plt.subplot(1, 3, 1)\n",
    "    sns.heatmap(C, annot=True, cmap=cmap, fmt=\".3f\", xticklabels=labels, yticklabels=labels)\n",
    "    plt.xlabel('Predicted Class')\n",
    "    plt.ylabel('Original Class')\n",
    "    plt.title(\"Confusion matrix\")\n",
    "    \n",
    "    plt.subplot(1, 3, 2)\n",
    "    sns.heatmap(B, annot=True, cmap=cmap, fmt=\".3f\", xticklabels=labels, yticklabels=labels)\n",
    "    plt.xlabel('Predicted Class')\n",
    "    plt.ylabel('Original Class')\n",
    "    plt.title(\"Precision matrix\")\n",
    "    \n",
    "    plt.subplot(1, 3, 3)\n",
    "    # representing B in heatmap format\n",
    "    sns.heatmap(A, annot=True, cmap=cmap, fmt=\".3f\", xticklabels=labels, yticklabels=labels)\n",
    "    plt.xlabel('Predicted Class')\n",
    "    plt.ylabel('Original Class')\n",
    "    plt.title(\"Recall matrix\")\n",
    "    \n",
    "    plt.show()"
   ]
  },
  {
   "cell_type": "code",
   "execution_count": 37,
   "metadata": {
    "colab": {},
    "colab_type": "code",
    "id": "s6t11dhTHgl-",
    "outputId": "189de3be-1c99-4653-f56f-12b18b0f4db7"
   },
   "outputs": [
    {
     "name": "stdout",
     "output_type": "stream",
     "text": [
      "Train confusion_matrix\n"
     ]
    },
    {
     "data": {
      "image/png": "[encoded data removed]",
      "text/plain": [
       "<Figure size 1440x288 with 6 Axes>"
      ]
     },
     "metadata": {
      "needs_background": "light"
     },
     "output_type": "display_data"
    },
    {
     "name": "stdout",
     "output_type": "stream",
     "text": [
      "Test confusion_matrix\n"
     ]
    },
    {
     "data": {
      "image/png": "[encoded data removed]",
      "text/plain": [
       "<Figure size 1440x288 with 6 Axes>"
      ]
     },
     "metadata": {
      "needs_background": "light"
     },
     "output_type": "display_data"
    }
   ],
   "source": [
    "print('Train confusion_matrix')\n",
    "plot_confusion_matrix(y_train,y_train_pred)\n",
    "print('Test confusion_matrix')\n",
    "plot_confusion_matrix(y_test,y_test_pred)"
   ]
  },
  {
   "cell_type": "code",
   "execution_count": 38,
   "metadata": {
    "colab": {},
    "colab_type": "code",
    "id": "61TF-VLeHgmD",
    "outputId": "795f1b39-61c7-470f-e2d0-1fe6dc7ac5fd"
   },
   "outputs": [
    {
     "data": {
      "image/png": "[encoded data removed]",
      "text/plain": [
       "<Figure size 432x288 with 1 Axes>"
      ]
     },
     "metadata": {
      "needs_background": "light"
     },
     "output_type": "display_data"
    }
   ],
   "source": [
    "from sklearn.metrics import roc_curve, auc\n",
    "fpr,tpr,ths = roc_curve(y_test,y_test_pred)\n",
    "auc_sc = auc(fpr, tpr)\n",
    "plt.plot(fpr, tpr, color='navy',label='ROC curve (area = %0.2f)' % auc_sc)\n",
    "plt.xlabel('False Positive Rate')\n",
    "plt.ylabel('True Positive Rate')\n",
    "plt.title('Receiver operating characteristic with test data')\n",
    "plt.legend()\n",
    "plt.show()"
   ]
  },
  {
   "cell_type": "code",
   "execution_count": 39,
   "metadata": {
    "colab": {},
    "colab_type": "code",
    "id": "HEZ7uvN6HgmK",
    "outputId": "6f762256-54fc-4e2f-865b-22342033eb2c",
    "scrolled": false
   },
   "outputs": [
    {
     "data": {
      "image/png": "[encoded data removed]",
      "text/plain": [
       "<Figure size 720x864 with 1 Axes>"
      ]
     },
     "metadata": {
      "needs_background": "light"
     },
     "output_type": "display_data"
    }
   ],
   "source": [
    "features = df_final_train.columns\n",
    "importances = clf.feature_importances_\n",
    "indices = (np.argsort(importances))[-25:]\n",
    "plt.figure(figsize=(10,12))\n",
    "plt.title('Feature Importances')\n",
    "plt.barh(range(len(indices)), importances[indices], color='r', align='center')\n",
    "plt.yticks(range(len(indices)), [features[i] for i in indices])\n",
    "plt.xlabel('Relative Importance')\n",
    "plt.show()"
   ]
  },
  {
   "cell_type": "markdown",
   "metadata": {},
   "source": [
    "## XGBoost Model "
   ]
  },
  {
   "cell_type": "code",
   "execution_count": 49,
   "metadata": {
    "scrolled": false
   },
   "outputs": [
    {
     "name": "stdout",
     "output_type": "stream",
     "text": [
      "Estimators =  10 Train Score 0.9308368685741019 test Score 0.9262258496461138\n",
      "Estimators =  50 Train Score 0.9737833051761688 test Score 0.9308138921144304\n",
      "Estimators =  100 Train Score 0.9776440066480199 test Score 0.928811126822988\n",
      "Estimators =  250 Train Score 0.9867015917791658 test Score 0.926200901072403\n",
      "Estimators =  450 Train Score 0.9944120627213354 test Score 0.922270111891972\n"
     ]
    },
    {
     "data": {
      "text/plain": [
       "Text(0.5, 1.0, 'Estimators vs score at depth of 5')"
      ]
     },
     "execution_count": 49,
     "metadata": {},
     "output_type": "execute_result"
    },
    {
     "data": {
      "image/png": "[encoded data removed]",
      "text/plain": [
       "<Figure size 432x288 with 1 Axes>"
      ]
     },
     "metadata": {
      "needs_background": "light"
     },
     "output_type": "display_data"
    }
   ],
   "source": [
    "estimators = [10,50,100,250,450]\n",
    "train_scores = []\n",
    "test_scores = []\n",
    "for i in estimators:\n",
    "    clf=xgb.XGBClassifier(base_score=0.5, booster='gbtree', colsample_bylevel=1,\n",
    "       colsample_bynode=1, colsample_bytree=1, gamma=0, learning_rate=0.1,\n",
    "       max_delta_step=0, max_depth=5, min_child_weight=1, missing=None,\n",
    "       n_estimators=i, n_jobs=1, nthread=None,\n",
    "       objective='binary:logistic', random_state=0, reg_alpha=0,\n",
    "       reg_lambda=1, scale_pos_weight=1, seed=None, silent=None,\n",
    "       subsample=1, verbosity=1)\n",
    "    clf.fit(df_final_train,y_train)\n",
    "    train_sc = f1_score(y_train,clf.predict(df_final_train))\n",
    "    test_sc = f1_score(y_test,clf.predict(df_final_test))\n",
    "    test_scores.append(test_sc)\n",
    "    train_scores.append(train_sc)\n",
    "    print('Estimators = ',i,'Train Score',train_sc,'test Score',test_sc)\n",
    "plt.plot(estimators,train_scores,label='Train Score')\n",
    "plt.plot(estimators,test_scores,label='Test Score')\n",
    "plt.xlabel('Estimators')\n",
    "plt.ylabel('Score')\n",
    "plt.title('Estimators vs score at depth of 5')"
   ]
  },
  {
   "cell_type": "code",
   "execution_count": 52,
   "metadata": {},
   "outputs": [
    {
     "name": "stdout",
     "output_type": "stream",
     "text": [
      "depth =  3 Train Score 0.9656810982048574 test Score 0.923206395960446\n",
      "depth =  9 Train Score 0.9800449292667625 test Score 0.9276953281682112\n",
      "depth =  11 Train Score 0.9855575979154463 test Score 0.9273061250343094\n",
      "depth =  15 Train Score 0.9964054059481495 test Score 0.9304450338933098\n",
      "depth =  20 Train Score 0.9998798919027124 test Score 0.9277906731377928\n",
      "depth =  35 Train Score 0.9999399471534951 test Score 0.9318568636927149\n",
      "depth =  50 Train Score 0.9999399471534951 test Score 0.9318568636927149\n",
      "depth =  70 Train Score 0.9999399471534951 test Score 0.9318568636927149\n",
      "depth =  130 Train Score 0.9999399471534951 test Score 0.9318568636927149\n"
     ]
    },
    {
     "data": {
      "image/png": "[encoded data removed]",
      "text/plain": [
       "<Figure size 432x288 with 1 Axes>"
      ]
     },
     "metadata": {
      "needs_background": "light"
     },
     "output_type": "display_data"
    }
   ],
   "source": [
    "depths = [3,9,11,15,20,35,50,70,130]\n",
    "train_scores = []\n",
    "test_scores = []\n",
    "for i in depths:\n",
    "    clf=xgb.XGBClassifier(base_score=0.5, booster='gbtree', colsample_bylevel=1,\n",
    "       colsample_bynode=1, colsample_bytree=1, gamma=0, learning_rate=0.1,\n",
    "       max_delta_step=0, max_depth=i, min_child_weight=1, missing=None,\n",
    "       n_estimators=51, n_jobs=1, nthread=None,\n",
    "       objective='binary:logistic', random_state=0, reg_alpha=0,\n",
    "       reg_lambda=1, scale_pos_weight=1, seed=None, silent=None,\n",
    "       subsample=1, verbosity=1)\n",
    "    clf.fit(df_final_train,y_train)\n",
    "    train_sc = f1_score(y_train,clf.predict(df_final_train))\n",
    "    test_sc = f1_score(y_test,clf.predict(df_final_test))\n",
    "    test_scores.append(test_sc)\n",
    "    train_scores.append(train_sc)\n",
    "    print('depth = ',i,'Train Score',train_sc,'test Score',test_sc)\n",
    "plt.plot(depths,train_scores,label='Train Score')\n",
    "plt.plot(depths,test_scores,label='Test Score')\n",
    "plt.xlabel('Depth')\n",
    "plt.ylabel('Score')\n",
    "plt.title('Depth vs score at depth of 5 at estimators = 51')\n",
    "plt.show()"
   ]
  },
  {
   "cell_type": "code",
   "execution_count": 53,
   "metadata": {},
   "outputs": [
    {
     "name": "stdout",
     "output_type": "stream",
     "text": [
      "mean test scores [0.9762966  0.97693264 0.97423201 0.97632381 0.97507802]\n",
      "mean train scores [0.98307821 0.98918456 0.97619642 0.98301648 0.98101899]\n"
     ]
    }
   ],
   "source": [
    "import xgboost as xgb\n",
    "clf = xgb.XGBClassifier()\n",
    "param_dist = {\"n_estimators\":sp_randint(15,75),\n",
    "              \"max_depth\": sp_randint(6,18)\n",
    "              }\n",
    "model = RandomizedSearchCV(clf, param_distributions=param_dist,\n",
    "                                   n_iter=5,cv=3,scoring='f1',random_state=25,return_train_score=True)\n",
    "\n",
    "\n",
    "model.fit(df_final_train,y_train)\n",
    "print('mean test scores',model.cv_results_['mean_test_score'])\n",
    "print('mean train scores',model.cv_results_['mean_train_score'])"
   ]
  },
  {
   "cell_type": "code",
   "execution_count": 54,
   "metadata": {},
   "outputs": [
    {
     "name": "stdout",
     "output_type": "stream",
     "text": [
      "XGBClassifier(base_score=0.5, booster='gbtree', colsample_bylevel=1,\n",
      "              colsample_bynode=1, colsample_bytree=1, gamma=0,\n",
      "              learning_rate=0.1, max_delta_step=0, max_depth=12,\n",
      "              min_child_weight=1, missing=None, n_estimators=38, n_jobs=1,\n",
      "              nthread=None, objective='binary:logistic', random_state=0,\n",
      "              reg_alpha=0, reg_lambda=1, scale_pos_weight=1, seed=None,\n",
      "              silent=None, subsample=1, verbosity=1)\n"
     ]
    }
   ],
   "source": [
    "print(model.best_estimator_)"
   ]
  },
  {
   "cell_type": "code",
   "execution_count": 55,
   "metadata": {},
   "outputs": [],
   "source": [
    "clf=xgb.XGBClassifier(base_score=0.5, booster='gbtree', colsample_bylevel=1,\n",
    "       colsample_bynode=1, colsample_bytree=1, gamma=0, learning_rate=0.1,\n",
    "       max_delta_step=0, max_depth=12, min_child_weight=1, missing=None,\n",
    "       n_estimators=38, n_jobs=1, nthread=None,\n",
    "       objective='binary:logistic', random_state=0, reg_alpha=0,\n",
    "       reg_lambda=1, scale_pos_weight=1, seed=None, silent=None,\n",
    "       subsample=1, verbosity=1)"
   ]
  },
  {
   "cell_type": "code",
   "execution_count": 56,
   "metadata": {},
   "outputs": [],
   "source": [
    "clf.fit(df_final_train,y_train)\n",
    "y_train_pred = clf.predict(df_final_train)\n",
    "y_test_pred = clf.predict(df_final_test)"
   ]
  },
  {
   "cell_type": "code",
   "execution_count": 57,
   "metadata": {},
   "outputs": [
    {
     "name": "stdout",
     "output_type": "stream",
     "text": [
      "Train f1 score 0.9873522494423078\n",
      "Test f1 score 0.931689563040414\n"
     ]
    }
   ],
   "source": [
    "from sklearn.metrics import f1_score\n",
    "print('Train f1 score',f1_score(y_train,y_train_pred))\n",
    "print('Test f1 score',f1_score(y_test,y_test_pred))"
   ]
  },
  {
   "cell_type": "code",
   "execution_count": 58,
   "metadata": {},
   "outputs": [
    {
     "name": "stdout",
     "output_type": "stream",
     "text": [
      "Train confusion_matrix\n"
     ]
    },
    {
     "data": {
      "image/png": "[encoded data removed]",
      "text/plain": [
       "<Figure size 1440x288 with 6 Axes>"
      ]
     },
     "metadata": {
      "needs_background": "light"
     },
     "output_type": "display_data"
    },
    {
     "name": "stdout",
     "output_type": "stream",
     "text": [
      "Test confusion_matrix\n"
     ]
    },
    {
     "data": {
      "image/png": "[encoded data removed]",
      "text/plain": [
       "<Figure size 1440x288 with 6 Axes>"
      ]
     },
     "metadata": {
      "needs_background": "light"
     },
     "output_type": "display_data"
    }
   ],
   "source": [
    "print('Train confusion_matrix')\n",
    "plot_confusion_matrix(y_train,y_train_pred)\n",
    "print('Test confusion_matrix')\n",
    "plot_confusion_matrix(y_test,y_test_pred)"
   ]
  },
  {
   "cell_type": "code",
   "execution_count": 59,
   "metadata": {},
   "outputs": [
    {
     "data": {
      "image/png": "[encoded data removed]",
      "text/plain": [
       "<Figure size 432x288 with 1 Axes>"
      ]
     },
     "metadata": {
      "needs_background": "light"
     },
     "output_type": "display_data"
    }
   ],
   "source": [
    "from sklearn.metrics import roc_curve, auc\n",
    "fpr,tpr,ths = roc_curve(y_test,y_test_pred)\n",
    "auc_sc = auc(fpr, tpr)\n",
    "plt.plot(fpr, tpr, color='navy',label='ROC curve (area = %0.2f)' % auc_sc)\n",
    "plt.xlabel('False Positive Rate')\n",
    "plt.ylabel('True Positive Rate')\n",
    "plt.title('Receiver operating characteristic with test data')\n",
    "plt.legend()\n",
    "plt.show()"
   ]
  },
  {
   "cell_type": "code",
   "execution_count": 60,
   "metadata": {
    "scrolled": false
   },
   "outputs": [
    {
     "data": {
      "image/png": "[encoded data removed]",
      "text/plain": [
       "<Figure size 720x864 with 1 Axes>"
      ]
     },
     "metadata": {
      "needs_background": "light"
     },
     "output_type": "display_data"
    }
   ],
   "source": [
    "features = df_final_train.columns\n",
    "importances = clf.feature_importances_\n",
    "indices = (np.argsort(importances))[-25:]\n",
    "plt.figure(figsize=(10,12))\n",
    "plt.title('Feature Importances')\n",
    "plt.barh(range(len(indices)), importances[indices], color='r', align='center')\n",
    "plt.yticks(range(len(indices)), [features[i] for i in indices])\n",
    "plt.xlabel('Relative Importance')\n",
    "plt.show()"
   ]
  },
  {
   "cell_type": "markdown",
   "metadata": {},
   "source": [
    "### Prettytable "
   ]
  },
  {
   "cell_type": "code",
   "execution_count": 73,
   "metadata": {},
   "outputs": [
    {
     "name": "stdout",
     "output_type": "stream",
     "text": [
      "+---------------+--------------+-----------+----------------+---------------+\n",
      "|     Model     | n_estimators | max_depth | Train f1-Score | Test f1-Score |\n",
      "+---------------+--------------+-----------+----------------+---------------+\n",
      "| Random Forest |      71      |     12    |     0.9643     |     0.9188    |\n",
      "|    XGBOOST    |      38      |     12    |     0.9873     |     0.9316    |\n",
      "+---------------+--------------+-----------+----------------+---------------+\n"
     ]
    }
   ],
   "source": [
    "from prettytable import PrettyTable \n",
    "ptable = PrettyTable()\n",
    "ptable.field_names = [\"Model\", \"n_estimators\", \"max_depth\", \"Train f1-Score\",\"Test f1-Score\"]\n",
    "ptable.add_row(['Random Forest','71','12','0.9643','0.9188'])\n",
    "ptable.add_row(['XGBOOST','38','12','0.9873','0.9316'])\n",
    "print(ptable)"
   ]
  },
  {
   "cell_type": "markdown",
   "metadata": {},
   "source": [
    "### Conclusions "
   ]
  },
  {
   "cell_type": "markdown",
   "metadata": {},
   "source": [
    "1. We have added Preferential Attachment and svd dot features in our dataset.\n",
    "2. follows_back feature is most important feature in both models.\n",
    "3. Preferential attachment feature is important in Ransom forest model but svd dot feature is not important.\n",
    "4. In XGBoost model, both preferential attachment and svd dot features are not important.\n",
    "5. Test f1-score of XGBoost model is better than Random Forest model."
   ]
  },
  {
   "cell_type": "code",
   "execution_count": null,
   "metadata": {},
   "outputs": [],
   "source": []
  }
 ],
 "metadata": {
  "colab": {
   "collapsed_sections": [],
   "name": "FB_Models.ipynb",
   "provenance": [],
   "version": "0.3.2"
  },
  "kernelspec": {
   "display_name": "Python 3",
   "language": "python",
   "name": "python3"
  },
  "language_info": {
   "codemirror_mode": {
    "name": "ipython",
    "version": 3
   },
   "file_extension": ".py",
   "mimetype": "text/x-python",
   "name": "python",
   "nbconvert_exporter": "python",
   "pygments_lexer": "ipython3",
   "version": "3.7.4"
  }
 },
 "nbformat": 4,
 "nbformat_minor": 1
}
